{
 "cells": [
  {
   "cell_type": "markdown",
   "metadata": {},
   "source": [
    "# Trabajo 1 Metodos Estadísticos"
   ]
  },
  {
   "cell_type": "markdown",
   "metadata": {},
   "source": [
    "Integrantes: \n"
   ]
  },
  {
   "cell_type": "code",
   "execution_count": 2,
   "metadata": {},
   "outputs": [
    {
     "name": "stderr",
     "output_type": "stream",
     "text": [
      "The following objects are masked from datos (pos = 3):\n",
      "\n",
      "    X1, X2, X3, X4, X5, Y\n",
      "\n"
     ]
    },
    {
     "data": {
      "text/html": [
       "<table>\n",
       "<thead><tr><th scope=col>Y</th><th scope=col>X1</th><th scope=col>X2</th><th scope=col>X3</th><th scope=col>X4</th><th scope=col>X5</th></tr></thead>\n",
       "<tbody>\n",
       "\t<tr><td>34.7 </td><td>6.506</td><td>6.204</td><td>1.392</td><td>5    </td><td>37   </td></tr>\n",
       "\t<tr><td>40.6 </td><td>9.200</td><td>7.980</td><td>2.000</td><td>5    </td><td>30   </td></tr>\n",
       "\t<tr><td>28.9 </td><td>5.604</td><td>9.520</td><td>1.501</td><td>6    </td><td>32   </td></tr>\n",
       "\t<tr><td>31.0 </td><td>6.271</td><td>6.520</td><td>0.975</td><td>6    </td><td>28   </td></tr>\n",
       "\t<tr><td>25.9 </td><td>4.918</td><td>3.472</td><td>0.998</td><td>7    </td><td>42   </td></tr>\n",
       "\t<tr><td>25.9 </td><td>3.891</td><td>2.275</td><td>0.567</td><td>4    </td><td> 3   </td></tr>\n",
       "\t<tr><td>25.9 </td><td>4.557</td><td>4.050</td><td>1.232</td><td>6    </td><td>54   </td></tr>\n",
       "\t<tr><td>30.9 </td><td>5.898</td><td>5.850</td><td>1.240</td><td>7    </td><td>51   </td></tr>\n",
       "\t<tr><td>29.5 </td><td>5.858</td><td>4.587</td><td>1.101</td><td>5    </td><td>45   </td></tr>\n",
       "\t<tr><td>27.9 </td><td>4.543</td><td>2.275</td><td>1.175</td><td>6    </td><td>40   </td></tr>\n",
       "\t<tr><td>37.9 </td><td>6.083</td><td>6.727</td><td>1.652</td><td>6    </td><td>44   </td></tr>\n",
       "\t<tr><td>41.9 </td><td>7.697</td><td>6.902</td><td>1.488</td><td>6    </td><td>22   </td></tr>\n",
       "\t<tr><td>35.9 </td><td>5.828</td><td>6.435</td><td>1.225</td><td>6    </td><td>32   </td></tr>\n",
       "\t<tr><td>30.0 </td><td>5.050</td><td>5.000</td><td>1.020</td><td>5    </td><td>46   </td></tr>\n",
       "\t<tr><td>44.5 </td><td>8.795</td><td>9.890</td><td>1.820</td><td>8    </td><td>50   </td></tr>\n",
       "\t<tr><td>43.9 </td><td>9.038</td><td>7.800</td><td>1.500</td><td>7    </td><td>23   </td></tr>\n",
       "\t<tr><td>37.5 </td><td>5.989</td><td>5.520</td><td>1.256</td><td>6    </td><td>40   </td></tr>\n",
       "\t<tr><td>40.5 </td><td>7.784</td><td>7.102</td><td>1.376</td><td>6    </td><td>17   </td></tr>\n",
       "\t<tr><td>32.0 </td><td>5.000</td><td>7.000</td><td>3.099</td><td>7    </td><td>10   </td></tr>\n",
       "\t<tr><td>36.9 </td><td>8.246</td><td>5.150</td><td>1.664</td><td>8    </td><td>50   </td></tr>\n",
       "\t<tr><td>29.5 </td><td>5.021</td><td>3.531</td><td>1.500</td><td>7    </td><td>62   </td></tr>\n",
       "\t<tr><td>29.9 </td><td>5.060</td><td>4.455</td><td>1.121</td><td>6    </td><td>42   </td></tr>\n",
       "\t<tr><td>25.9 </td><td>5.604</td><td>9.520</td><td>1.501</td><td>4    </td><td>20   </td></tr>\n",
       "\t<tr><td>29.9 </td><td>3.891</td><td>4.455</td><td>0.988</td><td>6    </td><td>56   </td></tr>\n",
       "\t<tr><td>37.9 </td><td>7.542</td><td>5.000</td><td>1.690</td><td>6    </td><td>22   </td></tr>\n",
       "\t<tr><td>41.9 </td><td>6.697</td><td>6.902</td><td>1.488</td><td>7    </td><td>22   </td></tr>\n",
       "\t<tr><td>36.9 </td><td>8.140</td><td>8.000</td><td>1.504</td><td>7    </td><td> 3   </td></tr>\n",
       "\t<tr><td>45.8 </td><td>9.142</td><td>7.326</td><td>1.831</td><td>8    </td><td>31   </td></tr>\n",
       "\t<tr><td>53.0 </td><td>9.200</td><td>9.890</td><td>5.699</td><td>8    </td><td>70   </td></tr>\n",
       "\t<tr><td>31.5 </td><td>5.300</td><td>4.988</td><td>1.552</td><td>6    </td><td>30   </td></tr>\n",
       "</tbody>\n",
       "</table>\n"
      ],
      "text/latex": [
       "\\begin{tabular}{r|llllll}\n",
       " Y & X1 & X2 & X3 & X4 & X5\\\\\n",
       "\\hline\n",
       "\t 34.7  & 6.506 & 6.204 & 1.392 & 5     & 37   \\\\\n",
       "\t 40.6  & 9.200 & 7.980 & 2.000 & 5     & 30   \\\\\n",
       "\t 28.9  & 5.604 & 9.520 & 1.501 & 6     & 32   \\\\\n",
       "\t 31.0  & 6.271 & 6.520 & 0.975 & 6     & 28   \\\\\n",
       "\t 25.9  & 4.918 & 3.472 & 0.998 & 7     & 42   \\\\\n",
       "\t 25.9  & 3.891 & 2.275 & 0.567 & 4     &  3   \\\\\n",
       "\t 25.9  & 4.557 & 4.050 & 1.232 & 6     & 54   \\\\\n",
       "\t 30.9  & 5.898 & 5.850 & 1.240 & 7     & 51   \\\\\n",
       "\t 29.5  & 5.858 & 4.587 & 1.101 & 5     & 45   \\\\\n",
       "\t 27.9  & 4.543 & 2.275 & 1.175 & 6     & 40   \\\\\n",
       "\t 37.9  & 6.083 & 6.727 & 1.652 & 6     & 44   \\\\\n",
       "\t 41.9  & 7.697 & 6.902 & 1.488 & 6     & 22   \\\\\n",
       "\t 35.9  & 5.828 & 6.435 & 1.225 & 6     & 32   \\\\\n",
       "\t 30.0  & 5.050 & 5.000 & 1.020 & 5     & 46   \\\\\n",
       "\t 44.5  & 8.795 & 9.890 & 1.820 & 8     & 50   \\\\\n",
       "\t 43.9  & 9.038 & 7.800 & 1.500 & 7     & 23   \\\\\n",
       "\t 37.5  & 5.989 & 5.520 & 1.256 & 6     & 40   \\\\\n",
       "\t 40.5  & 7.784 & 7.102 & 1.376 & 6     & 17   \\\\\n",
       "\t 32.0  & 5.000 & 7.000 & 3.099 & 7     & 10   \\\\\n",
       "\t 36.9  & 8.246 & 5.150 & 1.664 & 8     & 50   \\\\\n",
       "\t 29.5  & 5.021 & 3.531 & 1.500 & 7     & 62   \\\\\n",
       "\t 29.9  & 5.060 & 4.455 & 1.121 & 6     & 42   \\\\\n",
       "\t 25.9  & 5.604 & 9.520 & 1.501 & 4     & 20   \\\\\n",
       "\t 29.9  & 3.891 & 4.455 & 0.988 & 6     & 56   \\\\\n",
       "\t 37.9  & 7.542 & 5.000 & 1.690 & 6     & 22   \\\\\n",
       "\t 41.9  & 6.697 & 6.902 & 1.488 & 7     & 22   \\\\\n",
       "\t 36.9  & 8.140 & 8.000 & 1.504 & 7     &  3   \\\\\n",
       "\t 45.8  & 9.142 & 7.326 & 1.831 & 8     & 31   \\\\\n",
       "\t 53.0  & 9.200 & 9.890 & 5.699 & 8     & 70   \\\\\n",
       "\t 31.5  & 5.300 & 4.988 & 1.552 & 6     & 30   \\\\\n",
       "\\end{tabular}\n"
      ],
      "text/markdown": [
       "\n",
       "Y | X1 | X2 | X3 | X4 | X5 | \n",
       "|---|---|---|---|---|---|---|---|---|---|---|---|---|---|---|---|---|---|---|---|---|---|---|---|---|---|---|---|---|---|\n",
       "| 34.7  | 6.506 | 6.204 | 1.392 | 5     | 37    | \n",
       "| 40.6  | 9.200 | 7.980 | 2.000 | 5     | 30    | \n",
       "| 28.9  | 5.604 | 9.520 | 1.501 | 6     | 32    | \n",
       "| 31.0  | 6.271 | 6.520 | 0.975 | 6     | 28    | \n",
       "| 25.9  | 4.918 | 3.472 | 0.998 | 7     | 42    | \n",
       "| 25.9  | 3.891 | 2.275 | 0.567 | 4     |  3    | \n",
       "| 25.9  | 4.557 | 4.050 | 1.232 | 6     | 54    | \n",
       "| 30.9  | 5.898 | 5.850 | 1.240 | 7     | 51    | \n",
       "| 29.5  | 5.858 | 4.587 | 1.101 | 5     | 45    | \n",
       "| 27.9  | 4.543 | 2.275 | 1.175 | 6     | 40    | \n",
       "| 37.9  | 6.083 | 6.727 | 1.652 | 6     | 44    | \n",
       "| 41.9  | 7.697 | 6.902 | 1.488 | 6     | 22    | \n",
       "| 35.9  | 5.828 | 6.435 | 1.225 | 6     | 32    | \n",
       "| 30.0  | 5.050 | 5.000 | 1.020 | 5     | 46    | \n",
       "| 44.5  | 8.795 | 9.890 | 1.820 | 8     | 50    | \n",
       "| 43.9  | 9.038 | 7.800 | 1.500 | 7     | 23    | \n",
       "| 37.5  | 5.989 | 5.520 | 1.256 | 6     | 40    | \n",
       "| 40.5  | 7.784 | 7.102 | 1.376 | 6     | 17    | \n",
       "| 32.0  | 5.000 | 7.000 | 3.099 | 7     | 10    | \n",
       "| 36.9  | 8.246 | 5.150 | 1.664 | 8     | 50    | \n",
       "| 29.5  | 5.021 | 3.531 | 1.500 | 7     | 62    | \n",
       "| 29.9  | 5.060 | 4.455 | 1.121 | 6     | 42    | \n",
       "| 25.9  | 5.604 | 9.520 | 1.501 | 4     | 20    | \n",
       "| 29.9  | 3.891 | 4.455 | 0.988 | 6     | 56    | \n",
       "| 37.9  | 7.542 | 5.000 | 1.690 | 6     | 22    | \n",
       "| 41.9  | 6.697 | 6.902 | 1.488 | 7     | 22    | \n",
       "| 36.9  | 8.140 | 8.000 | 1.504 | 7     |  3    | \n",
       "| 45.8  | 9.142 | 7.326 | 1.831 | 8     | 31    | \n",
       "| 53.0  | 9.200 | 9.890 | 5.699 | 8     | 70    | \n",
       "| 31.5  | 5.300 | 4.988 | 1.552 | 6     | 30    | \n",
       "\n",
       "\n"
      ],
      "text/plain": [
       "   Y    X1    X2    X3    X4 X5\n",
       "1  34.7 6.506 6.204 1.392 5  37\n",
       "2  40.6 9.200 7.980 2.000 5  30\n",
       "3  28.9 5.604 9.520 1.501 6  32\n",
       "4  31.0 6.271 6.520 0.975 6  28\n",
       "5  25.9 4.918 3.472 0.998 7  42\n",
       "6  25.9 3.891 2.275 0.567 4   3\n",
       "7  25.9 4.557 4.050 1.232 6  54\n",
       "8  30.9 5.898 5.850 1.240 7  51\n",
       "9  29.5 5.858 4.587 1.101 5  45\n",
       "10 27.9 4.543 2.275 1.175 6  40\n",
       "11 37.9 6.083 6.727 1.652 6  44\n",
       "12 41.9 7.697 6.902 1.488 6  22\n",
       "13 35.9 5.828 6.435 1.225 6  32\n",
       "14 30.0 5.050 5.000 1.020 5  46\n",
       "15 44.5 8.795 9.890 1.820 8  50\n",
       "16 43.9 9.038 7.800 1.500 7  23\n",
       "17 37.5 5.989 5.520 1.256 6  40\n",
       "18 40.5 7.784 7.102 1.376 6  17\n",
       "19 32.0 5.000 7.000 3.099 7  10\n",
       "20 36.9 8.246 5.150 1.664 8  50\n",
       "21 29.5 5.021 3.531 1.500 7  62\n",
       "22 29.9 5.060 4.455 1.121 6  42\n",
       "23 25.9 5.604 9.520 1.501 4  20\n",
       "24 29.9 3.891 4.455 0.988 6  56\n",
       "25 37.9 7.542 5.000 1.690 6  22\n",
       "26 41.9 6.697 6.902 1.488 7  22\n",
       "27 36.9 8.140 8.000 1.504 7   3\n",
       "28 45.8 9.142 7.326 1.831 8  31\n",
       "29 53.0 9.200 9.890 5.699 8  70\n",
       "30 31.5 5.300 4.988 1.552 6  30"
      ]
     },
     "metadata": {},
     "output_type": "display_data"
    }
   ],
   "source": [
    "#lee el archivo .txt\n",
    "datos<-read.table(file.choose(), header=T )\n",
    "#CARGA BASE DE DATOS Y NOMBRES DE VARIABLES EN R\n",
    "attach(datos)\n",
    "#muestra datos\n",
    "datos\n"
   ]
  },
  {
   "cell_type": "code",
   "execution_count": 4,
   "metadata": {},
   "outputs": [
    {
     "name": "stderr",
     "output_type": "stream",
     "text": [
      "Warning message:\n",
      "\"package 'leaps' was built under R version 3.4.4\"Warning message:\n",
      "\"package 'perturb' was built under R version 3.4.4\"Warning message:\n",
      "\"package 'tseries' was built under R version 3.4.4\""
     ]
    }
   ],
   "source": [
    "#son necesarios 4 paquetes\n",
    "# es necesario instalarlos antes de cargarlos.\n",
    "library(car)\n",
    "library(leaps)\n",
    "library(perturb)\n",
    "library(tseries)"
   ]
  },
  {
   "cell_type": "code",
   "execution_count": 6,
   "metadata": {},
   "outputs": [
    {
     "name": "stdout",
     "output_type": "stream",
     "text": [
      "[1] \"Modelo: \"\n"
     ]
    },
    {
     "data": {
      "text/plain": [
       "\n",
       "Call:\n",
       "lm(formula = Y ~ X1 + X2 + X3 + X4 + X5)\n",
       "\n",
       "Residuals:\n",
       "    Min      1Q  Median      3Q     Max \n",
       "-4.9255 -2.1451  0.1387  1.5355  5.9562 \n",
       "\n",
       "Coefficients:\n",
       "             Estimate Std. Error t value Pr(>|t|)    \n",
       "(Intercept)  8.963411   3.863012   2.320   0.0291 *  \n",
       "X1           3.107643   0.537314   5.784 5.81e-06 ***\n",
       "X2          -0.112221   0.414986  -0.270   0.7891    \n",
       "X3           1.879014   0.880188   2.135   0.0432 *  \n",
       "X4           0.598985   0.712458   0.841   0.4088    \n",
       "X5          -0.002084   0.041069  -0.051   0.9599    \n",
       "---\n",
       "Signif. codes:  0 '***' 0.001 '**' 0.01 '*' 0.05 '.' 0.1 ' ' 1\n",
       "\n",
       "Residual standard error: 3.188 on 24 degrees of freedom\n",
       "Multiple R-squared:  0.8267,\tAdjusted R-squared:  0.7906 \n",
       "F-statistic: 22.89 on 5 and 24 DF,  p-value: 2.052e-08\n"
      ]
     },
     "metadata": {},
     "output_type": "display_data"
    },
    {
     "name": "stdout",
     "output_type": "stream",
     "text": [
      "[1] \"Anova:\"\n"
     ]
    },
    {
     "data": {
      "text/html": [
       "<table>\n",
       "<thead><tr><th></th><th scope=col>Df</th><th scope=col>Sum Sq</th><th scope=col>Mean Sq</th><th scope=col>F value</th><th scope=col>Pr(&gt;F)</th></tr></thead>\n",
       "<tbody>\n",
       "\t<tr><th scope=row>X1</th><td> 1          </td><td>1.080746e+03</td><td>1.080746e+03</td><td>1.063234e+02</td><td>2.691998e-10</td></tr>\n",
       "\t<tr><th scope=row>X2</th><td> 1          </td><td>1.953533e+00</td><td>1.953533e+00</td><td>1.921881e-01</td><td>6.650226e-01</td></tr>\n",
       "\t<tr><th scope=row>X3</th><td> 1          </td><td>7.317034e+01</td><td>7.317034e+01</td><td>7.198478e+00</td><td>1.300324e-02</td></tr>\n",
       "\t<tr><th scope=row>X4</th><td> 1          </td><td>7.666309e+00</td><td>7.666309e+00</td><td>7.542093e-01</td><td>3.937485e-01</td></tr>\n",
       "\t<tr><th scope=row>X5</th><td> 1          </td><td>2.617614e-02</td><td>2.617614e-02</td><td>2.575201e-03</td><td>9.599476e-01</td></tr>\n",
       "\t<tr><th scope=row>Residuals</th><td>24          </td><td>2.439527e+02</td><td>1.016470e+01</td><td>          NA</td><td>          NA</td></tr>\n",
       "</tbody>\n",
       "</table>\n"
      ],
      "text/latex": [
       "\\begin{tabular}{r|lllll}\n",
       "  & Df & Sum Sq & Mean Sq & F value & Pr(>F)\\\\\n",
       "\\hline\n",
       "\tX1 &  1           & 1.080746e+03 & 1.080746e+03 & 1.063234e+02 & 2.691998e-10\\\\\n",
       "\tX2 &  1           & 1.953533e+00 & 1.953533e+00 & 1.921881e-01 & 6.650226e-01\\\\\n",
       "\tX3 &  1           & 7.317034e+01 & 7.317034e+01 & 7.198478e+00 & 1.300324e-02\\\\\n",
       "\tX4 &  1           & 7.666309e+00 & 7.666309e+00 & 7.542093e-01 & 3.937485e-01\\\\\n",
       "\tX5 &  1           & 2.617614e-02 & 2.617614e-02 & 2.575201e-03 & 9.599476e-01\\\\\n",
       "\tResiduals & 24           & 2.439527e+02 & 1.016470e+01 &           NA &           NA\\\\\n",
       "\\end{tabular}\n"
      ],
      "text/markdown": [
       "\n",
       "| <!--/--> | Df | Sum Sq | Mean Sq | F value | Pr(>F) | \n",
       "|---|---|---|---|---|---|\n",
       "| X1 |  1           | 1.080746e+03 | 1.080746e+03 | 1.063234e+02 | 2.691998e-10 | \n",
       "| X2 |  1           | 1.953533e+00 | 1.953533e+00 | 1.921881e-01 | 6.650226e-01 | \n",
       "| X3 |  1           | 7.317034e+01 | 7.317034e+01 | 7.198478e+00 | 1.300324e-02 | \n",
       "| X4 |  1           | 7.666309e+00 | 7.666309e+00 | 7.542093e-01 | 3.937485e-01 | \n",
       "| X5 |  1           | 2.617614e-02 | 2.617614e-02 | 2.575201e-03 | 9.599476e-01 | \n",
       "| Residuals | 24           | 2.439527e+02 | 1.016470e+01 |           NA |           NA | \n",
       "\n",
       "\n"
      ],
      "text/plain": [
       "          Df Sum Sq       Mean Sq      F value      Pr(>F)      \n",
       "X1         1 1.080746e+03 1.080746e+03 1.063234e+02 2.691998e-10\n",
       "X2         1 1.953533e+00 1.953533e+00 1.921881e-01 6.650226e-01\n",
       "X3         1 7.317034e+01 7.317034e+01 7.198478e+00 1.300324e-02\n",
       "X4         1 7.666309e+00 7.666309e+00 7.542093e-01 3.937485e-01\n",
       "X5         1 2.617614e-02 2.617614e-02 2.575201e-03 9.599476e-01\n",
       "Residuals 24 2.439527e+02 1.016470e+01           NA           NA"
      ]
     },
     "metadata": {},
     "output_type": "display_data"
    }
   ],
   "source": [
    "#AJUSTE DEL MODELO\n",
    "modelo<-lm(Y~X1+X2+X3+X4+X5)\n",
    "print(\"Modelo: \")\n",
    "summary(modelo)\n",
    "#Anova(modelo) #PRODUCE SUMA DE CUADRADOS SS2\n",
    "print(\"Anova:\")\n",
    "anova(modelo) #PRODUCE SUMAS DE CUADRADOS SS1\n",
    "#PARA OBTENER LA ANOVA DEL MODELO DE RLM CREAMOS LA SIGUIENTE FUNCI?N"
   ]
  },
  {
   "cell_type": "code",
   "execution_count": 7,
   "metadata": {},
   "outputs": [
    {
     "name": "stdout",
     "output_type": "stream",
     "text": [
      "Tabla ANOVA Modelo de Regresi?n \n"
     ]
    },
    {
     "data": {
      "text/html": [
       "<table>\n",
       "<thead><tr><th></th><th scope=col>SumSq</th><th scope=col>Df</th><th scope=col>MeanSq</th><th scope=col>F0</th><th scope=col>P.value</th></tr></thead>\n",
       "<tbody>\n",
       "\t<tr><th scope=row>Modelo</th><td>1163.5619</td><td> 5       </td><td>232.7124 </td><td>22.894   </td><td>2.05e-08 </td></tr>\n",
       "\t<tr><th scope=row>Error</th><td> 243.9527</td><td>24       </td><td> 10.1647 </td><td>         </td><td>         </td></tr>\n",
       "</tbody>\n",
       "</table>\n"
      ],
      "text/latex": [
       "\\begin{tabular}{r|lllll}\n",
       "  & SumSq & Df & MeanSq & F0 & P.value\\\\\n",
       "\\hline\n",
       "\tModelo & 1163.5619 &  5        & 232.7124  & 22.894    & 2.05e-08 \\\\\n",
       "\tError &  243.9527 & 24        &  10.1647  &           &          \\\\\n",
       "\\end{tabular}\n"
      ],
      "text/markdown": [
       "\n",
       "| <!--/--> | SumSq | Df | MeanSq | F0 | P.value | \n",
       "|---|---|\n",
       "| Modelo | 1163.5619 |  5        | 232.7124  | 22.894    | 2.05e-08  | \n",
       "| Error |  243.9527 | 24        |  10.1647  |           |           | \n",
       "\n",
       "\n"
      ],
      "text/plain": [
       "       SumSq     Df MeanSq   F0     P.value \n",
       "Modelo 1163.5619  5 232.7124 22.894 2.05e-08\n",
       "Error   243.9527 24  10.1647                "
      ]
     },
     "metadata": {},
     "output_type": "display_data"
    }
   ],
   "source": [
    "miAnova<-function(modeloreg){\n",
    "  SSq<-unlist(anova(modeloreg)[\"Sum Sq\"])\n",
    "  k<-length(SSq)-1\n",
    "  SSR<-sum(SSq[1:k])\n",
    "  SSE<-SSq[(k+1)]\n",
    "  MSR<-SSR/k\n",
    "  df.error<-unlist(anova(modeloreg)[\"Df\"])[k+1]\n",
    "  MSE<-SSE/df.error\n",
    "  F0<-MSR/MSE\n",
    "  VP<-pf(F0,k,df.error,lower.tail=F)\n",
    "  result<-\n",
    "    data.frame(SumSq=c(SSR,SSE),Df=c(k,df.error),MeanSq=c(MSR,MSE),F0=c(round(F0,digits=3),' '),\n",
    "               P.value=c(format(VP,scientific = TRUE,digits=3),' '),row.names =c(\"Modelo\",\"Error\"))\n",
    "  cat(\"Tabla ANOVA Modelo de Regresi?n\",\"\\n\")\n",
    "  result\n",
    "}\n",
    "\n",
    "miAnova(modelo)"
   ]
  },
  {
   "cell_type": "code",
   "execution_count": null,
   "metadata": {},
   "outputs": [],
   "source": []
  }
 ],
 "metadata": {
  "kernelspec": {
   "display_name": "R",
   "language": "R",
   "name": "ir"
  },
  "language_info": {
   "codemirror_mode": "r",
   "file_extension": ".r",
   "mimetype": "text/x-r-source",
   "name": "R",
   "pygments_lexer": "r",
   "version": "3.4.3"
  }
 },
 "nbformat": 4,
 "nbformat_minor": 2
}
