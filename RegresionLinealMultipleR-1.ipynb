{
 "cells": [
  {
   "cell_type": "markdown",
   "metadata": {},
   "source": [
    "# Trabajo 1 Metodos Estadísticos"
   ]
  },
  {
   "cell_type": "code",
   "execution_count": 31,
   "metadata": {},
   "outputs": [
    {
     "data": {
      "text/html": [
       "<script>  \n",
       "code_show=true; \n",
       "function code_toggle() {\n",
       "  if (code_show){\n",
       "    $('div.input').hide();\n",
       "  } else {\n",
       "    $('div.input').show();\n",
       "  }\n",
       "  code_show = !code_show\n",
       "}  \n",
       "$( document ).ready(code_toggle);\n",
       "</script>\n",
       "  <form action=\"javascript:code_toggle()\">\n",
       "    <input type=\"submit\" value=\"Pulse el botón para ver el código.\">\n",
       " </form>"
      ]
     },
     "metadata": {},
     "output_type": "display_data"
    }
   ],
   "source": [
    "#son necesarios 4 paquetes\n",
    "# es necesario instalarlos antes de cargarlos.\n",
    "library(car)\n",
    "library(leaps)\n",
    "library(perturb)\n",
    "library(tseries)\n",
    "library(IRdisplay)\n",
    "display_html(\n",
    "'<script>  \n",
    "code_show=true; \n",
    "function code_toggle() {\n",
    "  if (code_show){\n",
    "    $(\\'div.input\\').hide();\n",
    "  } else {\n",
    "    $(\\'div.input\\').show();\n",
    "  }\n",
    "  code_show = !code_show\n",
    "}  \n",
    "$( document ).ready(code_toggle);\n",
    "</script>\n",
    "  <form action=\"javascript:code_toggle()\">\n",
    "    <input type=\"submit\" value=\"Pulse el botón para ver el código.\">\n",
    " </form>'\n",
    ")"
   ]
  },
  {
   "cell_type": "markdown",
   "metadata": {},
   "source": [
    "## Integrantes: \n",
    "\n",
    "## Enunciado: \n",
    "\n",
    "1. Estime un modelo de regresión lineal múltiple que explique el precio de venta de las casas en términos de todas las\n",
    "variables predictoras. Analice la signifícancia de la regresión y de los parámetros individuales. Calcule e interprete el\n",
    "coefíciente de determinación múltiple R2. Comente los resultados.\n",
    "2. Probar la significancia simultánea del subconjunto de tres variables con los valores p mayores del punto anterior. Según el resultado de la prueba es posible descartar del modelo las variables del subconjunto?.\n",
    "3. Use la información pertinente para determinar si la multicolinealidad es un problema potencial.\n",
    "4. Usando el método backward determine cuales son las predictoras que deben estar en el modelo. ¿ Concuerda este modelo con el determinado en primer inciso? Además use los otros criterios vistos en clase para mostrar 2 candidatos a mejor modelo. Argumente.\n",
    "5. Realice una validación de los supuestos en los errores y examine si hay valores atípicos, de balanceo e influyentes. Qué puede decir acerca de la validez de éste modelo?. Argumente."
   ]
  },
  {
   "cell_type": "code",
   "execution_count": 32,
   "metadata": {},
   "outputs": [
    {
     "name": "stderr",
     "output_type": "stream",
     "text": [
      "The following objects are masked from datos (pos = 3):\n",
      "\n",
      "    X1, X2, X3, X4, X5, Y\n",
      "\n",
      "The following objects are masked from datos (pos = 4):\n",
      "\n",
      "    X1, X2, X3, X4, X5, Y\n",
      "\n"
     ]
    },
    {
     "data": {
      "text/html": [
       "<table>\n",
       "<thead><tr><th scope=col>Y</th><th scope=col>X1</th><th scope=col>X2</th><th scope=col>X3</th><th scope=col>X4</th><th scope=col>X5</th></tr></thead>\n",
       "<tbody>\n",
       "\t<tr><td>34.7 </td><td>6.506</td><td>6.204</td><td>1.392</td><td>5    </td><td>37   </td></tr>\n",
       "\t<tr><td>40.6 </td><td>9.200</td><td>7.980</td><td>2.000</td><td>5    </td><td>30   </td></tr>\n",
       "\t<tr><td>28.9 </td><td>5.604</td><td>9.520</td><td>1.501</td><td>6    </td><td>32   </td></tr>\n",
       "\t<tr><td>31.0 </td><td>6.271</td><td>6.520</td><td>0.975</td><td>6    </td><td>28   </td></tr>\n",
       "\t<tr><td>25.9 </td><td>4.918</td><td>3.472</td><td>0.998</td><td>7    </td><td>42   </td></tr>\n",
       "\t<tr><td>25.9 </td><td>3.891</td><td>2.275</td><td>0.567</td><td>4    </td><td> 3   </td></tr>\n",
       "\t<tr><td>25.9 </td><td>4.557</td><td>4.050</td><td>1.232</td><td>6    </td><td>54   </td></tr>\n",
       "\t<tr><td>30.9 </td><td>5.898</td><td>5.850</td><td>1.240</td><td>7    </td><td>51   </td></tr>\n",
       "\t<tr><td>29.5 </td><td>5.858</td><td>4.587</td><td>1.101</td><td>5    </td><td>45   </td></tr>\n",
       "\t<tr><td>27.9 </td><td>4.543</td><td>2.275</td><td>1.175</td><td>6    </td><td>40   </td></tr>\n",
       "\t<tr><td>37.9 </td><td>6.083</td><td>6.727</td><td>1.652</td><td>6    </td><td>44   </td></tr>\n",
       "\t<tr><td>41.9 </td><td>7.697</td><td>6.902</td><td>1.488</td><td>6    </td><td>22   </td></tr>\n",
       "\t<tr><td>35.9 </td><td>5.828</td><td>6.435</td><td>1.225</td><td>6    </td><td>32   </td></tr>\n",
       "\t<tr><td>30.0 </td><td>5.050</td><td>5.000</td><td>1.020</td><td>5    </td><td>46   </td></tr>\n",
       "\t<tr><td>44.5 </td><td>8.795</td><td>9.890</td><td>1.820</td><td>8    </td><td>50   </td></tr>\n",
       "\t<tr><td>43.9 </td><td>9.038</td><td>7.800</td><td>1.500</td><td>7    </td><td>23   </td></tr>\n",
       "\t<tr><td>37.5 </td><td>5.989</td><td>5.520</td><td>1.256</td><td>6    </td><td>40   </td></tr>\n",
       "\t<tr><td>40.5 </td><td>7.784</td><td>7.102</td><td>1.376</td><td>6    </td><td>17   </td></tr>\n",
       "\t<tr><td>32.0 </td><td>5.000</td><td>7.000</td><td>3.099</td><td>7    </td><td>10   </td></tr>\n",
       "\t<tr><td>36.9 </td><td>8.246</td><td>5.150</td><td>1.664</td><td>8    </td><td>50   </td></tr>\n",
       "\t<tr><td>29.5 </td><td>5.021</td><td>3.531</td><td>1.500</td><td>7    </td><td>62   </td></tr>\n",
       "\t<tr><td>29.9 </td><td>5.060</td><td>4.455</td><td>1.121</td><td>6    </td><td>42   </td></tr>\n",
       "\t<tr><td>25.9 </td><td>5.604</td><td>9.520</td><td>1.501</td><td>4    </td><td>20   </td></tr>\n",
       "\t<tr><td>29.9 </td><td>3.891</td><td>4.455</td><td>0.988</td><td>6    </td><td>56   </td></tr>\n",
       "\t<tr><td>37.9 </td><td>7.542</td><td>5.000</td><td>1.690</td><td>6    </td><td>22   </td></tr>\n",
       "\t<tr><td>41.9 </td><td>6.697</td><td>6.902</td><td>1.488</td><td>7    </td><td>22   </td></tr>\n",
       "\t<tr><td>36.9 </td><td>8.140</td><td>8.000</td><td>1.504</td><td>7    </td><td> 3   </td></tr>\n",
       "\t<tr><td>45.8 </td><td>9.142</td><td>7.326</td><td>1.831</td><td>8    </td><td>31   </td></tr>\n",
       "\t<tr><td>53.0 </td><td>9.200</td><td>9.890</td><td>5.699</td><td>8    </td><td>70   </td></tr>\n",
       "\t<tr><td>31.5 </td><td>5.300</td><td>4.988</td><td>1.552</td><td>6    </td><td>30   </td></tr>\n",
       "</tbody>\n",
       "</table>\n"
      ],
      "text/latex": [
       "\\begin{tabular}{r|llllll}\n",
       " Y & X1 & X2 & X3 & X4 & X5\\\\\n",
       "\\hline\n",
       "\t 34.7  & 6.506 & 6.204 & 1.392 & 5     & 37   \\\\\n",
       "\t 40.6  & 9.200 & 7.980 & 2.000 & 5     & 30   \\\\\n",
       "\t 28.9  & 5.604 & 9.520 & 1.501 & 6     & 32   \\\\\n",
       "\t 31.0  & 6.271 & 6.520 & 0.975 & 6     & 28   \\\\\n",
       "\t 25.9  & 4.918 & 3.472 & 0.998 & 7     & 42   \\\\\n",
       "\t 25.9  & 3.891 & 2.275 & 0.567 & 4     &  3   \\\\\n",
       "\t 25.9  & 4.557 & 4.050 & 1.232 & 6     & 54   \\\\\n",
       "\t 30.9  & 5.898 & 5.850 & 1.240 & 7     & 51   \\\\\n",
       "\t 29.5  & 5.858 & 4.587 & 1.101 & 5     & 45   \\\\\n",
       "\t 27.9  & 4.543 & 2.275 & 1.175 & 6     & 40   \\\\\n",
       "\t 37.9  & 6.083 & 6.727 & 1.652 & 6     & 44   \\\\\n",
       "\t 41.9  & 7.697 & 6.902 & 1.488 & 6     & 22   \\\\\n",
       "\t 35.9  & 5.828 & 6.435 & 1.225 & 6     & 32   \\\\\n",
       "\t 30.0  & 5.050 & 5.000 & 1.020 & 5     & 46   \\\\\n",
       "\t 44.5  & 8.795 & 9.890 & 1.820 & 8     & 50   \\\\\n",
       "\t 43.9  & 9.038 & 7.800 & 1.500 & 7     & 23   \\\\\n",
       "\t 37.5  & 5.989 & 5.520 & 1.256 & 6     & 40   \\\\\n",
       "\t 40.5  & 7.784 & 7.102 & 1.376 & 6     & 17   \\\\\n",
       "\t 32.0  & 5.000 & 7.000 & 3.099 & 7     & 10   \\\\\n",
       "\t 36.9  & 8.246 & 5.150 & 1.664 & 8     & 50   \\\\\n",
       "\t 29.5  & 5.021 & 3.531 & 1.500 & 7     & 62   \\\\\n",
       "\t 29.9  & 5.060 & 4.455 & 1.121 & 6     & 42   \\\\\n",
       "\t 25.9  & 5.604 & 9.520 & 1.501 & 4     & 20   \\\\\n",
       "\t 29.9  & 3.891 & 4.455 & 0.988 & 6     & 56   \\\\\n",
       "\t 37.9  & 7.542 & 5.000 & 1.690 & 6     & 22   \\\\\n",
       "\t 41.9  & 6.697 & 6.902 & 1.488 & 7     & 22   \\\\\n",
       "\t 36.9  & 8.140 & 8.000 & 1.504 & 7     &  3   \\\\\n",
       "\t 45.8  & 9.142 & 7.326 & 1.831 & 8     & 31   \\\\\n",
       "\t 53.0  & 9.200 & 9.890 & 5.699 & 8     & 70   \\\\\n",
       "\t 31.5  & 5.300 & 4.988 & 1.552 & 6     & 30   \\\\\n",
       "\\end{tabular}\n"
      ],
      "text/markdown": [
       "\n",
       "Y | X1 | X2 | X3 | X4 | X5 | \n",
       "|---|---|---|---|---|---|---|---|---|---|---|---|---|---|---|---|---|---|---|---|---|---|---|---|---|---|---|---|---|---|\n",
       "| 34.7  | 6.506 | 6.204 | 1.392 | 5     | 37    | \n",
       "| 40.6  | 9.200 | 7.980 | 2.000 | 5     | 30    | \n",
       "| 28.9  | 5.604 | 9.520 | 1.501 | 6     | 32    | \n",
       "| 31.0  | 6.271 | 6.520 | 0.975 | 6     | 28    | \n",
       "| 25.9  | 4.918 | 3.472 | 0.998 | 7     | 42    | \n",
       "| 25.9  | 3.891 | 2.275 | 0.567 | 4     |  3    | \n",
       "| 25.9  | 4.557 | 4.050 | 1.232 | 6     | 54    | \n",
       "| 30.9  | 5.898 | 5.850 | 1.240 | 7     | 51    | \n",
       "| 29.5  | 5.858 | 4.587 | 1.101 | 5     | 45    | \n",
       "| 27.9  | 4.543 | 2.275 | 1.175 | 6     | 40    | \n",
       "| 37.9  | 6.083 | 6.727 | 1.652 | 6     | 44    | \n",
       "| 41.9  | 7.697 | 6.902 | 1.488 | 6     | 22    | \n",
       "| 35.9  | 5.828 | 6.435 | 1.225 | 6     | 32    | \n",
       "| 30.0  | 5.050 | 5.000 | 1.020 | 5     | 46    | \n",
       "| 44.5  | 8.795 | 9.890 | 1.820 | 8     | 50    | \n",
       "| 43.9  | 9.038 | 7.800 | 1.500 | 7     | 23    | \n",
       "| 37.5  | 5.989 | 5.520 | 1.256 | 6     | 40    | \n",
       "| 40.5  | 7.784 | 7.102 | 1.376 | 6     | 17    | \n",
       "| 32.0  | 5.000 | 7.000 | 3.099 | 7     | 10    | \n",
       "| 36.9  | 8.246 | 5.150 | 1.664 | 8     | 50    | \n",
       "| 29.5  | 5.021 | 3.531 | 1.500 | 7     | 62    | \n",
       "| 29.9  | 5.060 | 4.455 | 1.121 | 6     | 42    | \n",
       "| 25.9  | 5.604 | 9.520 | 1.501 | 4     | 20    | \n",
       "| 29.9  | 3.891 | 4.455 | 0.988 | 6     | 56    | \n",
       "| 37.9  | 7.542 | 5.000 | 1.690 | 6     | 22    | \n",
       "| 41.9  | 6.697 | 6.902 | 1.488 | 7     | 22    | \n",
       "| 36.9  | 8.140 | 8.000 | 1.504 | 7     |  3    | \n",
       "| 45.8  | 9.142 | 7.326 | 1.831 | 8     | 31    | \n",
       "| 53.0  | 9.200 | 9.890 | 5.699 | 8     | 70    | \n",
       "| 31.5  | 5.300 | 4.988 | 1.552 | 6     | 30    | \n",
       "\n",
       "\n"
      ],
      "text/plain": [
       "   Y    X1    X2    X3    X4 X5\n",
       "1  34.7 6.506 6.204 1.392 5  37\n",
       "2  40.6 9.200 7.980 2.000 5  30\n",
       "3  28.9 5.604 9.520 1.501 6  32\n",
       "4  31.0 6.271 6.520 0.975 6  28\n",
       "5  25.9 4.918 3.472 0.998 7  42\n",
       "6  25.9 3.891 2.275 0.567 4   3\n",
       "7  25.9 4.557 4.050 1.232 6  54\n",
       "8  30.9 5.898 5.850 1.240 7  51\n",
       "9  29.5 5.858 4.587 1.101 5  45\n",
       "10 27.9 4.543 2.275 1.175 6  40\n",
       "11 37.9 6.083 6.727 1.652 6  44\n",
       "12 41.9 7.697 6.902 1.488 6  22\n",
       "13 35.9 5.828 6.435 1.225 6  32\n",
       "14 30.0 5.050 5.000 1.020 5  46\n",
       "15 44.5 8.795 9.890 1.820 8  50\n",
       "16 43.9 9.038 7.800 1.500 7  23\n",
       "17 37.5 5.989 5.520 1.256 6  40\n",
       "18 40.5 7.784 7.102 1.376 6  17\n",
       "19 32.0 5.000 7.000 3.099 7  10\n",
       "20 36.9 8.246 5.150 1.664 8  50\n",
       "21 29.5 5.021 3.531 1.500 7  62\n",
       "22 29.9 5.060 4.455 1.121 6  42\n",
       "23 25.9 5.604 9.520 1.501 4  20\n",
       "24 29.9 3.891 4.455 0.988 6  56\n",
       "25 37.9 7.542 5.000 1.690 6  22\n",
       "26 41.9 6.697 6.902 1.488 7  22\n",
       "27 36.9 8.140 8.000 1.504 7   3\n",
       "28 45.8 9.142 7.326 1.831 8  31\n",
       "29 53.0 9.200 9.890 5.699 8  70\n",
       "30 31.5 5.300 4.988 1.552 6  30"
      ]
     },
     "metadata": {},
     "output_type": "display_data"
    }
   ],
   "source": [
    "#lee el archivo .txt\n",
    "datos<-read.table(file.choose(), header=T )\n",
    "#CARGA BASE DE DATOS Y NOMBRES DE VARIABLES EN R\n",
    "attach(datos)\n",
    "#muestra datos\n",
    "datos\n"
   ]
  },
  {
   "cell_type": "markdown",
   "metadata": {},
   "source": [
    "### 1. Estime un modelo de regresión lineal múltiple que explique el precio de venta de las casas en términos de todas las variables predictoras. Analice la signifícancia de la regresión y de los parámetros individuales. Calcule e interprete el coefíciente de determinación múltiple R2. Comente los resultados.\n"
   ]
  },
  {
   "cell_type": "markdown",
   "metadata": {},
   "source": [
    "Si se quiere estimar un modelo de regresion lineal multiple que explique el precio de venta de las casas en terminos de las variables predictoras $$Y = \\beta_0+\\beta_1X_1+\\beta_2X_2+\\beta_3X_3+\\beta_4X_4+\\beta_5X_5+E$$"
   ]
  },
  {
   "cell_type": "code",
   "execution_count": 33,
   "metadata": {
    "scrolled": false
   },
   "outputs": [
    {
     "data": {
      "text/plain": [
       "\n",
       "Call:\n",
       "lm(formula = Y ~ X1 + X2 + X3 + X4 + X5)\n",
       "\n",
       "Residuals:\n",
       "    Min      1Q  Median      3Q     Max \n",
       "-4.9255 -2.1451  0.1387  1.5355  5.9562 \n",
       "\n",
       "Coefficients:\n",
       "             Estimate Std. Error t value Pr(>|t|)    \n",
       "(Intercept)  8.963411   3.863012   2.320   0.0291 *  \n",
       "X1           3.107643   0.537314   5.784 5.81e-06 ***\n",
       "X2          -0.112221   0.414986  -0.270   0.7891    \n",
       "X3           1.879014   0.880188   2.135   0.0432 *  \n",
       "X4           0.598985   0.712458   0.841   0.4088    \n",
       "X5          -0.002084   0.041069  -0.051   0.9599    \n",
       "---\n",
       "Signif. codes:  0 '***' 0.001 '**' 0.01 '*' 0.05 '.' 0.1 ' ' 1\n",
       "\n",
       "Residual standard error: 3.188 on 24 degrees of freedom\n",
       "Multiple R-squared:  0.8267,\tAdjusted R-squared:  0.7906 \n",
       "F-statistic: 22.89 on 5 and 24 DF,  p-value: 2.052e-08\n"
      ]
     },
     "metadata": {},
     "output_type": "display_data"
    }
   ],
   "source": [
    "#AJUSTE DEL MODELO\n",
    "modelo<-lm(Y~X1+X2+X3+X4+X5)\n",
    "\n",
    "summary(modelo)\n",
    "#nrow(datos) nro. de datos.\n"
   ]
  },
  {
   "cell_type": "markdown",
   "metadata": {},
   "source": [
    "\n",
    "En este modelo el parametro $\\beta_0$ no tiene interpretación estadistica ya que el vector nulo no se encuentra en el conjunto de datos recolectados.\n",
    "\n",
    "## hipotesis a evaluar: \n",
    "\n",
    "$ H_o : \\beta_1=\\beta_2=\\beta_3=\\beta_4=\\beta_5=0 $\n",
    "\n",
    "$ Ha: B_k \\neq 0$\n"
   ]
  },
  {
   "cell_type": "markdown",
   "metadata": {},
   "source": [
    "De lo anterior se puede concluir que:\n",
    "\n",
    "$$P_{value} < \\alpha $$\n",
    "\n",
    "$$2.05x10^{-8} < 0.05$$\n",
    "\n",
    "además: $F_{0.05,5,24} = 2.621$ y $F_0 = 22.894$ por lo tanto $F_{0.05,5,24} < F_0$ por todo lo anterior, se rechaza la hipotesis nula y se toma la hipotesis alternativa lo que quiere decir que existe por lo menos un $B_k$ que ayude a explicar el modelo.\n",
    "\n",
    "Ahora se estudiará la significancia individual para cada parametro."
   ]
  },
  {
   "cell_type": "code",
   "execution_count": 34,
   "metadata": {},
   "outputs": [
    {
     "name": "stdout",
     "output_type": "stream",
     "text": [
      "Tabla ANOVA Modelo de Regresi?n \n"
     ]
    },
    {
     "data": {
      "text/html": [
       "<table>\n",
       "<thead><tr><th></th><th scope=col>SumSq</th><th scope=col>Df</th><th scope=col>MeanSq</th><th scope=col>F0</th><th scope=col>P.value</th></tr></thead>\n",
       "<tbody>\n",
       "\t<tr><th scope=row>Modelo</th><td>1163.5619</td><td> 5       </td><td>232.7124 </td><td>22.894   </td><td>2.05e-08 </td></tr>\n",
       "\t<tr><th scope=row>Error</th><td> 243.9527</td><td>24       </td><td> 10.1647 </td><td>         </td><td>         </td></tr>\n",
       "</tbody>\n",
       "</table>\n"
      ],
      "text/latex": [
       "\\begin{tabular}{r|lllll}\n",
       "  & SumSq & Df & MeanSq & F0 & P.value\\\\\n",
       "\\hline\n",
       "\tModelo & 1163.5619 &  5        & 232.7124  & 22.894    & 2.05e-08 \\\\\n",
       "\tError &  243.9527 & 24        &  10.1647  &           &          \\\\\n",
       "\\end{tabular}\n"
      ],
      "text/markdown": [
       "\n",
       "| <!--/--> | SumSq | Df | MeanSq | F0 | P.value | \n",
       "|---|---|\n",
       "| Modelo | 1163.5619 |  5        | 232.7124  | 22.894    | 2.05e-08  | \n",
       "| Error |  243.9527 | 24        |  10.1647  |           |           | \n",
       "\n",
       "\n"
      ],
      "text/plain": [
       "       SumSq     Df MeanSq   F0     P.value \n",
       "Modelo 1163.5619  5 232.7124 22.894 2.05e-08\n",
       "Error   243.9527 24  10.1647                "
      ]
     },
     "metadata": {},
     "output_type": "display_data"
    }
   ],
   "source": [
    "#PARA OBTENER LA ANOVA DEL MODELO DE RLM CREAMOS LA SIGUIENTE FUNCI?N\n",
    "miAnova<-function(modeloreg){\n",
    "  SSq<-unlist(anova(modeloreg)[\"Sum Sq\"])\n",
    "  k<-length(SSq)-1\n",
    "  SSR<-sum(SSq[1:k])\n",
    "  SSE<-SSq[(k+1)]\n",
    "  MSR<-SSR/k\n",
    "  df.error<-unlist(anova(modeloreg)[\"Df\"])[k+1]\n",
    "  MSE<-SSE/df.error\n",
    "  F0<-MSR/MSE\n",
    "  VP<-pf(F0,k,df.error,lower.tail=F)\n",
    "  result<-\n",
    "    data.frame(SumSq=c(SSR,SSE),Df=c(k,df.error),MeanSq=c(MSR,MSE),F0=c(round(F0,digits=3),' '),\n",
    "               P.value=c(format(VP,scientific = TRUE,digits=3),' '),row.names =c(\"Modelo\",\"Error\"))\n",
    "  cat(\"Tabla ANOVA Modelo de Regresi?n\",\"\\n\")\n",
    "  result\n",
    "}\n",
    "\n",
    "miAnova(modelo)"
   ]
  },
  {
   "cell_type": "markdown",
   "metadata": {},
   "source": [
    "## Pruebas de significancia individual:\n",
    "\n",
    "* para $\\beta_1$: \n",
    "$$H_0: \\beta_1 =0$$\n",
    "  $$H_1: \\beta_1 \\neq 0$$\n",
    "\n",
    "* para $\\beta_2$:  \n",
    "$$H_0: \\beta_2 =0$$\n",
    "  $$H_1: \\beta_2 \\neq 0$$\n",
    "\n",
    "* para $\\beta_3$:\n",
    "$$H_0: \\beta_3 =0$$\n",
    "  $$H_1: \\beta_3 \\neq 0$$\n",
    "\n",
    "* para $\\beta_4$:\n",
    "$$H_0: \\beta_4 =0$$\n",
    "  $$H_1: \\beta_4 \\neq 0$$\n",
    "\n",
    "* para $\\beta_5$:\n",
    "$$H_0: \\beta_5 =0$$\n",
    "  $$H_1: \\beta_5 \\neq 0$$\n",
    "  \n",
    "  como nuestro $\\alpha = 0.05$ es posible realizar pruebas usando el resumen del modelo generado por R:"
   ]
  },
  {
   "cell_type": "code",
   "execution_count": 35,
   "metadata": {
    "scrolled": false
   },
   "outputs": [
    {
     "name": "stdout",
     "output_type": "stream",
     "text": [
      "[1] \"Modelo: \"\n"
     ]
    },
    {
     "data": {
      "text/plain": [
       "\n",
       "Call:\n",
       "lm(formula = Y ~ X1 + X2 + X3 + X4 + X5)\n",
       "\n",
       "Residuals:\n",
       "    Min      1Q  Median      3Q     Max \n",
       "-4.9255 -2.1451  0.1387  1.5355  5.9562 \n",
       "\n",
       "Coefficients:\n",
       "             Estimate Std. Error t value Pr(>|t|)    \n",
       "(Intercept)  8.963411   3.863012   2.320   0.0291 *  \n",
       "X1           3.107643   0.537314   5.784 5.81e-06 ***\n",
       "X2          -0.112221   0.414986  -0.270   0.7891    \n",
       "X3           1.879014   0.880188   2.135   0.0432 *  \n",
       "X4           0.598985   0.712458   0.841   0.4088    \n",
       "X5          -0.002084   0.041069  -0.051   0.9599    \n",
       "---\n",
       "Signif. codes:  0 '***' 0.001 '**' 0.01 '*' 0.05 '.' 0.1 ' ' 1\n",
       "\n",
       "Residual standard error: 3.188 on 24 degrees of freedom\n",
       "Multiple R-squared:  0.8267,\tAdjusted R-squared:  0.7906 \n",
       "F-statistic: 22.89 on 5 and 24 DF,  p-value: 2.052e-08\n"
      ]
     },
     "metadata": {},
     "output_type": "display_data"
    }
   ],
   "source": [
    "#AJUSTE DEL MODELO\n",
    "modelo<-lm(Y~X1+X2+X3+X4+X5)\n",
    "print(\"Modelo: \")\n",
    "summary(modelo)\n"
   ]
  },
  {
   "cell_type": "markdown",
   "metadata": {},
   "source": [
    "si Pr(>|t|) $> \\alpha$ no rechaza la hipotesis nula y se elimina el parametro del modelo:\n",
    "\n",
    "en $X_1: Pr=5.81x10^{-6} < 0.05$ por lo tanto $H_0$  se rechaza \n",
    "\n",
    "\n",
    "en $X_2: Pr=0.7891 > 0.05$ por lo tanto no se rechaza $H_0$ y se eliminará el parametro del modelo \n",
    "\n",
    "\n",
    "en $X_3: Pr=0.0432< 0.05$ por lo tanto se rechaza $H_0$  \n",
    "\n",
    "\n",
    "en $X_4: Pr=0.4088 > 0.05$ por lo tanto  no se rechaza $H_0$ y se eliminará el parametro del modelo \n",
    "\n",
    "en $X_5: Pr=0.9599 > 0.05$ por lo tanto no se rechaza $H_0$ y se eliminará el parametro del modelo \n",
    "\n",
    "Luego, el modelo contará con los parametros $\\beta_1$ y $\\beta_3$.\n",
    "\n",
    "$$Y \\sim (\\beta_1X_1+\\beta_3X_3)$$\n",
    "\n",
    "Además, de la tabla ANOVA del Modelo de Regresion (que ya ha sido mostrada anteriormente) se obtiene el valor de $\\text{R}^2$ realizando el cociente entre la SumSq del modelo y la SumSq Total definida como la suma entre la SumSq del modelo y la SumSq del error, asi obtenermos que $\\text{R}^2 = 0.8267$ por tanto se afirma que el $82\\%$ de la vadiabilidad de los datos es explicada por el modelo.\n",
    "(Nota: Para mayor facilidad el $\\text{R}^2$ tambien puede ser obtenido a partir de la tabla anterior, se encuentra como \"Multiple R-squared\".)\n",
    "\n"
   ]
  },
  {
   "cell_type": "markdown",
   "metadata": {},
   "source": [
    "### 2. Probar la significancia simultánea del subconjunto de tres variables con los valores p mayores del punto anterior. Según el resultado de la prueba es posible descartar del modelo las variables del subconjunto?."
   ]
  },
  {
   "cell_type": "code",
   "execution_count": 36,
   "metadata": {},
   "outputs": [
    {
     "data": {
      "text/html": [
       "<table>\n",
       "<thead><tr><th scope=col>NoOfVars</th><th scope=col>R2</th><th scope=col>adjR2</th><th scope=col>SSE</th><th scope=col>Cp</th><th scope=col>Variables.in.model</th></tr></thead>\n",
       "<tbody>\n",
       "\t<tr><td>1             </td><td>0.7678        </td><td> 0.7595       </td><td> 326.7691     </td><td>  6.1475      </td><td>X1            </td></tr>\n",
       "\t<tr><td>1             </td><td>0.3718        </td><td> 0.3494       </td><td> 884.1864     </td><td> 60.9860      </td><td>X3            </td></tr>\n",
       "\t<tr><td>1             </td><td>0.3695        </td><td> 0.3470       </td><td> 887.4472     </td><td> 61.3068      </td><td>X2            </td></tr>\n",
       "\t<tr><td>1             </td><td>0.3031        </td><td> 0.2782       </td><td> 980.9188     </td><td> 70.5025      </td><td>X4            </td></tr>\n",
       "\t<tr><td>1             </td><td>0.0011        </td><td>-0.0346       </td><td>1405.9970     </td><td>112.3216      </td><td>X5            </td></tr>\n",
       "\t<tr><td>2             </td><td>0.8197        </td><td> 0.8063       </td><td> 253.8342     </td><td>  0.9721      </td><td>X1 X3         </td></tr>\n",
       "\t<tr><td>2             </td><td>0.7888        </td><td> 0.7732       </td><td> 297.2065     </td><td>  5.2391      </td><td>X1 X4         </td></tr>\n",
       "\t<tr><td>2             </td><td>0.7778        </td><td> 0.7613       </td><td> 312.7945     </td><td>  6.7726      </td><td>X1 X5         </td></tr>\n",
       "\t<tr><td>2             </td><td>0.7692        </td><td> 0.7521       </td><td> 324.8155     </td><td>  7.9553      </td><td>X1 X2         </td></tr>\n",
       "\t<tr><td>2             </td><td>0.5362        </td><td> 0.5018       </td><td> 652.8124     </td><td> 40.2235      </td><td>X2 X4         </td></tr>\n",
       "\t<tr><td>2             </td><td>0.4859        </td><td> 0.4478       </td><td> 723.5645     </td><td> 47.1841      </td><td>X2 X3         </td></tr>\n",
       "\t<tr><td>2             </td><td>0.4653        </td><td> 0.4257       </td><td> 752.5976     </td><td> 50.0403      </td><td>X3 X4         </td></tr>\n",
       "\t<tr><td>2             </td><td>0.3870        </td><td> 0.3416       </td><td> 862.7693     </td><td> 60.8790      </td><td>X3 X5         </td></tr>\n",
       "\t<tr><td>2             </td><td>0.3815        </td><td> 0.3357       </td><td> 870.5442     </td><td> 61.6439      </td><td>X2 X5         </td></tr>\n",
       "\t<tr><td>2             </td><td>0.3262        </td><td> 0.2763       </td><td> 948.4134     </td><td> 69.3046      </td><td>X4 X5         </td></tr>\n",
       "\t<tr><td>3             </td><td>0.8262        </td><td> 0.8061       </td><td> 244.6963     </td><td>  2.0732      </td><td>X1 X3 X4      </td></tr>\n",
       "\t<tr><td>3             </td><td>0.8212        </td><td> 0.8006       </td><td> 251.6452     </td><td>  2.7568      </td><td>X1 X2 X3      </td></tr>\n",
       "\t<tr><td>3             </td><td>0.8204        </td><td> 0.7997       </td><td> 252.7657     </td><td>  2.8670      </td><td>X1 X3 X5      </td></tr>\n",
       "\t<tr><td>3             </td><td>0.7915        </td><td> 0.7674       </td><td> 293.4697     </td><td>  6.8715      </td><td>X1 X2 X4      </td></tr>\n",
       "\t<tr><td>3             </td><td>0.7908        </td><td> 0.7666       </td><td> 294.4675     </td><td>  6.9696      </td><td>X1 X4 X5      </td></tr>\n",
       "\t<tr><td>3             </td><td>0.7800        </td><td> 0.7546       </td><td> 309.6272     </td><td>  8.4610      </td><td>X1 X2 X5      </td></tr>\n",
       "\t<tr><td>3             </td><td>0.5750        </td><td> 0.5260       </td><td> 598.1425     </td><td> 36.8451      </td><td>X2 X3 X4      </td></tr>\n",
       "\t<tr><td>3             </td><td>0.5381        </td><td> 0.4848       </td><td> 650.1096     </td><td> 41.9576      </td><td>X2 X4 X5      </td></tr>\n",
       "\t<tr><td>3             </td><td>0.5064        </td><td> 0.4495       </td><td> 694.7266     </td><td> 46.3470      </td><td>X3 X4 X5      </td></tr>\n",
       "\t<tr><td>3             </td><td>0.4863        </td><td> 0.4270       </td><td> 723.0407     </td><td> 49.1325      </td><td>X2 X3 X5      </td></tr>\n",
       "\t<tr><td>4             </td><td>0.8267        </td><td> 0.7989       </td><td> 243.9789     </td><td>  4.0026      </td><td>X1 X2 X3 X4   </td></tr>\n",
       "\t<tr><td>4             </td><td>0.8262        </td><td> 0.7983       </td><td> 244.6961     </td><td>  4.0731      </td><td>X1 X3 X4 X5   </td></tr>\n",
       "\t<tr><td>4             </td><td>0.8216        </td><td> 0.7930       </td><td> 251.1374     </td><td>  4.7068      </td><td>X1 X2 X3 X5   </td></tr>\n",
       "\t<tr><td>4             </td><td>0.7938        </td><td> 0.7608       </td><td> 290.2765     </td><td>  8.5573      </td><td>X1 X2 X4 X5   </td></tr>\n",
       "\t<tr><td>4             </td><td>0.5851        </td><td> 0.5187       </td><td> 583.9692     </td><td> 37.4507      </td><td>X2 X3 X4 X5   </td></tr>\n",
       "\t<tr><td>5             </td><td>0.8267        </td><td> 0.7906       </td><td> 243.9527     </td><td>  6.0000      </td><td>X1 X2 X3 X4 X5</td></tr>\n",
       "</tbody>\n",
       "</table>\n"
      ],
      "text/latex": [
       "\\begin{tabular}{r|llllll}\n",
       " NoOfVars & R2 & adjR2 & SSE & Cp & Variables.in.model\\\\\n",
       "\\hline\n",
       "\t 1              & 0.7678         &  0.7595        &  326.7691      &   6.1475       & X1            \\\\\n",
       "\t 1              & 0.3718         &  0.3494        &  884.1864      &  60.9860       & X3            \\\\\n",
       "\t 1              & 0.3695         &  0.3470        &  887.4472      &  61.3068       & X2            \\\\\n",
       "\t 1              & 0.3031         &  0.2782        &  980.9188      &  70.5025       & X4            \\\\\n",
       "\t 1              & 0.0011         & -0.0346        & 1405.9970      & 112.3216       & X5            \\\\\n",
       "\t 2              & 0.8197         &  0.8063        &  253.8342      &   0.9721       & X1 X3         \\\\\n",
       "\t 2              & 0.7888         &  0.7732        &  297.2065      &   5.2391       & X1 X4         \\\\\n",
       "\t 2              & 0.7778         &  0.7613        &  312.7945      &   6.7726       & X1 X5         \\\\\n",
       "\t 2              & 0.7692         &  0.7521        &  324.8155      &   7.9553       & X1 X2         \\\\\n",
       "\t 2              & 0.5362         &  0.5018        &  652.8124      &  40.2235       & X2 X4         \\\\\n",
       "\t 2              & 0.4859         &  0.4478        &  723.5645      &  47.1841       & X2 X3         \\\\\n",
       "\t 2              & 0.4653         &  0.4257        &  752.5976      &  50.0403       & X3 X4         \\\\\n",
       "\t 2              & 0.3870         &  0.3416        &  862.7693      &  60.8790       & X3 X5         \\\\\n",
       "\t 2              & 0.3815         &  0.3357        &  870.5442      &  61.6439       & X2 X5         \\\\\n",
       "\t 2              & 0.3262         &  0.2763        &  948.4134      &  69.3046       & X4 X5         \\\\\n",
       "\t 3              & 0.8262         &  0.8061        &  244.6963      &   2.0732       & X1 X3 X4      \\\\\n",
       "\t 3              & 0.8212         &  0.8006        &  251.6452      &   2.7568       & X1 X2 X3      \\\\\n",
       "\t 3              & 0.8204         &  0.7997        &  252.7657      &   2.8670       & X1 X3 X5      \\\\\n",
       "\t 3              & 0.7915         &  0.7674        &  293.4697      &   6.8715       & X1 X2 X4      \\\\\n",
       "\t 3              & 0.7908         &  0.7666        &  294.4675      &   6.9696       & X1 X4 X5      \\\\\n",
       "\t 3              & 0.7800         &  0.7546        &  309.6272      &   8.4610       & X1 X2 X5      \\\\\n",
       "\t 3              & 0.5750         &  0.5260        &  598.1425      &  36.8451       & X2 X3 X4      \\\\\n",
       "\t 3              & 0.5381         &  0.4848        &  650.1096      &  41.9576       & X2 X4 X5      \\\\\n",
       "\t 3              & 0.5064         &  0.4495        &  694.7266      &  46.3470       & X3 X4 X5      \\\\\n",
       "\t 3              & 0.4863         &  0.4270        &  723.0407      &  49.1325       & X2 X3 X5      \\\\\n",
       "\t 4              & 0.8267         &  0.7989        &  243.9789      &   4.0026       & X1 X2 X3 X4   \\\\\n",
       "\t 4              & 0.8262         &  0.7983        &  244.6961      &   4.0731       & X1 X3 X4 X5   \\\\\n",
       "\t 4              & 0.8216         &  0.7930        &  251.1374      &   4.7068       & X1 X2 X3 X5   \\\\\n",
       "\t 4              & 0.7938         &  0.7608        &  290.2765      &   8.5573       & X1 X2 X4 X5   \\\\\n",
       "\t 4              & 0.5851         &  0.5187        &  583.9692      &  37.4507       & X2 X3 X4 X5   \\\\\n",
       "\t 5              & 0.8267         &  0.7906        &  243.9527      &   6.0000       & X1 X2 X3 X4 X5\\\\\n",
       "\\end{tabular}\n"
      ],
      "text/markdown": [
       "\n",
       "NoOfVars | R2 | adjR2 | SSE | Cp | Variables.in.model | \n",
       "|---|---|---|---|---|---|---|---|---|---|---|---|---|---|---|---|---|---|---|---|---|---|---|---|---|---|---|---|---|---|---|\n",
       "| 1              | 0.7678         |  0.7595        |  326.7691      |   6.1475       | X1             | \n",
       "| 1              | 0.3718         |  0.3494        |  884.1864      |  60.9860       | X3             | \n",
       "| 1              | 0.3695         |  0.3470        |  887.4472      |  61.3068       | X2             | \n",
       "| 1              | 0.3031         |  0.2782        |  980.9188      |  70.5025       | X4             | \n",
       "| 1              | 0.0011         | -0.0346        | 1405.9970      | 112.3216       | X5             | \n",
       "| 2              | 0.8197         |  0.8063        |  253.8342      |   0.9721       | X1 X3          | \n",
       "| 2              | 0.7888         |  0.7732        |  297.2065      |   5.2391       | X1 X4          | \n",
       "| 2              | 0.7778         |  0.7613        |  312.7945      |   6.7726       | X1 X5          | \n",
       "| 2              | 0.7692         |  0.7521        |  324.8155      |   7.9553       | X1 X2          | \n",
       "| 2              | 0.5362         |  0.5018        |  652.8124      |  40.2235       | X2 X4          | \n",
       "| 2              | 0.4859         |  0.4478        |  723.5645      |  47.1841       | X2 X3          | \n",
       "| 2              | 0.4653         |  0.4257        |  752.5976      |  50.0403       | X3 X4          | \n",
       "| 2              | 0.3870         |  0.3416        |  862.7693      |  60.8790       | X3 X5          | \n",
       "| 2              | 0.3815         |  0.3357        |  870.5442      |  61.6439       | X2 X5          | \n",
       "| 2              | 0.3262         |  0.2763        |  948.4134      |  69.3046       | X4 X5          | \n",
       "| 3              | 0.8262         |  0.8061        |  244.6963      |   2.0732       | X1 X3 X4       | \n",
       "| 3              | 0.8212         |  0.8006        |  251.6452      |   2.7568       | X1 X2 X3       | \n",
       "| 3              | 0.8204         |  0.7997        |  252.7657      |   2.8670       | X1 X3 X5       | \n",
       "| 3              | 0.7915         |  0.7674        |  293.4697      |   6.8715       | X1 X2 X4       | \n",
       "| 3              | 0.7908         |  0.7666        |  294.4675      |   6.9696       | X1 X4 X5       | \n",
       "| 3              | 0.7800         |  0.7546        |  309.6272      |   8.4610       | X1 X2 X5       | \n",
       "| 3              | 0.5750         |  0.5260        |  598.1425      |  36.8451       | X2 X3 X4       | \n",
       "| 3              | 0.5381         |  0.4848        |  650.1096      |  41.9576       | X2 X4 X5       | \n",
       "| 3              | 0.5064         |  0.4495        |  694.7266      |  46.3470       | X3 X4 X5       | \n",
       "| 3              | 0.4863         |  0.4270        |  723.0407      |  49.1325       | X2 X3 X5       | \n",
       "| 4              | 0.8267         |  0.7989        |  243.9789      |   4.0026       | X1 X2 X3 X4    | \n",
       "| 4              | 0.8262         |  0.7983        |  244.6961      |   4.0731       | X1 X3 X4 X5    | \n",
       "| 4              | 0.8216         |  0.7930        |  251.1374      |   4.7068       | X1 X2 X3 X5    | \n",
       "| 4              | 0.7938         |  0.7608        |  290.2765      |   8.5573       | X1 X2 X4 X5    | \n",
       "| 4              | 0.5851         |  0.5187        |  583.9692      |  37.4507       | X2 X3 X4 X5    | \n",
       "| 5              | 0.8267         |  0.7906        |  243.9527      |   6.0000       | X1 X2 X3 X4 X5 | \n",
       "\n",
       "\n"
      ],
      "text/plain": [
       "   NoOfVars R2     adjR2   SSE       Cp       Variables.in.model\n",
       "1  1        0.7678  0.7595  326.7691   6.1475 X1                \n",
       "2  1        0.3718  0.3494  884.1864  60.9860 X3                \n",
       "3  1        0.3695  0.3470  887.4472  61.3068 X2                \n",
       "4  1        0.3031  0.2782  980.9188  70.5025 X4                \n",
       "5  1        0.0011 -0.0346 1405.9970 112.3216 X5                \n",
       "6  2        0.8197  0.8063  253.8342   0.9721 X1 X3             \n",
       "7  2        0.7888  0.7732  297.2065   5.2391 X1 X4             \n",
       "8  2        0.7778  0.7613  312.7945   6.7726 X1 X5             \n",
       "9  2        0.7692  0.7521  324.8155   7.9553 X1 X2             \n",
       "10 2        0.5362  0.5018  652.8124  40.2235 X2 X4             \n",
       "11 2        0.4859  0.4478  723.5645  47.1841 X2 X3             \n",
       "12 2        0.4653  0.4257  752.5976  50.0403 X3 X4             \n",
       "13 2        0.3870  0.3416  862.7693  60.8790 X3 X5             \n",
       "14 2        0.3815  0.3357  870.5442  61.6439 X2 X5             \n",
       "15 2        0.3262  0.2763  948.4134  69.3046 X4 X5             \n",
       "16 3        0.8262  0.8061  244.6963   2.0732 X1 X3 X4          \n",
       "17 3        0.8212  0.8006  251.6452   2.7568 X1 X2 X3          \n",
       "18 3        0.8204  0.7997  252.7657   2.8670 X1 X3 X5          \n",
       "19 3        0.7915  0.7674  293.4697   6.8715 X1 X2 X4          \n",
       "20 3        0.7908  0.7666  294.4675   6.9696 X1 X4 X5          \n",
       "21 3        0.7800  0.7546  309.6272   8.4610 X1 X2 X5          \n",
       "22 3        0.5750  0.5260  598.1425  36.8451 X2 X3 X4          \n",
       "23 3        0.5381  0.4848  650.1096  41.9576 X2 X4 X5          \n",
       "24 3        0.5064  0.4495  694.7266  46.3470 X3 X4 X5          \n",
       "25 3        0.4863  0.4270  723.0407  49.1325 X2 X3 X5          \n",
       "26 4        0.8267  0.7989  243.9789   4.0026 X1 X2 X3 X4       \n",
       "27 4        0.8262  0.7983  244.6961   4.0731 X1 X3 X4 X5       \n",
       "28 4        0.8216  0.7930  251.1374   4.7068 X1 X2 X3 X5       \n",
       "29 4        0.7938  0.7608  290.2765   8.5573 X1 X2 X4 X5       \n",
       "30 4        0.5851  0.5187  583.9692  37.4507 X2 X3 X4 X5       \n",
       "31 5        0.8267  0.7906  243.9527   6.0000 X1 X2 X3 X4 X5    "
      ]
     },
     "metadata": {},
     "output_type": "display_data"
    }
   ],
   "source": [
    "#TABLA DE TODAS LAS REGRESIONES POSIBLES\n",
    "allregtable<-function(modeloreg,respuesta){\n",
    "  t1<-summary(regsubsets(model.matrix(modeloreg)[,-1],respuesta,nbest=20),all.best=TRUE)\n",
    "  t2<-as.vector(apply(t1$which[,-1],1,sum))\n",
    "  t3<-apply(t1$which[,-1],1,function(x) as.character(paste(colnames(\n",
    "    model.matrix(modeloreg)[,-1])[x],collapse=\" \")))\n",
    "  results<-data.frame(NoOfVars=t2,R2=round(t1$rsq,4),adjR2=round(t1$adjr2,4),\n",
    "                      SSE=round(t1$rss,5),Cp=round(t1$cp,4),\n",
    "                      #MSE=round(t1$rss/(nrow(model.matrix(modeloreg)[,-1])-(t2+1)),5),\n",
    "                      Variables.in.model=t3)\n",
    "  results\n",
    "}\n",
    "allregtable(modelo,Y)"
   ]
  },
  {
   "cell_type": "markdown",
   "metadata": {},
   "source": [
    "para este punto se toma la siguiente prueba de hipotesis: \n",
    "$$H_0: \\beta_2 = \\beta_4= \\beta_5 =0$$\n",
    "$$H_1: \\beta_2 \\neq 0 \\vee \\beta_4 \\neq 0 \\vee \\beta_5 \\neq 0 $$\n",
    "De las tablas anteriores se obtiene que el valor de $F_*$ se define como sigue:\n",
    "$$F_* = \\frac{ \\frac{253.8342 - 243.9527}{3}}{\\frac{243.9527}{24}} = 0.3248$$\n",
    "\n",
    "de la tabla de fisher se obtiene el valor de $F_{0.05,3,24}= 3.009$ y se concluye $$F_* < F_{0.05,3,24}$$\n",
    "No se tienen argumentos para rechazar la hipotesis nula, por lo tanto se concluye que ninguno de los parametros enunciados es significtivo."
   ]
  },
  {
   "cell_type": "markdown",
   "metadata": {},
   "source": [
    "### 3. Use la información pertinente para determinar si la multicolinealidad es un problema potencial."
   ]
  },
  {
   "cell_type": "code",
   "execution_count": 37,
   "metadata": {
    "scrolled": false
   },
   "outputs": [],
   "source": [
    "##################################\n",
    "##PARA EVALUAR MULTICOLINEALIDAD##\n",
    "##################################\n",
    "\n",
    "\n",
    "#CREANDO FUNCIÓN PARA EXTRAER COEFICIENTES ESTIMADOS, SUS IC DEL 95%, VIF'S Y COEFICIENTES ESTANDARIZADOS\n",
    "miscoeficientes=function(modeloreg,datosreg){\n",
    "  coefi=coef(modeloreg)\n",
    "  datos2=as.data.frame(scale(datosreg))\n",
    "  coef.std=c(0,coef(lm(update(formula(modeloreg),~.+0),datos2)))\n",
    "  limites=confint(modeloreg,level=0.95)\n",
    "  vifs=c(0,vif(modeloreg))\n",
    "  resul=data.frame(Estimacion=coefi,Limites=limites,Vif=vifs,Coef.Std=coef.std)\n",
    "  cat(\"Coeficientes estimados, sus I.C, Vifs y Coeficientes estimados estandarizados\",\"\\n\")\n",
    "  resul\n",
    "}\n",
    "#CREANDO FUNCION PARA EXTRAER RESULTADOS PARA DIAGN?STICOS DE MULTICOLINEALIDAD\n",
    "misDiagnostcolin=function(modeloreg,centrar=F){\n",
    "  if(centrar==F){\n",
    "    X=model.matrix(modeloreg)\n",
    "    val.prop=prcomp(X,center=FALSE,scale=TRUE)$sdev^2\n",
    "    Ind=colldiag(modeloreg)\n",
    "    resul=data.frame(Val.propio=val.prop,Ind.Cond=Ind$condindx,Pi=Ind$pi)\n",
    "    cat(\"Diagnósticos Multicolinealidad - Intercepto incluido\",\"\\n\",\n",
    "        \"Indices de Condición y Proporciones de Varianza\",\"\\n\")\n",
    "  }\n",
    "  else{\n",
    "    X=model.matrix(modeloreg)[,-1]\n",
    "    val.prop=prcomp(X,center=TRUE,scale=TRUE)$sdev^2\n",
    "    Ind=colldiag(modeloreg,center=TRUE,scale=TRUE)\n",
    "    resul=data.frame(Val.propio=val.prop,Ind.Cond=Ind$condindx,Pi=Ind$pi)\n",
    "    cat(\"DiagnÓsticos Multicolinealidad - Intercepto ajustado\",\"\\n\",\n",
    "        \"Índices de Condición y Proporciones de Varianza\",\"\\n\")\n",
    "  }\n",
    "  resul\n",
    "}\n",
    "\n",
    "\n",
    "#misDiagnostcolin(modelo)\n",
    "#misDiagnostcolin(modelo,centrar=T)\n",
    "\n",
    "#MATRIZ DE CORRELACIÓN\n",
    "#plot(datos)\n"
   ]
  },
  {
   "cell_type": "markdown",
   "metadata": {},
   "source": [
    "Para estudiar la multicolinealidad del modelo, primero se utiliza el metodo de factor de inflación de varianza, para el cual se obtiene la siguiente tabla:"
   ]
  },
  {
   "cell_type": "code",
   "execution_count": 38,
   "metadata": {},
   "outputs": [
    {
     "name": "stdout",
     "output_type": "stream",
     "text": [
      "Coeficientes estimados, sus I.C, Vifs y Coeficientes estimados estandarizados \n"
     ]
    },
    {
     "data": {
      "text/html": [
       "<table>\n",
       "<thead><tr><th></th><th scope=col>Estimacion</th><th scope=col>Limites.2.5..</th><th scope=col>Limites.97.5..</th><th scope=col>Vif</th><th scope=col>Coef.Std</th></tr></thead>\n",
       "<tbody>\n",
       "\t<tr><th scope=row>(Intercept)</th><td> 8.963411230</td><td> 0.99054583 </td><td>16.9362766  </td><td>0.000000    </td><td> 0.000000000</td></tr>\n",
       "\t<tr><th scope=row>X1</th><td> 3.107643417</td><td> 1.99868108 </td><td> 4.2166058  </td><td>2.274322    </td><td> 0.741224000</td></tr>\n",
       "\t<tr><th scope=row>X2</th><td>-0.112221005</td><td>-0.96870994 </td><td> 0.7442679  </td><td>2.152043    </td><td>-0.033712193</td></tr>\n",
       "\t<tr><th scope=row>X3</th><td> 1.879014357</td><td> 0.06239572 </td><td> 3.6956330  </td><td>1.767142    </td><td> 0.241163276</td></tr>\n",
       "\t<tr><th scope=row>X4</th><td> 0.598984615</td><td>-0.87145558 </td><td> 2.0694248  </td><td>1.666236    </td><td> 0.092224352</td></tr>\n",
       "\t<tr><th scope=row>X5</th><td>-0.002084124</td><td>-0.08684715 </td><td> 0.0826789  </td><td>1.314460    </td><td>-0.004944245</td></tr>\n",
       "</tbody>\n",
       "</table>\n"
      ],
      "text/latex": [
       "\\begin{tabular}{r|lllll}\n",
       "  & Estimacion & Limites.2.5.. & Limites.97.5.. & Vif & Coef.Std\\\\\n",
       "\\hline\n",
       "\t(Intercept) &  8.963411230 &  0.99054583  & 16.9362766   & 0.000000     &  0.000000000\\\\\n",
       "\tX1 &  3.107643417 &  1.99868108  &  4.2166058   & 2.274322     &  0.741224000\\\\\n",
       "\tX2 & -0.112221005 & -0.96870994  &  0.7442679   & 2.152043     & -0.033712193\\\\\n",
       "\tX3 &  1.879014357 &  0.06239572  &  3.6956330   & 1.767142     &  0.241163276\\\\\n",
       "\tX4 &  0.598984615 & -0.87145558  &  2.0694248   & 1.666236     &  0.092224352\\\\\n",
       "\tX5 & -0.002084124 & -0.08684715  &  0.0826789   & 1.314460     & -0.004944245\\\\\n",
       "\\end{tabular}\n"
      ],
      "text/markdown": [
       "\n",
       "| <!--/--> | Estimacion | Limites.2.5.. | Limites.97.5.. | Vif | Coef.Std | \n",
       "|---|---|---|---|---|---|\n",
       "| (Intercept) |  8.963411230 |  0.99054583  | 16.9362766   | 0.000000     |  0.000000000 | \n",
       "| X1 |  3.107643417 |  1.99868108  |  4.2166058   | 2.274322     |  0.741224000 | \n",
       "| X2 | -0.112221005 | -0.96870994  |  0.7442679   | 2.152043     | -0.033712193 | \n",
       "| X3 |  1.879014357 |  0.06239572  |  3.6956330   | 1.767142     |  0.241163276 | \n",
       "| X4 |  0.598984615 | -0.87145558  |  2.0694248   | 1.666236     |  0.092224352 | \n",
       "| X5 | -0.002084124 | -0.08684715  |  0.0826789   | 1.314460     | -0.004944245 | \n",
       "\n",
       "\n"
      ],
      "text/plain": [
       "            Estimacion   Limites.2.5.. Limites.97.5.. Vif      Coef.Std    \n",
       "(Intercept)  8.963411230  0.99054583   16.9362766     0.000000  0.000000000\n",
       "X1           3.107643417  1.99868108    4.2166058     2.274322  0.741224000\n",
       "X2          -0.112221005 -0.96870994    0.7442679     2.152043 -0.033712193\n",
       "X3           1.879014357  0.06239572    3.6956330     1.767142  0.241163276\n",
       "X4           0.598984615 -0.87145558    2.0694248     1.666236  0.092224352\n",
       "X5          -0.002084124 -0.08684715    0.0826789     1.314460 -0.004944245"
      ]
     },
     "metadata": {},
     "output_type": "display_data"
    }
   ],
   "source": [
    "miscoeficientes(modelo,datos)"
   ]
  },
  {
   "cell_type": "markdown",
   "metadata": {},
   "source": [
    "para analizarla se tiene en cuenta la definición del factor de inflación de varianza $VIF_j$ \n",
    "$$VIF_j =\\frac{1}{1 − R^2_j}$$\n",
    "\n",
    "y se tienen en cuenta las siguientes consideraciones: \n",
    "* Si $VIF_j ≤ 5$, no hay o presentan una leve multicolinealidad en el modelo j.\n",
    "* Si $5 < VIF_j ≤ 10 $, hay multicolinealidad moderada en el modelo j. \n",
    "* Si $VIF_j > 10$, hay multicolinealidad grave en el modelo j.\n",
    "\n",
    "ahora bien, del modelo se obtiene que el valor de este factor para todas las variables se halla entre $1.2 < VIF_j < 2.3$ por lo tanto, a partir de este criterio, se concluye que no hay o son candidatos a presentar una leve multicolinealidad entre las variables.\n"
   ]
  },
  {
   "cell_type": "code",
   "execution_count": 39,
   "metadata": {},
   "outputs": [
    {
     "data": {
      "text/html": [
       "<table>\n",
       "<thead><tr><th></th><th scope=col>Y</th><th scope=col>X1</th><th scope=col>X2</th><th scope=col>X3</th><th scope=col>X4</th><th scope=col>X5</th></tr></thead>\n",
       "<tbody>\n",
       "\t<tr><th scope=row>Y</th><td>1.0000000  </td><td> 0.87626460</td><td> 0.6078597 </td><td>0.6097624  </td><td>0.5505311  </td><td> 0.03283720</td></tr>\n",
       "\t<tr><th scope=row>X1</th><td>0.8762646  </td><td> 1.00000000</td><td> 0.6618219 </td><td>0.4660187  </td><td>0.4834967  </td><td>-0.07591009</td></tr>\n",
       "\t<tr><th scope=row>X2</th><td>0.6078597  </td><td> 0.66182194</td><td> 1.0000000 </td><td>0.5255517  </td><td>0.2564675  </td><td>-0.12485037</td></tr>\n",
       "\t<tr><th scope=row>X3</th><td>0.6097624  </td><td> 0.46601867</td><td> 0.5255517 </td><td>1.0000000  </td><td>0.4567898  </td><td> 0.24974096</td></tr>\n",
       "\t<tr><th scope=row>X4</th><td>0.5505311  </td><td> 0.48349665</td><td> 0.2564675 </td><td>0.4567898  </td><td>1.0000000  </td><td> 0.32107033</td></tr>\n",
       "\t<tr><th scope=row>X5</th><td>0.0328372  </td><td>-0.07591009</td><td>-0.1248504 </td><td>0.2497410  </td><td>0.3210703  </td><td> 1.00000000</td></tr>\n",
       "</tbody>\n",
       "</table>\n"
      ],
      "text/latex": [
       "\\begin{tabular}{r|llllll}\n",
       "  & Y & X1 & X2 & X3 & X4 & X5\\\\\n",
       "\\hline\n",
       "\tY & 1.0000000   &  0.87626460 &  0.6078597  & 0.6097624   & 0.5505311   &  0.03283720\\\\\n",
       "\tX1 & 0.8762646   &  1.00000000 &  0.6618219  & 0.4660187   & 0.4834967   & -0.07591009\\\\\n",
       "\tX2 & 0.6078597   &  0.66182194 &  1.0000000  & 0.5255517   & 0.2564675   & -0.12485037\\\\\n",
       "\tX3 & 0.6097624   &  0.46601867 &  0.5255517  & 1.0000000   & 0.4567898   &  0.24974096\\\\\n",
       "\tX4 & 0.5505311   &  0.48349665 &  0.2564675  & 0.4567898   & 1.0000000   &  0.32107033\\\\\n",
       "\tX5 & 0.0328372   & -0.07591009 & -0.1248504  & 0.2497410   & 0.3210703   &  1.00000000\\\\\n",
       "\\end{tabular}\n"
      ],
      "text/markdown": [
       "\n",
       "| <!--/--> | Y | X1 | X2 | X3 | X4 | X5 | \n",
       "|---|---|---|---|---|---|\n",
       "| Y | 1.0000000   |  0.87626460 |  0.6078597  | 0.6097624   | 0.5505311   |  0.03283720 | \n",
       "| X1 | 0.8762646   |  1.00000000 |  0.6618219  | 0.4660187   | 0.4834967   | -0.07591009 | \n",
       "| X2 | 0.6078597   |  0.66182194 |  1.0000000  | 0.5255517   | 0.2564675   | -0.12485037 | \n",
       "| X3 | 0.6097624   |  0.46601867 |  0.5255517  | 1.0000000   | 0.4567898   |  0.24974096 | \n",
       "| X4 | 0.5505311   |  0.48349665 |  0.2564675  | 0.4567898   | 1.0000000   |  0.32107033 | \n",
       "| X5 | 0.0328372   | -0.07591009 | -0.1248504  | 0.2497410   | 0.3210703   |  1.00000000 | \n",
       "\n",
       "\n"
      ],
      "text/plain": [
       "   Y         X1          X2         X3        X4        X5         \n",
       "Y  1.0000000  0.87626460  0.6078597 0.6097624 0.5505311  0.03283720\n",
       "X1 0.8762646  1.00000000  0.6618219 0.4660187 0.4834967 -0.07591009\n",
       "X2 0.6078597  0.66182194  1.0000000 0.5255517 0.2564675 -0.12485037\n",
       "X3 0.6097624  0.46601867  0.5255517 1.0000000 0.4567898  0.24974096\n",
       "X4 0.5505311  0.48349665  0.2564675 0.4567898 1.0000000  0.32107033\n",
       "X5 0.0328372 -0.07591009 -0.1248504 0.2497410 0.3210703  1.00000000"
      ]
     },
     "metadata": {},
     "output_type": "display_data"
    },
    {
     "data": {
      "image/png": "[encoded data removed]",
      "text/plain": [
       "plot without title"
      ]
     },
     "metadata": {},
     "output_type": "display_data"
    }
   ],
   "source": [
    "#MATRIZ DE CORRELACIÓN\n",
    "plot(datos)\n",
    "\n",
    "#MATRIZ DE CORRELACIONES PARA VARIABLES \n",
    "cor(datos)"
   ]
  },
  {
   "cell_type": "markdown",
   "metadata": {},
   "source": [
    "Usando el metodo de la matriz de correlaciones se tienen dos procesos: \n",
    "\n",
    "* Graficamente, Se obtiene la imagen anterior, en la cual se requiere que los datos graficados no sigan un patron Lineal.\n",
    "\n",
    "* Numericamente se espera que estos candidatos a tener multicolinealidad tengan un valor de $\\mid x \\mid > 0.5$ para confirmarlos.\n",
    "\n",
    "Para nuestro caso, se observa que la grafica de $X_2$ vs $X_1$ presenta un patron lineal claro y es la unica que lo presenta, además en la tabla numerica se encuentra que esta tiene un valor de $0.66182194$, por lo cual se conlcuye que a partir de este metodo, son candidatos a presentar multicolinealidad leve $X_1$ y $X_2$.\n",
    "\n",
    "Además, de la tabla numérica se observa también que la relación entre $X_2$ y $X_3$ tiene un valor de $0.5255517$ sin embargo, esta relación no es tan clara en las graficas, no obstante es posible afirmar que tambien $X_2$ y $X_3$ son candidatos a presentar multicolinealidad muy leve.\n",
    "\n"
   ]
  },
  {
   "cell_type": "code",
   "execution_count": 40,
   "metadata": {},
   "outputs": [
    {
     "name": "stdout",
     "output_type": "stream",
     "text": [
      "DiagnÓsticos Multicolinealidad - Intercepto ajustado \n",
      " Índices de Condición y Proporciones de Varianza \n"
     ]
    },
    {
     "data": {
      "text/html": [
       "<table>\n",
       "<thead><tr><th scope=col>Val.propio</th><th scope=col>cond.index</th><th scope=col>Pi.X1</th><th scope=col>Pi.X2</th><th scope=col>Pi.X3</th><th scope=col>Pi.X4</th><th scope=col>Pi.X5</th></tr></thead>\n",
       "<tbody>\n",
       "\t<tr><td>2.4556085  </td><td>1.000000   </td><td>0.05042958 </td><td>0.04621803 </td><td>0.059732327</td><td>0.04922098 </td><td>0.004188377</td></tr>\n",
       "\t<tr><td>1.2743743  </td><td>1.388133   </td><td>0.02372335 </td><td>0.05304806 </td><td>0.009458495</td><td>0.06031562 </td><td>0.379903545</td></tr>\n",
       "\t<tr><td>0.6071010  </td><td>2.011171   </td><td>0.06516280 </td><td>0.08611972 </td><td>0.252010486</td><td>0.44949445 </td><td>0.090786994</td></tr>\n",
       "\t<tr><td>0.4037264  </td><td>2.466244   </td><td>0.15900966 </td><td>0.13944643 </td><td>0.541171215</td><td>0.10543962 </td><td>0.519739819</td></tr>\n",
       "\t<tr><td>0.2591898  </td><td>3.078014   </td><td>0.70167462 </td><td>0.67516775 </td><td>0.137627477</td><td>0.33552933 </td><td>0.005381265</td></tr>\n",
       "</tbody>\n",
       "</table>\n"
      ],
      "text/latex": [
       "\\begin{tabular}{r|lllllll}\n",
       " Val.propio & cond.index & Pi.X1 & Pi.X2 & Pi.X3 & Pi.X4 & Pi.X5\\\\\n",
       "\\hline\n",
       "\t 2.4556085   & 1.000000    & 0.05042958  & 0.04621803  & 0.059732327 & 0.04922098  & 0.004188377\\\\\n",
       "\t 1.2743743   & 1.388133    & 0.02372335  & 0.05304806  & 0.009458495 & 0.06031562  & 0.379903545\\\\\n",
       "\t 0.6071010   & 2.011171    & 0.06516280  & 0.08611972  & 0.252010486 & 0.44949445  & 0.090786994\\\\\n",
       "\t 0.4037264   & 2.466244    & 0.15900966  & 0.13944643  & 0.541171215 & 0.10543962  & 0.519739819\\\\\n",
       "\t 0.2591898   & 3.078014    & 0.70167462  & 0.67516775  & 0.137627477 & 0.33552933  & 0.005381265\\\\\n",
       "\\end{tabular}\n"
      ],
      "text/markdown": [
       "\n",
       "Val.propio | cond.index | Pi.X1 | Pi.X2 | Pi.X3 | Pi.X4 | Pi.X5 | \n",
       "|---|---|---|---|---|\n",
       "| 2.4556085   | 1.000000    | 0.05042958  | 0.04621803  | 0.059732327 | 0.04922098  | 0.004188377 | \n",
       "| 1.2743743   | 1.388133    | 0.02372335  | 0.05304806  | 0.009458495 | 0.06031562  | 0.379903545 | \n",
       "| 0.6071010   | 2.011171    | 0.06516280  | 0.08611972  | 0.252010486 | 0.44949445  | 0.090786994 | \n",
       "| 0.4037264   | 2.466244    | 0.15900966  | 0.13944643  | 0.541171215 | 0.10543962  | 0.519739819 | \n",
       "| 0.2591898   | 3.078014    | 0.70167462  | 0.67516775  | 0.137627477 | 0.33552933  | 0.005381265 | \n",
       "\n",
       "\n"
      ],
      "text/plain": [
       "  Val.propio cond.index Pi.X1      Pi.X2      Pi.X3       Pi.X4     \n",
       "1 2.4556085  1.000000   0.05042958 0.04621803 0.059732327 0.04922098\n",
       "2 1.2743743  1.388133   0.02372335 0.05304806 0.009458495 0.06031562\n",
       "3 0.6071010  2.011171   0.06516280 0.08611972 0.252010486 0.44949445\n",
       "4 0.4037264  2.466244   0.15900966 0.13944643 0.541171215 0.10543962\n",
       "5 0.2591898  3.078014   0.70167462 0.67516775 0.137627477 0.33552933\n",
       "  Pi.X5      \n",
       "1 0.004188377\n",
       "2 0.379903545\n",
       "3 0.090786994\n",
       "4 0.519739819\n",
       "5 0.005381265"
      ]
     },
     "metadata": {},
     "output_type": "display_data"
    }
   ],
   "source": [
    "#misDiagnostcolin(modelo)\n",
    "misDiagnostcolin(modelo,centrar=T)"
   ]
  },
  {
   "cell_type": "markdown",
   "metadata": {},
   "source": [
    "No se usará el criterio del indice de condicion ya que $\\beta_0$ no tiene interpretacion practica. Siendo asi se tendra en cuenta solo la tabla del intercepto ajustado.\n",
    "\n",
    " * Ya que $\\beta_0$ no interpretación estadistica, se debe tomar la tabla centrada\n",
    " * Se aplicara metodo de proporción de varianza, buscando dos valores mayores a 0.5 entre las variables para confirmar multicolinealidad entre ellas\n",
    "\n",
    "\n",
    "Por el metodo de proporción de varianza podemos detectar multicolinealidad entre las variables X3 y X5 ya que en la cuarta fila ambas presentan una proporcion superior a 0.5, lo mismo sucede con las variables x1 y x2 en la quinta fila.\n"
   ]
  },
  {
   "cell_type": "markdown",
   "metadata": {},
   "source": [
    "## 4. Usando el método backward determine cuales son las predictoras que deben estar en el modelo. ¿ Concuerda este modelo con el determinado en primer inciso? Además use los otros criterios vistos en clase para mostrar 2 candidatos a mejor modelo. Argumente."
   ]
  },
  {
   "cell_type": "markdown",
   "metadata": {},
   "source": [
    "regresando a la tabla de todos los modelos posibles, partiendo del modelo completo, se busca uno que al eliminar solo una variable se obtenga la menor suma cuadrada del error posible, luego se aplica la prueba de hipotesis:\n",
    "$$H_0: \\beta_k =0$$\n",
    "$$H_1: \\beta_k \\neq 0$$\n",
    "y se aplica la regla de decicíon:\n",
    "\n",
    "* $F_o > F_*$ se rechaza $H_0$, donde $$F_o = \\frac{SCE(MR)-SCE(MF)}{MCE(MF)}$$ \n",
    "Y $F_*$ es el valor de la tabla de Fisher con los parametros adecuados. "
   ]
  },
  {
   "cell_type": "code",
   "execution_count": 41,
   "metadata": {},
   "outputs": [
    {
     "name": "stdout",
     "output_type": "stream",
     "text": [
      "[1] \"valores de la tabla fisher para el analisis:\"\n",
      "F_0.05,1,24"
     ]
    },
    {
     "data": {
      "text/html": [
       "4.25967727269023"
      ],
      "text/latex": [
       "4.25967727269023"
      ],
      "text/markdown": [
       "4.25967727269023"
      ],
      "text/plain": [
       "[1] 4.259677"
      ]
     },
     "metadata": {},
     "output_type": "display_data"
    },
    {
     "name": "stdout",
     "output_type": "stream",
     "text": [
      "F_0.05,1,25"
     ]
    },
    {
     "data": {
      "text/html": [
       "4.24169905027715"
      ],
      "text/latex": [
       "4.24169905027715"
      ],
      "text/markdown": [
       "4.24169905027715"
      ],
      "text/plain": [
       "[1] 4.241699"
      ]
     },
     "metadata": {},
     "output_type": "display_data"
    },
    {
     "name": "stdout",
     "output_type": "stream",
     "text": [
      "F_0.05,1,26"
     ]
    },
    {
     "data": {
      "text/html": [
       "4.22520127312749"
      ],
      "text/latex": [
       "4.22520127312749"
      ],
      "text/markdown": [
       "4.22520127312749"
      ],
      "text/plain": [
       "[1] 4.225201"
      ]
     },
     "metadata": {},
     "output_type": "display_data"
    },
    {
     "name": "stdout",
     "output_type": "stream",
     "text": [
      "F_0.05,1,27"
     ]
    },
    {
     "data": {
      "text/html": [
       "4.21000846835976"
      ],
      "text/latex": [
       "4.21000846835976"
      ],
      "text/markdown": [
       "4.21000846835976"
      ],
      "text/plain": [
       "[1] 4.210008"
      ]
     },
     "metadata": {},
     "output_type": "display_data"
    }
   ],
   "source": [
    "print(\"valores de la tabla fisher para el analisis:\")\n",
    "cat(\"F_0.05,1,24\")\n",
    "qf(0.05,1,24, lower.tail = FALSE)\n",
    "\n",
    "cat(\"F_0.05,1,25\")\n",
    "qf(0.05,1,25, lower.tail = FALSE)\n",
    "\n",
    "cat(\"F_0.05,1,26\")\n",
    "qf(0.05,1,26, lower.tail = FALSE)\n",
    "\n",
    "cat(\"F_0.05,1,27\")\n",
    "qf(0.05,1,27, lower.tail = FALSE)"
   ]
  },
  {
   "cell_type": "markdown",
   "metadata": {},
   "source": [
    "Para el modelo full la suma cuadrada del error es de $SCE(MF) = 243.95$ \n",
    "\n",
    "* el modelo de 4 variables que reduse esta suma es el que elimina la variable $X_5$.\n",
    "prueba de hipotesis:\n",
    "$$H_0: \\beta_5 =0$$\n",
    "$$H_1: \\beta_5 \\neq 0$$\n",
    "\n",
    "Regla de decision: $F_o= 2.57 x10^{-3}< F_{0.05,1,24}= 4.26$ por lo tanto no se rechaza $H_0$ y el parametro $X_5$ es eliminado del modelo.\n",
    "\n",
    "* para la siguiente prueba se busca el modelo que reduzca la SCE para el nuevo modelo full, este será el que elimine $X_2$.\n",
    "\n",
    "prueba de hipotesis:\n",
    "$$H_0: \\beta_2 =0$$\n",
    "$$H_1: \\beta_2 \\neq 0$$\n",
    "\n",
    "Regla de decisión: $F_0=0.074 < 4.24$ por lo tanto no se rechaza $H_0$ y el parametro $X_2$ es eliminado del modelo.\n",
    "\n",
    "* el modelo con 2 variables será el que elimine $X_4$:\n",
    "prueba de hipotesis:\n",
    "$$H_0: \\beta_4 =0$$\n",
    "$$H_1: \\beta_4 \\neq 0$$\n",
    "\n",
    "Regla de decision: $F_o= 0.9709< F_{0.05,1,26}= 4.23$ por lo tanto no se rechaza $H_0$ y el parametro $X_4$ es eliminado del modelo.\n",
    "\n",
    "* el modelo con 1 variable será el que elimine $X_3$:\n",
    "prueba de hipotesis:\n",
    "$$H_0: \\beta_3 =0$$\n",
    "$$H_1: \\beta_3 \\neq 0$$\n",
    "\n",
    "Regla de decision: $F_o= 7.75> F_{0.05,1,27}= 4.21$ por lo tanto  se rechaza $H_0$ y se finaliza el proceso.\n",
    "\n",
    "Luego el modelo reducido será: $$Y \\sim (\\beta_1X_1+\\beta_3X_3)$$\n",
    "Efectivamente este modelo coincide con el determinado en el primer inciso.\n",
    "\n",
    "Adicionalmente se puede hacer uso de otros criterios para determinar cual podria ser el mejor modelo,estos son respecto al $R^{2}adj$ que dice que el mejor modelo es el que tenga mayor valor en este estadistico y el Cp de Mallows que nos indica que un candidato a mejor modelo sera el que tenga el menor valor respecto a |Cp-p| (donde p=k+1).\n",
    "Tomando en cuenta los criterios anteriores, se hizo uso de la tabla de todas las regresiones posibles para obtener la informacion necesaria, empezando por el $R^{2}adj$ se determino que el modelo con mayor valor en este estadistico fue el modelo de dos variables compuesto por X1 y X3 con un $R^{2}adj$=0.8063 lo cual coincide con el modelo que hemos obtenido en las pruebas anteriores reduciendo el modelo full. Respecto al Cp se encontro que el modelo con menor |Cp-p| es el modelo full que hemos venido reduciendo, ya que su Cp=6.000 se resto con k+1=6 y nos dio cero, cosa que no pasa con ningun otro modelo con menor numero de variables."
   ]
  },
  {
   "cell_type": "markdown",
   "metadata": {},
   "source": []
  },
  {
   "cell_type": "code",
   "execution_count": null,
   "metadata": {},
   "outputs": [],
   "source": []
  },
  {
   "cell_type": "code",
   "execution_count": 42,
   "metadata": {},
   "outputs": [
    {
     "data": {
      "image/png": "[encoded data removed]",
      "text/plain": [
       "Plot with title \"Residuales Estudentizados vs. Valores Ajustados\""
      ]
     },
     "metadata": {},
     "output_type": "display_data"
    }
   ],
   "source": [
    "#CALCULO DE RESIDUALES ESTUDENTIZADOS\n",
    "restud<-round(rstudent(modelo),4)\n",
    "\n",
    "#GRÁFICO DE RESIDUALES VS. VALORES PREDICHOS\n",
    "plot(restud,fitted(modelo), xlab=\"Valores Ajustados\",ylab=\"Residuales Estudentizados\",\n",
    "     main=\"Residuales Estudentizados vs. Valores Ajustados\")\n"
   ]
  },
  {
   "cell_type": "markdown",
   "metadata": {},
   "source": [
    "En la prueba de varianza constante no se puede reconocer una formacion cuadrada de los datos para\n",
    "poder determinar la varianza constante, en cambio adquieren una forma conica abriendo hacia \n",
    "la derecha."
   ]
  },
  {
   "cell_type": "code",
   "execution_count": 43,
   "metadata": {},
   "outputs": [
    {
     "data": {
      "text/plain": [
       "\n",
       "\tRuns Test\n",
       "\n",
       "data:  x\n",
       "Standard Normal = -1.0951, p-value = 0.2735\n",
       "alternative hypothesis: two.sided\n"
      ]
     },
     "metadata": {},
     "output_type": "display_data"
    },
    {
     "data": {
      "image/png": "[encoded data removed]",
      "text/plain": [
       "Plot with title \"Aleatoriedad\""
      ]
     },
     "metadata": {},
     "output_type": "display_data"
    }
   ],
   "source": [
    "\n",
    "#prueba de aleatoriedad\n",
    "plot(restud, main='Aleatoriedad', ylab='Residuales', xlab='Orden de experimentación')\n",
    "lines(restud, col=\"red\")\n",
    "\n",
    "#test aleatoriedad\n",
    "x<-factor(sign(restud))\n",
    "runs.test(x)\n",
    "\n"
   ]
  },
  {
   "cell_type": "markdown",
   "metadata": {},
   "source": [
    "En la prueba de aletoriedad no se presentan patrones, ni tendencias por tanto se puede concluir\n",
    "que si hay aletoriedad."
   ]
  },
  {
   "cell_type": "code",
   "execution_count": 44,
   "metadata": {},
   "outputs": [
    {
     "data": {
      "text/plain": [
       "\n",
       "\tShapiro-Wilk normality test\n",
       "\n",
       "data:  restud\n",
       "W = 0.98115, p-value = 0.8554\n"
      ]
     },
     "metadata": {},
     "output_type": "display_data"
    },
    {
     "data": {
      "image/png": "[encoded data removed]",
      "text/plain": [
       "Plot with title \"Normal Q-Q Plot\""
      ]
     },
     "metadata": {},
     "output_type": "display_data"
    }
   ],
   "source": [
    "#PRUEBA DE NORMALIDAD DE SHAPIRO-WILK\n",
    "test<-shapiro.test(restud)\n",
    "test\n",
    "\n",
    "#GRÁFICO DE CUANTILES NORMALES\n",
    "qqnorm(restud,cex=1.5)\n",
    "qqline(restud,lty=2,lwd=2,col=2)\n"
   ]
  },
  {
   "cell_type": "markdown",
   "metadata": {},
   "source": [
    "Segun el plot de normalidad se puede inferir una normalidad de los datos ya que todos se acopan\n",
    "a la recta a excepcion de un dato que puede poner en duda nuestra hipotesis."
   ]
  },
  {
   "cell_type": "code",
   "execution_count": 46,
   "metadata": {},
   "outputs": [
    {
     "data": {
      "text/html": [
       "<table>\n",
       "<thead><tr><th scope=col>Y</th><th scope=col>yhat</th><th scope=col>se.yhat</th><th scope=col>residuals</th><th scope=col>res.estud</th><th scope=col>Cooks.D</th><th scope=col>hii.value</th><th scope=col>Dffits</th></tr></thead>\n",
       "<tbody>\n",
       "\t<tr><td>34.7     </td><td>34.01892 </td><td>1.0796592</td><td> 0.6811  </td><td> 0.2225  </td><td>0.0011   </td><td>0.1147   </td><td> 0.0801  </td></tr>\n",
       "\t<tr><td>40.6     </td><td>43.34864 </td><td>1.8560166</td><td>-2.7486  </td><td>-1.0632  </td><td>0.0961   </td><td>0.3389   </td><td>-0.7612  </td></tr>\n",
       "\t<tr><td>28.9     </td><td>31.65792 </td><td>1.7479628</td><td>-2.7579  </td><td>-1.0359  </td><td>0.0766   </td><td>0.3006   </td><td>-0.6791  </td></tr>\n",
       "\t<tr><td>31.0     </td><td>33.08735 </td><td>0.8056576</td><td>-2.0874  </td><td>-0.6688  </td><td>0.0052   </td><td>0.0639   </td><td>-0.1747  </td></tr>\n",
       "\t<tr><td>25.9     </td><td>29.83779 </td><td>1.2289332</td><td>-3.9378  </td><td>-1.3622  </td><td>0.0521   </td><td>0.1486   </td><td>-0.5690  </td></tr>\n",
       "\t<tr><td>25.9     </td><td>24.25504 </td><td>1.9681233</td><td> 1.6450  </td><td> 0.6479  </td><td>0.0441   </td><td>0.3811   </td><td> 0.5083  </td></tr>\n",
       "\t<tr><td>25.9     </td><td>28.46676 </td><td>1.0935725</td><td>-2.5668  </td><td>-0.8522  </td><td>0.0163   </td><td>0.1177   </td><td>-0.3112  </td></tr>\n",
       "\t<tr><td>30.9     </td><td>33.05238 </td><td>1.0648700</td><td>-2.1524  </td><td>-0.7088  </td><td>0.0107   </td><td>0.1116   </td><td>-0.2512  </td></tr>\n",
       "\t<tr><td>29.5     </td><td>31.62316 </td><td>1.2123093</td><td>-2.1232  </td><td>-0.7126  </td><td>0.0146   </td><td>0.1446   </td><td>-0.2930  </td></tr>\n",
       "\t<tr><td>27.9     </td><td>28.54452 </td><td>1.2982322</td><td>-0.6445  </td><td>-0.2169  </td><td>0.0016   </td><td>0.1658   </td><td>-0.0967  </td></tr>\n",
       "\t<tr><td>37.9     </td><td>33.71863 </td><td>0.7900281</td><td> 4.1814  </td><td> 1.3789  </td><td>0.0200   </td><td>0.0614   </td><td> 0.3527  </td></tr>\n",
       "\t<tr><td>41.9     </td><td>38.45242 </td><td>0.9129863</td><td> 3.4476  </td><td> 1.1354  </td><td>0.0190   </td><td>0.0820   </td><td> 0.3393  </td></tr>\n",
       "\t<tr><td>35.9     </td><td>32.18162 </td><td>0.7387363</td><td> 3.7184  </td><td> 1.2105  </td><td>0.0136   </td><td>0.0537   </td><td> 0.2883  </td></tr>\n",
       "\t<tr><td>30.0     </td><td>28.91155 </td><td>1.1135170</td><td> 1.0884  </td><td> 0.3577  </td><td>0.0031   </td><td>0.1220   </td><td> 0.1333  </td></tr>\n",
       "\t<tr><td>44.5     </td><td>43.29275 </td><td>1.7620046</td><td> 1.2073  </td><td> 0.4467  </td><td>0.0151   </td><td>0.3054   </td><td> 0.2962  </td></tr>\n",
       "\t<tr><td>43.9     </td><td>43.13845 </td><td>1.2656758</td><td> 0.7616  </td><td> 0.2551  </td><td>0.0021   </td><td>0.1576   </td><td> 0.1104  </td></tr>\n",
       "\t<tr><td>37.5     </td><td>32.82621 </td><td>0.6694890</td><td> 4.6738  </td><td> 1.5418  </td><td>0.0173   </td><td>0.0441   </td><td> 0.3311  </td></tr>\n",
       "\t<tr><td>40.5     </td><td>38.50032 </td><td>1.0139916</td><td> 1.9997  </td><td> 0.6536  </td><td>0.0082   </td><td>0.1012   </td><td> 0.2193  </td></tr>\n",
       "\t<tr><td>32.0     </td><td>33.71120 </td><td>2.3713987</td><td>-1.7112  </td><td>-0.7969  </td><td>0.1331   </td><td>0.5532   </td><td>-0.8868  </td></tr>\n",
       "\t<tr><td>36.9     </td><td>41.82545 </td><td>1.5015682</td><td>-4.9255  </td><td>-1.8357  </td><td>0.1457   </td><td>0.2218   </td><td>-0.9801  </td></tr>\n",
       "\t<tr><td>29.5     </td><td>31.05283 </td><td>1.3429424</td><td>-1.5528  </td><td>-0.5289  </td><td>0.0104   </td><td>0.1774   </td><td>-0.2456  </td></tr>\n",
       "\t<tr><td>29.9     </td><td>29.80089 </td><td>0.8141942</td><td> 0.0991  </td><td> 0.0315  </td><td>0.0000   </td><td>0.0652   </td><td> 0.0083  </td></tr>\n",
       "\t<tr><td>25.9     </td><td>30.48496 </td><td>1.9960899</td><td>-4.5850  </td><td>-1.9488  </td><td>0.3655   </td><td>0.3920   </td><td>-1.5648  </td></tr>\n",
       "\t<tr><td>29.9     </td><td>25.88897 </td><td>1.3340033</td><td> 4.0110  </td><td> 1.4137  </td><td>0.0679   </td><td>0.1751   </td><td> 0.6513  </td></tr>\n",
       "\t<tr><td>37.9     </td><td>38.56374 </td><td>1.2861025</td><td>-0.6637  </td><td>-0.2230  </td><td>0.0017   </td><td>0.1627   </td><td>-0.0983  </td></tr>\n",
       "\t<tr><td>41.9     </td><td>35.94376 </td><td>1.0469845</td><td> 5.9562  </td><td> 2.1164  </td><td>0.0788   </td><td>0.1078   </td><td> 0.7358  </td></tr>\n",
       "\t<tr><td>36.9     </td><td>40.37454 </td><td>1.5557744</td><td>-3.4745  </td><td>-1.2640  </td><td>0.0812   </td><td>0.2381   </td><td>-0.7067  </td></tr>\n",
       "\t<tr><td>45.8     </td><td>44.71910 </td><td>1.4081553</td><td> 1.0809  </td><td> 0.3710  </td><td>0.0058   </td><td>0.1951   </td><td> 0.1827  </td></tr>\n",
       "\t<tr><td>53.0     </td><td>51.79836 </td><td>2.9042813</td><td> 1.2016  </td><td> 0.9104  </td><td>0.6784   </td><td>0.8298   </td><td> 2.0103  </td></tr>\n",
       "\t<tr><td>31.5     </td><td>31.32178 </td><td>0.8253428</td><td> 0.1782  </td><td> 0.0567  </td><td>0.0000   </td><td>0.0670   </td><td> 0.0152  </td></tr>\n",
       "</tbody>\n",
       "</table>\n"
      ],
      "text/latex": [
       "\\begin{tabular}{r|llllllll}\n",
       " Y & yhat & se.yhat & residuals & res.estud & Cooks.D & hii.value & Dffits\\\\\n",
       "\\hline\n",
       "\t 34.7      & 34.01892  & 1.0796592 &  0.6811   &  0.2225   & 0.0011    & 0.1147    &  0.0801  \\\\\n",
       "\t 40.6      & 43.34864  & 1.8560166 & -2.7486   & -1.0632   & 0.0961    & 0.3389    & -0.7612  \\\\\n",
       "\t 28.9      & 31.65792  & 1.7479628 & -2.7579   & -1.0359   & 0.0766    & 0.3006    & -0.6791  \\\\\n",
       "\t 31.0      & 33.08735  & 0.8056576 & -2.0874   & -0.6688   & 0.0052    & 0.0639    & -0.1747  \\\\\n",
       "\t 25.9      & 29.83779  & 1.2289332 & -3.9378   & -1.3622   & 0.0521    & 0.1486    & -0.5690  \\\\\n",
       "\t 25.9      & 24.25504  & 1.9681233 &  1.6450   &  0.6479   & 0.0441    & 0.3811    &  0.5083  \\\\\n",
       "\t 25.9      & 28.46676  & 1.0935725 & -2.5668   & -0.8522   & 0.0163    & 0.1177    & -0.3112  \\\\\n",
       "\t 30.9      & 33.05238  & 1.0648700 & -2.1524   & -0.7088   & 0.0107    & 0.1116    & -0.2512  \\\\\n",
       "\t 29.5      & 31.62316  & 1.2123093 & -2.1232   & -0.7126   & 0.0146    & 0.1446    & -0.2930  \\\\\n",
       "\t 27.9      & 28.54452  & 1.2982322 & -0.6445   & -0.2169   & 0.0016    & 0.1658    & -0.0967  \\\\\n",
       "\t 37.9      & 33.71863  & 0.7900281 &  4.1814   &  1.3789   & 0.0200    & 0.0614    &  0.3527  \\\\\n",
       "\t 41.9      & 38.45242  & 0.9129863 &  3.4476   &  1.1354   & 0.0190    & 0.0820    &  0.3393  \\\\\n",
       "\t 35.9      & 32.18162  & 0.7387363 &  3.7184   &  1.2105   & 0.0136    & 0.0537    &  0.2883  \\\\\n",
       "\t 30.0      & 28.91155  & 1.1135170 &  1.0884   &  0.3577   & 0.0031    & 0.1220    &  0.1333  \\\\\n",
       "\t 44.5      & 43.29275  & 1.7620046 &  1.2073   &  0.4467   & 0.0151    & 0.3054    &  0.2962  \\\\\n",
       "\t 43.9      & 43.13845  & 1.2656758 &  0.7616   &  0.2551   & 0.0021    & 0.1576    &  0.1104  \\\\\n",
       "\t 37.5      & 32.82621  & 0.6694890 &  4.6738   &  1.5418   & 0.0173    & 0.0441    &  0.3311  \\\\\n",
       "\t 40.5      & 38.50032  & 1.0139916 &  1.9997   &  0.6536   & 0.0082    & 0.1012    &  0.2193  \\\\\n",
       "\t 32.0      & 33.71120  & 2.3713987 & -1.7112   & -0.7969   & 0.1331    & 0.5532    & -0.8868  \\\\\n",
       "\t 36.9      & 41.82545  & 1.5015682 & -4.9255   & -1.8357   & 0.1457    & 0.2218    & -0.9801  \\\\\n",
       "\t 29.5      & 31.05283  & 1.3429424 & -1.5528   & -0.5289   & 0.0104    & 0.1774    & -0.2456  \\\\\n",
       "\t 29.9      & 29.80089  & 0.8141942 &  0.0991   &  0.0315   & 0.0000    & 0.0652    &  0.0083  \\\\\n",
       "\t 25.9      & 30.48496  & 1.9960899 & -4.5850   & -1.9488   & 0.3655    & 0.3920    & -1.5648  \\\\\n",
       "\t 29.9      & 25.88897  & 1.3340033 &  4.0110   &  1.4137   & 0.0679    & 0.1751    &  0.6513  \\\\\n",
       "\t 37.9      & 38.56374  & 1.2861025 & -0.6637   & -0.2230   & 0.0017    & 0.1627    & -0.0983  \\\\\n",
       "\t 41.9      & 35.94376  & 1.0469845 &  5.9562   &  2.1164   & 0.0788    & 0.1078    &  0.7358  \\\\\n",
       "\t 36.9      & 40.37454  & 1.5557744 & -3.4745   & -1.2640   & 0.0812    & 0.2381    & -0.7067  \\\\\n",
       "\t 45.8      & 44.71910  & 1.4081553 &  1.0809   &  0.3710   & 0.0058    & 0.1951    &  0.1827  \\\\\n",
       "\t 53.0      & 51.79836  & 2.9042813 &  1.2016   &  0.9104   & 0.6784    & 0.8298    &  2.0103  \\\\\n",
       "\t 31.5      & 31.32178  & 0.8253428 &  0.1782   &  0.0567   & 0.0000    & 0.0670    &  0.0152  \\\\\n",
       "\\end{tabular}\n"
      ],
      "text/markdown": [
       "\n",
       "Y | yhat | se.yhat | residuals | res.estud | Cooks.D | hii.value | Dffits | \n",
       "|---|---|---|---|---|---|---|---|---|---|---|---|---|---|---|---|---|---|---|---|---|---|---|---|---|---|---|---|---|---|\n",
       "| 34.7      | 34.01892  | 1.0796592 |  0.6811   |  0.2225   | 0.0011    | 0.1147    |  0.0801   | \n",
       "| 40.6      | 43.34864  | 1.8560166 | -2.7486   | -1.0632   | 0.0961    | 0.3389    | -0.7612   | \n",
       "| 28.9      | 31.65792  | 1.7479628 | -2.7579   | -1.0359   | 0.0766    | 0.3006    | -0.6791   | \n",
       "| 31.0      | 33.08735  | 0.8056576 | -2.0874   | -0.6688   | 0.0052    | 0.0639    | -0.1747   | \n",
       "| 25.9      | 29.83779  | 1.2289332 | -3.9378   | -1.3622   | 0.0521    | 0.1486    | -0.5690   | \n",
       "| 25.9      | 24.25504  | 1.9681233 |  1.6450   |  0.6479   | 0.0441    | 0.3811    |  0.5083   | \n",
       "| 25.9      | 28.46676  | 1.0935725 | -2.5668   | -0.8522   | 0.0163    | 0.1177    | -0.3112   | \n",
       "| 30.9      | 33.05238  | 1.0648700 | -2.1524   | -0.7088   | 0.0107    | 0.1116    | -0.2512   | \n",
       "| 29.5      | 31.62316  | 1.2123093 | -2.1232   | -0.7126   | 0.0146    | 0.1446    | -0.2930   | \n",
       "| 27.9      | 28.54452  | 1.2982322 | -0.6445   | -0.2169   | 0.0016    | 0.1658    | -0.0967   | \n",
       "| 37.9      | 33.71863  | 0.7900281 |  4.1814   |  1.3789   | 0.0200    | 0.0614    |  0.3527   | \n",
       "| 41.9      | 38.45242  | 0.9129863 |  3.4476   |  1.1354   | 0.0190    | 0.0820    |  0.3393   | \n",
       "| 35.9      | 32.18162  | 0.7387363 |  3.7184   |  1.2105   | 0.0136    | 0.0537    |  0.2883   | \n",
       "| 30.0      | 28.91155  | 1.1135170 |  1.0884   |  0.3577   | 0.0031    | 0.1220    |  0.1333   | \n",
       "| 44.5      | 43.29275  | 1.7620046 |  1.2073   |  0.4467   | 0.0151    | 0.3054    |  0.2962   | \n",
       "| 43.9      | 43.13845  | 1.2656758 |  0.7616   |  0.2551   | 0.0021    | 0.1576    |  0.1104   | \n",
       "| 37.5      | 32.82621  | 0.6694890 |  4.6738   |  1.5418   | 0.0173    | 0.0441    |  0.3311   | \n",
       "| 40.5      | 38.50032  | 1.0139916 |  1.9997   |  0.6536   | 0.0082    | 0.1012    |  0.2193   | \n",
       "| 32.0      | 33.71120  | 2.3713987 | -1.7112   | -0.7969   | 0.1331    | 0.5532    | -0.8868   | \n",
       "| 36.9      | 41.82545  | 1.5015682 | -4.9255   | -1.8357   | 0.1457    | 0.2218    | -0.9801   | \n",
       "| 29.5      | 31.05283  | 1.3429424 | -1.5528   | -0.5289   | 0.0104    | 0.1774    | -0.2456   | \n",
       "| 29.9      | 29.80089  | 0.8141942 |  0.0991   |  0.0315   | 0.0000    | 0.0652    |  0.0083   | \n",
       "| 25.9      | 30.48496  | 1.9960899 | -4.5850   | -1.9488   | 0.3655    | 0.3920    | -1.5648   | \n",
       "| 29.9      | 25.88897  | 1.3340033 |  4.0110   |  1.4137   | 0.0679    | 0.1751    |  0.6513   | \n",
       "| 37.9      | 38.56374  | 1.2861025 | -0.6637   | -0.2230   | 0.0017    | 0.1627    | -0.0983   | \n",
       "| 41.9      | 35.94376  | 1.0469845 |  5.9562   |  2.1164   | 0.0788    | 0.1078    |  0.7358   | \n",
       "| 36.9      | 40.37454  | 1.5557744 | -3.4745   | -1.2640   | 0.0812    | 0.2381    | -0.7067   | \n",
       "| 45.8      | 44.71910  | 1.4081553 |  1.0809   |  0.3710   | 0.0058    | 0.1951    |  0.1827   | \n",
       "| 53.0      | 51.79836  | 2.9042813 |  1.2016   |  0.9104   | 0.6784    | 0.8298    |  2.0103   | \n",
       "| 31.5      | 31.32178  | 0.8253428 |  0.1782   |  0.0567   | 0.0000    | 0.0670    |  0.0152   | \n",
       "\n",
       "\n"
      ],
      "text/plain": [
       "   Y    yhat     se.yhat   residuals res.estud Cooks.D hii.value Dffits \n",
       "1  34.7 34.01892 1.0796592  0.6811    0.2225   0.0011  0.1147     0.0801\n",
       "2  40.6 43.34864 1.8560166 -2.7486   -1.0632   0.0961  0.3389    -0.7612\n",
       "3  28.9 31.65792 1.7479628 -2.7579   -1.0359   0.0766  0.3006    -0.6791\n",
       "4  31.0 33.08735 0.8056576 -2.0874   -0.6688   0.0052  0.0639    -0.1747\n",
       "5  25.9 29.83779 1.2289332 -3.9378   -1.3622   0.0521  0.1486    -0.5690\n",
       "6  25.9 24.25504 1.9681233  1.6450    0.6479   0.0441  0.3811     0.5083\n",
       "7  25.9 28.46676 1.0935725 -2.5668   -0.8522   0.0163  0.1177    -0.3112\n",
       "8  30.9 33.05238 1.0648700 -2.1524   -0.7088   0.0107  0.1116    -0.2512\n",
       "9  29.5 31.62316 1.2123093 -2.1232   -0.7126   0.0146  0.1446    -0.2930\n",
       "10 27.9 28.54452 1.2982322 -0.6445   -0.2169   0.0016  0.1658    -0.0967\n",
       "11 37.9 33.71863 0.7900281  4.1814    1.3789   0.0200  0.0614     0.3527\n",
       "12 41.9 38.45242 0.9129863  3.4476    1.1354   0.0190  0.0820     0.3393\n",
       "13 35.9 32.18162 0.7387363  3.7184    1.2105   0.0136  0.0537     0.2883\n",
       "14 30.0 28.91155 1.1135170  1.0884    0.3577   0.0031  0.1220     0.1333\n",
       "15 44.5 43.29275 1.7620046  1.2073    0.4467   0.0151  0.3054     0.2962\n",
       "16 43.9 43.13845 1.2656758  0.7616    0.2551   0.0021  0.1576     0.1104\n",
       "17 37.5 32.82621 0.6694890  4.6738    1.5418   0.0173  0.0441     0.3311\n",
       "18 40.5 38.50032 1.0139916  1.9997    0.6536   0.0082  0.1012     0.2193\n",
       "19 32.0 33.71120 2.3713987 -1.7112   -0.7969   0.1331  0.5532    -0.8868\n",
       "20 36.9 41.82545 1.5015682 -4.9255   -1.8357   0.1457  0.2218    -0.9801\n",
       "21 29.5 31.05283 1.3429424 -1.5528   -0.5289   0.0104  0.1774    -0.2456\n",
       "22 29.9 29.80089 0.8141942  0.0991    0.0315   0.0000  0.0652     0.0083\n",
       "23 25.9 30.48496 1.9960899 -4.5850   -1.9488   0.3655  0.3920    -1.5648\n",
       "24 29.9 25.88897 1.3340033  4.0110    1.4137   0.0679  0.1751     0.6513\n",
       "25 37.9 38.56374 1.2861025 -0.6637   -0.2230   0.0017  0.1627    -0.0983\n",
       "26 41.9 35.94376 1.0469845  5.9562    2.1164   0.0788  0.1078     0.7358\n",
       "27 36.9 40.37454 1.5557744 -3.4745   -1.2640   0.0812  0.2381    -0.7067\n",
       "28 45.8 44.71910 1.4081553  1.0809    0.3710   0.0058  0.1951     0.1827\n",
       "29 53.0 51.79836 2.9042813  1.2016    0.9104   0.6784  0.8298     2.0103\n",
       "30 31.5 31.32178 0.8253428  0.1782    0.0567   0.0000  0.0670     0.0152"
      ]
     },
     "metadata": {},
     "output_type": "display_data"
    }
   ],
   "source": [
    "\n",
    "#DIAGNÓSTICOS DE DATOS AT?PICOS, DE BALANCEO E INFLUENCIALES\n",
    "t1<-predict(modelo,se.fit=T)\n",
    "t2<-round(residuals(modelo),4)\n",
    "t3<-round(cooks.distance(modelo),4)\n",
    "t4<-round(hatvalues(modelo),4)\n",
    "t5<-round(dffits(modelo),4)\n",
    "data.frame(Y,yhat=t1$fit,se.yhat=t1$se.fit,residuals=t2,res.estud=restud,Cooks.D=t3,\n",
    "           hii.value=t4,Dffits=t5)"
   ]
  },
  {
   "cell_type": "markdown",
   "metadata": {},
   "source": [
    "Segun el diagnostico de datos atipicos, de balanceo  e influenciales tenemos:\n",
    "\n",
    "Atipicos: 5,11,12,13,17,20,23,24,26 y 27 ya que sus residuales estandarizados en valor absoluto son mayores que 3 (|di|>3).\n",
    "\n",
    "Influenciales: 20,23,29 ya que sus |Dffits| sos mayores a 0.894427 valor obtenido de $ 2\\sqrt{\\frac{k+1}{n}}$\n",
    "\n",
    "De balanceo: 19 y 20 ya que sus hii son mayores que 0.4 valor obtenido de $2\\frac{k+1}{n}$"
   ]
  },
  {
   "cell_type": "markdown",
   "metadata": {},
   "source": [
    "En conclucion la validez del modelo es cuestionable ya que no cumplio con todos los supuestos, como ha sido el caso de la prueba de varianza constante y tienen varios datos que afectan ciertas propiedades del modelo."
   ]
  },
  {
   "cell_type": "code",
   "execution_count": null,
   "metadata": {},
   "outputs": [],
   "source": []
  }
 ],
 "metadata": {
  "kernelspec": {
   "display_name": "R",
   "language": "R",
   "name": "ir"
  },
  "language_info": {
   "codemirror_mode": "r",
   "file_extension": ".r",
   "mimetype": "text/x-r-source",
   "name": "R",
   "pygments_lexer": "r",
   "version": "3.4.3"
  }
 },
 "nbformat": 4,
 "nbformat_minor": 2
}
