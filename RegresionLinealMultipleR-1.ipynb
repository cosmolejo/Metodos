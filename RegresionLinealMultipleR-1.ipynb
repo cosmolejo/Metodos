{
 "cells": [
  {
   "cell_type": "markdown",
   "metadata": {},
   "source": [
    "# Trabajo 1 Metodos Estadísticos"
   ]
  },
  {
   "cell_type": "code",
   "execution_count": 9,
   "metadata": {},
   "outputs": [
    {
     "data": {
      "text/html": [
       "<script>  \n",
       "code_show=true; \n",
       "function code_toggle() {\n",
       "  if (code_show){\n",
       "    $('div.input').hide();\n",
       "  } else {\n",
       "    $('div.input').show();\n",
       "  }\n",
       "  code_show = !code_show\n",
       "}  \n",
       "$( document ).ready(code_toggle);\n",
       "</script>\n",
       "  <form action=\"javascript:code_toggle()\">\n",
       "    <input type=\"submit\" value=\"Pulse el botón para ver el código.\">\n",
       " </form>"
      ]
     },
     "metadata": {},
     "output_type": "display_data"
    }
   ],
   "source": [
    "#son necesarios 4 paquetes\n",
    "# es necesario instalarlos antes de cargarlos.\n",
    "library(car)\n",
    "library(leaps)\n",
    "library(perturb)\n",
    "library(tseries)\n",
    "library(IRdisplay)\n",
    "display_html(\n",
    "'<script>  \n",
    "code_show=true; \n",
    "function code_toggle() {\n",
    "  if (code_show){\n",
    "    $(\\'div.input\\').hide();\n",
    "  } else {\n",
    "    $(\\'div.input\\').show();\n",
    "  }\n",
    "  code_show = !code_show\n",
    "}  \n",
    "$( document ).ready(code_toggle);\n",
    "</script>\n",
    "  <form action=\"javascript:code_toggle()\">\n",
    "    <input type=\"submit\" value=\"Pulse el botón para ver el código.\">\n",
    " </form>'\n",
    ")"
   ]
  },
  {
   "cell_type": "markdown",
   "metadata": {},
   "source": [
    "## Integrantes: \n",
    "\n",
    "## Enunciado: \n",
    "\n",
    "1. Estime un modelo de regresión lineal múltiple que explique el precio de venta de las casas en términos de todas las\n",
    "variables predictoras. Analice la signifícancia de la regresión y de los parámetros individuales. Calcule e interprete el\n",
    "coefíciente de determinación múltiple R2. Comente los resultados.\n",
    "2. Probar la significancia simultánea del subconjunto de tres variables con los valores p mayores del punto anterior. Según el resultado de la prueba es posible descartar del modelo las variables del subconjunto?.\n",
    "3. Use la información pertinente para determinar si la multicolinealidad es un problema potencial.\n",
    "4. Usando el método backward determine cuales son las predictoras que deben estar en el modelo. ¿ Concuerda este modelo con el determinado en primer inciso? Además use los otros criterios vistos en clase para mostrar 2 candidatos a mejor modelo. Argumente.\n",
    "5. Realice una validación de los supuestos en los errores y examine si hay valores atípicos, de balanceo e influyentes. Qué puede decir acerca de la validez de éste modelo?. Argumente."
   ]
  },
  {
   "cell_type": "code",
   "execution_count": 1,
   "metadata": {},
   "outputs": [
    {
     "data": {
      "text/html": [
       "<table>\n",
       "<thead><tr><th scope=col>Y</th><th scope=col>X1</th><th scope=col>X2</th><th scope=col>X3</th><th scope=col>X4</th><th scope=col>X5</th></tr></thead>\n",
       "<tbody>\n",
       "\t<tr><td>34.7 </td><td>6.506</td><td>6.204</td><td>1.392</td><td>5    </td><td>37   </td></tr>\n",
       "\t<tr><td>40.6 </td><td>9.200</td><td>7.980</td><td>2.000</td><td>5    </td><td>30   </td></tr>\n",
       "\t<tr><td>28.9 </td><td>5.604</td><td>9.520</td><td>1.501</td><td>6    </td><td>32   </td></tr>\n",
       "\t<tr><td>31.0 </td><td>6.271</td><td>6.520</td><td>0.975</td><td>6    </td><td>28   </td></tr>\n",
       "\t<tr><td>25.9 </td><td>4.918</td><td>3.472</td><td>0.998</td><td>7    </td><td>42   </td></tr>\n",
       "\t<tr><td>25.9 </td><td>3.891</td><td>2.275</td><td>0.567</td><td>4    </td><td> 3   </td></tr>\n",
       "\t<tr><td>25.9 </td><td>4.557</td><td>4.050</td><td>1.232</td><td>6    </td><td>54   </td></tr>\n",
       "\t<tr><td>30.9 </td><td>5.898</td><td>5.850</td><td>1.240</td><td>7    </td><td>51   </td></tr>\n",
       "\t<tr><td>29.5 </td><td>5.858</td><td>4.587</td><td>1.101</td><td>5    </td><td>45   </td></tr>\n",
       "\t<tr><td>27.9 </td><td>4.543</td><td>2.275</td><td>1.175</td><td>6    </td><td>40   </td></tr>\n",
       "\t<tr><td>37.9 </td><td>6.083</td><td>6.727</td><td>1.652</td><td>6    </td><td>44   </td></tr>\n",
       "\t<tr><td>41.9 </td><td>7.697</td><td>6.902</td><td>1.488</td><td>6    </td><td>22   </td></tr>\n",
       "\t<tr><td>35.9 </td><td>5.828</td><td>6.435</td><td>1.225</td><td>6    </td><td>32   </td></tr>\n",
       "\t<tr><td>30.0 </td><td>5.050</td><td>5.000</td><td>1.020</td><td>5    </td><td>46   </td></tr>\n",
       "\t<tr><td>44.5 </td><td>8.795</td><td>9.890</td><td>1.820</td><td>8    </td><td>50   </td></tr>\n",
       "\t<tr><td>43.9 </td><td>9.038</td><td>7.800</td><td>1.500</td><td>7    </td><td>23   </td></tr>\n",
       "\t<tr><td>37.5 </td><td>5.989</td><td>5.520</td><td>1.256</td><td>6    </td><td>40   </td></tr>\n",
       "\t<tr><td>40.5 </td><td>7.784</td><td>7.102</td><td>1.376</td><td>6    </td><td>17   </td></tr>\n",
       "\t<tr><td>32.0 </td><td>5.000</td><td>7.000</td><td>3.099</td><td>7    </td><td>10   </td></tr>\n",
       "\t<tr><td>36.9 </td><td>8.246</td><td>5.150</td><td>1.664</td><td>8    </td><td>50   </td></tr>\n",
       "\t<tr><td>29.5 </td><td>5.021</td><td>3.531</td><td>1.500</td><td>7    </td><td>62   </td></tr>\n",
       "\t<tr><td>29.9 </td><td>5.060</td><td>4.455</td><td>1.121</td><td>6    </td><td>42   </td></tr>\n",
       "\t<tr><td>25.9 </td><td>5.604</td><td>9.520</td><td>1.501</td><td>4    </td><td>20   </td></tr>\n",
       "\t<tr><td>29.9 </td><td>3.891</td><td>4.455</td><td>0.988</td><td>6    </td><td>56   </td></tr>\n",
       "\t<tr><td>37.9 </td><td>7.542</td><td>5.000</td><td>1.690</td><td>6    </td><td>22   </td></tr>\n",
       "\t<tr><td>41.9 </td><td>6.697</td><td>6.902</td><td>1.488</td><td>7    </td><td>22   </td></tr>\n",
       "\t<tr><td>36.9 </td><td>8.140</td><td>8.000</td><td>1.504</td><td>7    </td><td> 3   </td></tr>\n",
       "\t<tr><td>45.8 </td><td>9.142</td><td>7.326</td><td>1.831</td><td>8    </td><td>31   </td></tr>\n",
       "\t<tr><td>53.0 </td><td>9.200</td><td>9.890</td><td>5.699</td><td>8    </td><td>70   </td></tr>\n",
       "\t<tr><td>31.5 </td><td>5.300</td><td>4.988</td><td>1.552</td><td>6    </td><td>30   </td></tr>\n",
       "</tbody>\n",
       "</table>\n"
      ],
      "text/latex": [
       "\\begin{tabular}{r|llllll}\n",
       " Y & X1 & X2 & X3 & X4 & X5\\\\\n",
       "\\hline\n",
       "\t 34.7  & 6.506 & 6.204 & 1.392 & 5     & 37   \\\\\n",
       "\t 40.6  & 9.200 & 7.980 & 2.000 & 5     & 30   \\\\\n",
       "\t 28.9  & 5.604 & 9.520 & 1.501 & 6     & 32   \\\\\n",
       "\t 31.0  & 6.271 & 6.520 & 0.975 & 6     & 28   \\\\\n",
       "\t 25.9  & 4.918 & 3.472 & 0.998 & 7     & 42   \\\\\n",
       "\t 25.9  & 3.891 & 2.275 & 0.567 & 4     &  3   \\\\\n",
       "\t 25.9  & 4.557 & 4.050 & 1.232 & 6     & 54   \\\\\n",
       "\t 30.9  & 5.898 & 5.850 & 1.240 & 7     & 51   \\\\\n",
       "\t 29.5  & 5.858 & 4.587 & 1.101 & 5     & 45   \\\\\n",
       "\t 27.9  & 4.543 & 2.275 & 1.175 & 6     & 40   \\\\\n",
       "\t 37.9  & 6.083 & 6.727 & 1.652 & 6     & 44   \\\\\n",
       "\t 41.9  & 7.697 & 6.902 & 1.488 & 6     & 22   \\\\\n",
       "\t 35.9  & 5.828 & 6.435 & 1.225 & 6     & 32   \\\\\n",
       "\t 30.0  & 5.050 & 5.000 & 1.020 & 5     & 46   \\\\\n",
       "\t 44.5  & 8.795 & 9.890 & 1.820 & 8     & 50   \\\\\n",
       "\t 43.9  & 9.038 & 7.800 & 1.500 & 7     & 23   \\\\\n",
       "\t 37.5  & 5.989 & 5.520 & 1.256 & 6     & 40   \\\\\n",
       "\t 40.5  & 7.784 & 7.102 & 1.376 & 6     & 17   \\\\\n",
       "\t 32.0  & 5.000 & 7.000 & 3.099 & 7     & 10   \\\\\n",
       "\t 36.9  & 8.246 & 5.150 & 1.664 & 8     & 50   \\\\\n",
       "\t 29.5  & 5.021 & 3.531 & 1.500 & 7     & 62   \\\\\n",
       "\t 29.9  & 5.060 & 4.455 & 1.121 & 6     & 42   \\\\\n",
       "\t 25.9  & 5.604 & 9.520 & 1.501 & 4     & 20   \\\\\n",
       "\t 29.9  & 3.891 & 4.455 & 0.988 & 6     & 56   \\\\\n",
       "\t 37.9  & 7.542 & 5.000 & 1.690 & 6     & 22   \\\\\n",
       "\t 41.9  & 6.697 & 6.902 & 1.488 & 7     & 22   \\\\\n",
       "\t 36.9  & 8.140 & 8.000 & 1.504 & 7     &  3   \\\\\n",
       "\t 45.8  & 9.142 & 7.326 & 1.831 & 8     & 31   \\\\\n",
       "\t 53.0  & 9.200 & 9.890 & 5.699 & 8     & 70   \\\\\n",
       "\t 31.5  & 5.300 & 4.988 & 1.552 & 6     & 30   \\\\\n",
       "\\end{tabular}\n"
      ],
      "text/markdown": [
       "\n",
       "Y | X1 | X2 | X3 | X4 | X5 | \n",
       "|---|---|---|---|---|---|---|---|---|---|---|---|---|---|---|---|---|---|---|---|---|---|---|---|---|---|---|---|---|---|\n",
       "| 34.7  | 6.506 | 6.204 | 1.392 | 5     | 37    | \n",
       "| 40.6  | 9.200 | 7.980 | 2.000 | 5     | 30    | \n",
       "| 28.9  | 5.604 | 9.520 | 1.501 | 6     | 32    | \n",
       "| 31.0  | 6.271 | 6.520 | 0.975 | 6     | 28    | \n",
       "| 25.9  | 4.918 | 3.472 | 0.998 | 7     | 42    | \n",
       "| 25.9  | 3.891 | 2.275 | 0.567 | 4     |  3    | \n",
       "| 25.9  | 4.557 | 4.050 | 1.232 | 6     | 54    | \n",
       "| 30.9  | 5.898 | 5.850 | 1.240 | 7     | 51    | \n",
       "| 29.5  | 5.858 | 4.587 | 1.101 | 5     | 45    | \n",
       "| 27.9  | 4.543 | 2.275 | 1.175 | 6     | 40    | \n",
       "| 37.9  | 6.083 | 6.727 | 1.652 | 6     | 44    | \n",
       "| 41.9  | 7.697 | 6.902 | 1.488 | 6     | 22    | \n",
       "| 35.9  | 5.828 | 6.435 | 1.225 | 6     | 32    | \n",
       "| 30.0  | 5.050 | 5.000 | 1.020 | 5     | 46    | \n",
       "| 44.5  | 8.795 | 9.890 | 1.820 | 8     | 50    | \n",
       "| 43.9  | 9.038 | 7.800 | 1.500 | 7     | 23    | \n",
       "| 37.5  | 5.989 | 5.520 | 1.256 | 6     | 40    | \n",
       "| 40.5  | 7.784 | 7.102 | 1.376 | 6     | 17    | \n",
       "| 32.0  | 5.000 | 7.000 | 3.099 | 7     | 10    | \n",
       "| 36.9  | 8.246 | 5.150 | 1.664 | 8     | 50    | \n",
       "| 29.5  | 5.021 | 3.531 | 1.500 | 7     | 62    | \n",
       "| 29.9  | 5.060 | 4.455 | 1.121 | 6     | 42    | \n",
       "| 25.9  | 5.604 | 9.520 | 1.501 | 4     | 20    | \n",
       "| 29.9  | 3.891 | 4.455 | 0.988 | 6     | 56    | \n",
       "| 37.9  | 7.542 | 5.000 | 1.690 | 6     | 22    | \n",
       "| 41.9  | 6.697 | 6.902 | 1.488 | 7     | 22    | \n",
       "| 36.9  | 8.140 | 8.000 | 1.504 | 7     |  3    | \n",
       "| 45.8  | 9.142 | 7.326 | 1.831 | 8     | 31    | \n",
       "| 53.0  | 9.200 | 9.890 | 5.699 | 8     | 70    | \n",
       "| 31.5  | 5.300 | 4.988 | 1.552 | 6     | 30    | \n",
       "\n",
       "\n"
      ],
      "text/plain": [
       "   Y    X1    X2    X3    X4 X5\n",
       "1  34.7 6.506 6.204 1.392 5  37\n",
       "2  40.6 9.200 7.980 2.000 5  30\n",
       "3  28.9 5.604 9.520 1.501 6  32\n",
       "4  31.0 6.271 6.520 0.975 6  28\n",
       "5  25.9 4.918 3.472 0.998 7  42\n",
       "6  25.9 3.891 2.275 0.567 4   3\n",
       "7  25.9 4.557 4.050 1.232 6  54\n",
       "8  30.9 5.898 5.850 1.240 7  51\n",
       "9  29.5 5.858 4.587 1.101 5  45\n",
       "10 27.9 4.543 2.275 1.175 6  40\n",
       "11 37.9 6.083 6.727 1.652 6  44\n",
       "12 41.9 7.697 6.902 1.488 6  22\n",
       "13 35.9 5.828 6.435 1.225 6  32\n",
       "14 30.0 5.050 5.000 1.020 5  46\n",
       "15 44.5 8.795 9.890 1.820 8  50\n",
       "16 43.9 9.038 7.800 1.500 7  23\n",
       "17 37.5 5.989 5.520 1.256 6  40\n",
       "18 40.5 7.784 7.102 1.376 6  17\n",
       "19 32.0 5.000 7.000 3.099 7  10\n",
       "20 36.9 8.246 5.150 1.664 8  50\n",
       "21 29.5 5.021 3.531 1.500 7  62\n",
       "22 29.9 5.060 4.455 1.121 6  42\n",
       "23 25.9 5.604 9.520 1.501 4  20\n",
       "24 29.9 3.891 4.455 0.988 6  56\n",
       "25 37.9 7.542 5.000 1.690 6  22\n",
       "26 41.9 6.697 6.902 1.488 7  22\n",
       "27 36.9 8.140 8.000 1.504 7   3\n",
       "28 45.8 9.142 7.326 1.831 8  31\n",
       "29 53.0 9.200 9.890 5.699 8  70\n",
       "30 31.5 5.300 4.988 1.552 6  30"
      ]
     },
     "metadata": {},
     "output_type": "display_data"
    }
   ],
   "source": [
    "#lee el archivo .txt\n",
    "datos<-read.table(file.choose(), header=T )\n",
    "#CARGA BASE DE DATOS Y NOMBRES DE VARIABLES EN R\n",
    "attach(datos)\n",
    "#muestra datos\n",
    "datos\n"
   ]
  },
  {
   "cell_type": "markdown",
   "metadata": {},
   "source": [
    "### 1. Estime un modelo de regresión lineal múltiple que explique el precio de venta de las casas en términos de todas las variables predictoras. Analice la signifícancia de la regresión y de los parámetros individuales. Calcule e interprete el coefíciente de determinación múltiple R2. Comente los resultados.\n"
   ]
  },
  {
   "cell_type": "code",
   "execution_count": 3,
   "metadata": {
    "scrolled": false
   },
   "outputs": [
    {
     "data": {
      "text/plain": [
       "\n",
       "Call:\n",
       "lm(formula = Y ~ X1 + X2 + X3 + X4 + X5)\n",
       "\n",
       "Residuals:\n",
       "    Min      1Q  Median      3Q     Max \n",
       "-4.9255 -2.1451  0.1387  1.5355  5.9562 \n",
       "\n",
       "Coefficients:\n",
       "             Estimate Std. Error t value Pr(>|t|)    \n",
       "(Intercept)  8.963411   3.863012   2.320   0.0291 *  \n",
       "X1           3.107643   0.537314   5.784 5.81e-06 ***\n",
       "X2          -0.112221   0.414986  -0.270   0.7891    \n",
       "X3           1.879014   0.880188   2.135   0.0432 *  \n",
       "X4           0.598985   0.712458   0.841   0.4088    \n",
       "X5          -0.002084   0.041069  -0.051   0.9599    \n",
       "---\n",
       "Signif. codes:  0 '***' 0.001 '**' 0.01 '*' 0.05 '.' 0.1 ' ' 1\n",
       "\n",
       "Residual standard error: 3.188 on 24 degrees of freedom\n",
       "Multiple R-squared:  0.8267,\tAdjusted R-squared:  0.7906 \n",
       "F-statistic: 22.89 on 5 and 24 DF,  p-value: 2.052e-08\n"
      ]
     },
     "metadata": {},
     "output_type": "display_data"
    }
   ],
   "source": [
    "#AJUSTE DEL MODELO\n",
    "modelo<-lm(Y~X1+X2+X3+X4+X5)\n",
    "\n",
    "summary(modelo)"
   ]
  },
  {
   "cell_type": "markdown",
   "metadata": {},
   "source": [
    "\n",
    "En este modelo el parametro $\\beta_0$ tiene interpretación estadistica, ya que, como se observa en la tabla anterior, el punto $\\vec{0}$ pertenece al rango de los valores, el cual es: $[-4.9255,5.9562]$\n",
    "\n",
    "## hipotesis a evaluar: \n",
    "\n",
    "$ H_o : \\beta_1=\\beta_2=\\beta_3=\\beta_4=\\beta_5=0 $\n",
    "\n",
    "$ Ha: B_k \\neq 0$\n"
   ]
  },
  {
   "cell_type": "markdown",
   "metadata": {},
   "source": [
    "De lo anterior se puede concluir que:\n",
    "\n",
    "$$P_{value} < \\alpha $$\n",
    "\n",
    "$$2.05x10^{-8} < 0.05$$\n",
    "\n",
    "además: $F_{0.05,5,24} = 2.621$ y $F_0 = 22.894$ por lo tanto $F_{0.05,5,24} < F_0$ por todo lo anterior, se rechaza la hipotesis nula y se toma la hipotesis alternativa lo que quiere decir que existe por lo menos un $B_k$ que ayude a explicar el modelo.\n",
    "\n",
    "Ahora se estudiará la significancia individual para cada parametro."
   ]
  },
  {
   "cell_type": "code",
   "execution_count": 4,
   "metadata": {},
   "outputs": [
    {
     "name": "stdout",
     "output_type": "stream",
     "text": [
      "Tabla ANOVA Modelo de Regresi?n \n"
     ]
    },
    {
     "data": {
      "text/html": [
       "<table>\n",
       "<thead><tr><th></th><th scope=col>SumSq</th><th scope=col>Df</th><th scope=col>MeanSq</th><th scope=col>F0</th><th scope=col>P.value</th></tr></thead>\n",
       "<tbody>\n",
       "\t<tr><th scope=row>Modelo</th><td>1163.5619</td><td> 5       </td><td>232.7124 </td><td>22.894   </td><td>2.05e-08 </td></tr>\n",
       "\t<tr><th scope=row>Error</th><td> 243.9527</td><td>24       </td><td> 10.1647 </td><td>         </td><td>         </td></tr>\n",
       "</tbody>\n",
       "</table>\n"
      ],
      "text/latex": [
       "\\begin{tabular}{r|lllll}\n",
       "  & SumSq & Df & MeanSq & F0 & P.value\\\\\n",
       "\\hline\n",
       "\tModelo & 1163.5619 &  5        & 232.7124  & 22.894    & 2.05e-08 \\\\\n",
       "\tError &  243.9527 & 24        &  10.1647  &           &          \\\\\n",
       "\\end{tabular}\n"
      ],
      "text/markdown": [
       "\n",
       "| <!--/--> | SumSq | Df | MeanSq | F0 | P.value | \n",
       "|---|---|\n",
       "| Modelo | 1163.5619 |  5        | 232.7124  | 22.894    | 2.05e-08  | \n",
       "| Error |  243.9527 | 24        |  10.1647  |           |           | \n",
       "\n",
       "\n"
      ],
      "text/plain": [
       "       SumSq     Df MeanSq   F0     P.value \n",
       "Modelo 1163.5619  5 232.7124 22.894 2.05e-08\n",
       "Error   243.9527 24  10.1647                "
      ]
     },
     "metadata": {},
     "output_type": "display_data"
    }
   ],
   "source": [
    "#PARA OBTENER LA ANOVA DEL MODELO DE RLM CREAMOS LA SIGUIENTE FUNCI?N\n",
    "miAnova<-function(modeloreg){\n",
    "  SSq<-unlist(anova(modeloreg)[\"Sum Sq\"])\n",
    "  k<-length(SSq)-1\n",
    "  SSR<-sum(SSq[1:k])\n",
    "  SSE<-SSq[(k+1)]\n",
    "  MSR<-SSR/k\n",
    "  df.error<-unlist(anova(modeloreg)[\"Df\"])[k+1]\n",
    "  MSE<-SSE/df.error\n",
    "  F0<-MSR/MSE\n",
    "  VP<-pf(F0,k,df.error,lower.tail=F)\n",
    "  result<-\n",
    "    data.frame(SumSq=c(SSR,SSE),Df=c(k,df.error),MeanSq=c(MSR,MSE),F0=c(round(F0,digits=3),' '),\n",
    "               P.value=c(format(VP,scientific = TRUE,digits=3),' '),row.names =c(\"Modelo\",\"Error\"))\n",
    "  cat(\"Tabla ANOVA Modelo de Regresi?n\",\"\\n\")\n",
    "  result\n",
    "}\n",
    "\n",
    "miAnova(modelo)"
   ]
  },
  {
   "cell_type": "markdown",
   "metadata": {},
   "source": [
    "## Pruebas de significancia individual:\n",
    "\n",
    "* para $\\beta_1$: \n",
    "$$H_0: \\beta_1 =0$$\n",
    "  $$H_1: \\beta_1 \\neq 0$$\n",
    "\n",
    "* para $\\beta_2$:  \n",
    "$$H_0: \\beta_2 =0$$\n",
    "  $$H_1: \\beta_2 \\neq 0$$\n",
    "\n",
    "* para $\\beta_3$:\n",
    "$$H_0: \\beta_3 =0$$\n",
    "  $$H_1: \\beta_3 \\neq 0$$\n",
    "\n",
    "* para $\\beta_4$:\n",
    "$$H_0: \\beta_4 =0$$\n",
    "  $$H_1: \\beta_4 \\neq 0$$\n",
    "\n",
    "* para $\\beta_5$:\n",
    "$$H_0: \\beta_5 =0$$\n",
    "  $$H_1: \\beta_5 \\neq 0$$\n",
    "  \n",
    "  como nuestro $\\alpha = 0.05$ es posible realizar pruebas usando el resumen del modelo generado por R:"
   ]
  },
  {
   "cell_type": "code",
   "execution_count": 5,
   "metadata": {
    "scrolled": false
   },
   "outputs": [
    {
     "name": "stdout",
     "output_type": "stream",
     "text": [
      "[1] \"Modelo: \"\n"
     ]
    },
    {
     "data": {
      "text/plain": [
       "\n",
       "Call:\n",
       "lm(formula = Y ~ X1 + X2 + X3 + X4 + X5)\n",
       "\n",
       "Residuals:\n",
       "    Min      1Q  Median      3Q     Max \n",
       "-4.9255 -2.1451  0.1387  1.5355  5.9562 \n",
       "\n",
       "Coefficients:\n",
       "             Estimate Std. Error t value Pr(>|t|)    \n",
       "(Intercept)  8.963411   3.863012   2.320   0.0291 *  \n",
       "X1           3.107643   0.537314   5.784 5.81e-06 ***\n",
       "X2          -0.112221   0.414986  -0.270   0.7891    \n",
       "X3           1.879014   0.880188   2.135   0.0432 *  \n",
       "X4           0.598985   0.712458   0.841   0.4088    \n",
       "X5          -0.002084   0.041069  -0.051   0.9599    \n",
       "---\n",
       "Signif. codes:  0 '***' 0.001 '**' 0.01 '*' 0.05 '.' 0.1 ' ' 1\n",
       "\n",
       "Residual standard error: 3.188 on 24 degrees of freedom\n",
       "Multiple R-squared:  0.8267,\tAdjusted R-squared:  0.7906 \n",
       "F-statistic: 22.89 on 5 and 24 DF,  p-value: 2.052e-08\n"
      ]
     },
     "metadata": {},
     "output_type": "display_data"
    }
   ],
   "source": [
    "#AJUSTE DEL MODELO\n",
    "modelo<-lm(Y~X1+X2+X3+X4+X5)\n",
    "print(\"Modelo: \")\n",
    "summary(modelo)\n"
   ]
  },
  {
   "cell_type": "markdown",
   "metadata": {},
   "source": [
    "si Pr(>|t|) $> \\alpha$ no rechaza la hipotesis nula y se elimina el parametro del modelo:\n",
    "\n",
    "en $X_1: Pr=5.81x10^{-6} < 0.05$ por lo tanto $H_0$  se rechaza \n",
    "\n",
    "\n",
    "en $X_2: Pr=0.7891 > 0.05$ por lo tanto no se rechaza $H_0$ y se eliminará el parametro del modelo \n",
    "\n",
    "\n",
    "en $X_3: Pr=0.0432< 0.05$ por lo tanto se rechaza $H_0$  \n",
    "\n",
    "\n",
    "en $X_4: Pr=0.4088 > 0.05$ por lo tanto  no se rechaza $H_0$ y se eliminará el parametro del modelo \n",
    "\n",
    "en $X_5: Pr=0.9599 > 0.05$ por lo tanto no se rechaza $H_0$ y se eliminará el parametro del modelo \n",
    "\n",
    "Luego, el modelo contará con los parametros $\\beta_1$ y $\\beta_3$. Además, de la tabla ANOVA del Modelo de Regresion (que ya ha sido mostrada anteriormente) se obtiene el valor de $\\text{R}^2$ realizando el cociente entre la SumSq del modelo y la SumSq Total definida como la suma entre la SumSq del modelo y la SumSq del error, asi obtenermos que $\\text{R}^2 = 0.8267$ por tanto se afirma que el $82\\%$ de la vadiabilidad de los datos es explicada por el modelo.\n",
    "(Nota: Para mayor facilidad el $\\text{R}^2$ tambien puede ser obtenido a partir de la tabla anterior, se encuentra como \"Multiple R-squared\".)\n",
    "\n"
   ]
  },
  {
   "cell_type": "markdown",
   "metadata": {},
   "source": [
    "### 2. Probar la significancia simultánea del subconjunto de tres variables con los valores p mayores del punto anterior. Según el resultado de la prueba es posible descartar del modelo las variables del subconjunto?."
   ]
  },
  {
   "cell_type": "code",
   "execution_count": 6,
   "metadata": {},
   "outputs": [
    {
     "data": {
      "text/html": [
       "<table>\n",
       "<thead><tr><th scope=col>NoOfVars</th><th scope=col>R2</th><th scope=col>adjR2</th><th scope=col>SSE</th><th scope=col>Cp</th><th scope=col>Variables.in.model</th></tr></thead>\n",
       "<tbody>\n",
       "\t<tr><td>1             </td><td>0.7678        </td><td> 0.7595       </td><td> 326.7691     </td><td>  6.1475      </td><td>X1            </td></tr>\n",
       "\t<tr><td>1             </td><td>0.3718        </td><td> 0.3494       </td><td> 884.1864     </td><td> 60.9860      </td><td>X3            </td></tr>\n",
       "\t<tr><td>1             </td><td>0.3695        </td><td> 0.3470       </td><td> 887.4472     </td><td> 61.3068      </td><td>X2            </td></tr>\n",
       "\t<tr><td>1             </td><td>0.3031        </td><td> 0.2782       </td><td> 980.9188     </td><td> 70.5025      </td><td>X4            </td></tr>\n",
       "\t<tr><td>1             </td><td>0.0011        </td><td>-0.0346       </td><td>1405.9970     </td><td>112.3216      </td><td>X5            </td></tr>\n",
       "\t<tr><td>2             </td><td>0.8197        </td><td> 0.8063       </td><td> 253.8342     </td><td>  0.9721      </td><td>X1 X3         </td></tr>\n",
       "\t<tr><td>2             </td><td>0.7888        </td><td> 0.7732       </td><td> 297.2065     </td><td>  5.2391      </td><td>X1 X4         </td></tr>\n",
       "\t<tr><td>2             </td><td>0.7778        </td><td> 0.7613       </td><td> 312.7945     </td><td>  6.7726      </td><td>X1 X5         </td></tr>\n",
       "\t<tr><td>2             </td><td>0.7692        </td><td> 0.7521       </td><td> 324.8155     </td><td>  7.9553      </td><td>X1 X2         </td></tr>\n",
       "\t<tr><td>2             </td><td>0.5362        </td><td> 0.5018       </td><td> 652.8124     </td><td> 40.2235      </td><td>X2 X4         </td></tr>\n",
       "\t<tr><td>2             </td><td>0.4859        </td><td> 0.4478       </td><td> 723.5645     </td><td> 47.1841      </td><td>X2 X3         </td></tr>\n",
       "\t<tr><td>2             </td><td>0.4653        </td><td> 0.4257       </td><td> 752.5976     </td><td> 50.0403      </td><td>X3 X4         </td></tr>\n",
       "\t<tr><td>2             </td><td>0.3870        </td><td> 0.3416       </td><td> 862.7693     </td><td> 60.8790      </td><td>X3 X5         </td></tr>\n",
       "\t<tr><td>2             </td><td>0.3815        </td><td> 0.3357       </td><td> 870.5442     </td><td> 61.6439      </td><td>X2 X5         </td></tr>\n",
       "\t<tr><td>2             </td><td>0.3262        </td><td> 0.2763       </td><td> 948.4134     </td><td> 69.3046      </td><td>X4 X5         </td></tr>\n",
       "\t<tr><td>3             </td><td>0.8262        </td><td> 0.8061       </td><td> 244.6963     </td><td>  2.0732      </td><td>X1 X3 X4      </td></tr>\n",
       "\t<tr><td>3             </td><td>0.8212        </td><td> 0.8006       </td><td> 251.6452     </td><td>  2.7568      </td><td>X1 X2 X3      </td></tr>\n",
       "\t<tr><td>3             </td><td>0.8204        </td><td> 0.7997       </td><td> 252.7657     </td><td>  2.8670      </td><td>X1 X3 X5      </td></tr>\n",
       "\t<tr><td>3             </td><td>0.7915        </td><td> 0.7674       </td><td> 293.4697     </td><td>  6.8715      </td><td>X1 X2 X4      </td></tr>\n",
       "\t<tr><td>3             </td><td>0.7908        </td><td> 0.7666       </td><td> 294.4675     </td><td>  6.9696      </td><td>X1 X4 X5      </td></tr>\n",
       "\t<tr><td>3             </td><td>0.7800        </td><td> 0.7546       </td><td> 309.6272     </td><td>  8.4610      </td><td>X1 X2 X5      </td></tr>\n",
       "\t<tr><td>3             </td><td>0.5750        </td><td> 0.5260       </td><td> 598.1425     </td><td> 36.8451      </td><td>X2 X3 X4      </td></tr>\n",
       "\t<tr><td>3             </td><td>0.5381        </td><td> 0.4848       </td><td> 650.1096     </td><td> 41.9576      </td><td>X2 X4 X5      </td></tr>\n",
       "\t<tr><td>3             </td><td>0.5064        </td><td> 0.4495       </td><td> 694.7266     </td><td> 46.3470      </td><td>X3 X4 X5      </td></tr>\n",
       "\t<tr><td>3             </td><td>0.4863        </td><td> 0.4270       </td><td> 723.0407     </td><td> 49.1325      </td><td>X2 X3 X5      </td></tr>\n",
       "\t<tr><td>4             </td><td>0.8267        </td><td> 0.7989       </td><td> 243.9789     </td><td>  4.0026      </td><td>X1 X2 X3 X4   </td></tr>\n",
       "\t<tr><td>4             </td><td>0.8262        </td><td> 0.7983       </td><td> 244.6961     </td><td>  4.0731      </td><td>X1 X3 X4 X5   </td></tr>\n",
       "\t<tr><td>4             </td><td>0.8216        </td><td> 0.7930       </td><td> 251.1374     </td><td>  4.7068      </td><td>X1 X2 X3 X5   </td></tr>\n",
       "\t<tr><td>4             </td><td>0.7938        </td><td> 0.7608       </td><td> 290.2765     </td><td>  8.5573      </td><td>X1 X2 X4 X5   </td></tr>\n",
       "\t<tr><td>4             </td><td>0.5851        </td><td> 0.5187       </td><td> 583.9692     </td><td> 37.4507      </td><td>X2 X3 X4 X5   </td></tr>\n",
       "\t<tr><td>5             </td><td>0.8267        </td><td> 0.7906       </td><td> 243.9527     </td><td>  6.0000      </td><td>X1 X2 X3 X4 X5</td></tr>\n",
       "</tbody>\n",
       "</table>\n"
      ],
      "text/latex": [
       "\\begin{tabular}{r|llllll}\n",
       " NoOfVars & R2 & adjR2 & SSE & Cp & Variables.in.model\\\\\n",
       "\\hline\n",
       "\t 1              & 0.7678         &  0.7595        &  326.7691      &   6.1475       & X1            \\\\\n",
       "\t 1              & 0.3718         &  0.3494        &  884.1864      &  60.9860       & X3            \\\\\n",
       "\t 1              & 0.3695         &  0.3470        &  887.4472      &  61.3068       & X2            \\\\\n",
       "\t 1              & 0.3031         &  0.2782        &  980.9188      &  70.5025       & X4            \\\\\n",
       "\t 1              & 0.0011         & -0.0346        & 1405.9970      & 112.3216       & X5            \\\\\n",
       "\t 2              & 0.8197         &  0.8063        &  253.8342      &   0.9721       & X1 X3         \\\\\n",
       "\t 2              & 0.7888         &  0.7732        &  297.2065      &   5.2391       & X1 X4         \\\\\n",
       "\t 2              & 0.7778         &  0.7613        &  312.7945      &   6.7726       & X1 X5         \\\\\n",
       "\t 2              & 0.7692         &  0.7521        &  324.8155      &   7.9553       & X1 X2         \\\\\n",
       "\t 2              & 0.5362         &  0.5018        &  652.8124      &  40.2235       & X2 X4         \\\\\n",
       "\t 2              & 0.4859         &  0.4478        &  723.5645      &  47.1841       & X2 X3         \\\\\n",
       "\t 2              & 0.4653         &  0.4257        &  752.5976      &  50.0403       & X3 X4         \\\\\n",
       "\t 2              & 0.3870         &  0.3416        &  862.7693      &  60.8790       & X3 X5         \\\\\n",
       "\t 2              & 0.3815         &  0.3357        &  870.5442      &  61.6439       & X2 X5         \\\\\n",
       "\t 2              & 0.3262         &  0.2763        &  948.4134      &  69.3046       & X4 X5         \\\\\n",
       "\t 3              & 0.8262         &  0.8061        &  244.6963      &   2.0732       & X1 X3 X4      \\\\\n",
       "\t 3              & 0.8212         &  0.8006        &  251.6452      &   2.7568       & X1 X2 X3      \\\\\n",
       "\t 3              & 0.8204         &  0.7997        &  252.7657      &   2.8670       & X1 X3 X5      \\\\\n",
       "\t 3              & 0.7915         &  0.7674        &  293.4697      &   6.8715       & X1 X2 X4      \\\\\n",
       "\t 3              & 0.7908         &  0.7666        &  294.4675      &   6.9696       & X1 X4 X5      \\\\\n",
       "\t 3              & 0.7800         &  0.7546        &  309.6272      &   8.4610       & X1 X2 X5      \\\\\n",
       "\t 3              & 0.5750         &  0.5260        &  598.1425      &  36.8451       & X2 X3 X4      \\\\\n",
       "\t 3              & 0.5381         &  0.4848        &  650.1096      &  41.9576       & X2 X4 X5      \\\\\n",
       "\t 3              & 0.5064         &  0.4495        &  694.7266      &  46.3470       & X3 X4 X5      \\\\\n",
       "\t 3              & 0.4863         &  0.4270        &  723.0407      &  49.1325       & X2 X3 X5      \\\\\n",
       "\t 4              & 0.8267         &  0.7989        &  243.9789      &   4.0026       & X1 X2 X3 X4   \\\\\n",
       "\t 4              & 0.8262         &  0.7983        &  244.6961      &   4.0731       & X1 X3 X4 X5   \\\\\n",
       "\t 4              & 0.8216         &  0.7930        &  251.1374      &   4.7068       & X1 X2 X3 X5   \\\\\n",
       "\t 4              & 0.7938         &  0.7608        &  290.2765      &   8.5573       & X1 X2 X4 X5   \\\\\n",
       "\t 4              & 0.5851         &  0.5187        &  583.9692      &  37.4507       & X2 X3 X4 X5   \\\\\n",
       "\t 5              & 0.8267         &  0.7906        &  243.9527      &   6.0000       & X1 X2 X3 X4 X5\\\\\n",
       "\\end{tabular}\n"
      ],
      "text/markdown": [
       "\n",
       "NoOfVars | R2 | adjR2 | SSE | Cp | Variables.in.model | \n",
       "|---|---|---|---|---|---|---|---|---|---|---|---|---|---|---|---|---|---|---|---|---|---|---|---|---|---|---|---|---|---|---|\n",
       "| 1              | 0.7678         |  0.7595        |  326.7691      |   6.1475       | X1             | \n",
       "| 1              | 0.3718         |  0.3494        |  884.1864      |  60.9860       | X3             | \n",
       "| 1              | 0.3695         |  0.3470        |  887.4472      |  61.3068       | X2             | \n",
       "| 1              | 0.3031         |  0.2782        |  980.9188      |  70.5025       | X4             | \n",
       "| 1              | 0.0011         | -0.0346        | 1405.9970      | 112.3216       | X5             | \n",
       "| 2              | 0.8197         |  0.8063        |  253.8342      |   0.9721       | X1 X3          | \n",
       "| 2              | 0.7888         |  0.7732        |  297.2065      |   5.2391       | X1 X4          | \n",
       "| 2              | 0.7778         |  0.7613        |  312.7945      |   6.7726       | X1 X5          | \n",
       "| 2              | 0.7692         |  0.7521        |  324.8155      |   7.9553       | X1 X2          | \n",
       "| 2              | 0.5362         |  0.5018        |  652.8124      |  40.2235       | X2 X4          | \n",
       "| 2              | 0.4859         |  0.4478        |  723.5645      |  47.1841       | X2 X3          | \n",
       "| 2              | 0.4653         |  0.4257        |  752.5976      |  50.0403       | X3 X4          | \n",
       "| 2              | 0.3870         |  0.3416        |  862.7693      |  60.8790       | X3 X5          | \n",
       "| 2              | 0.3815         |  0.3357        |  870.5442      |  61.6439       | X2 X5          | \n",
       "| 2              | 0.3262         |  0.2763        |  948.4134      |  69.3046       | X4 X5          | \n",
       "| 3              | 0.8262         |  0.8061        |  244.6963      |   2.0732       | X1 X3 X4       | \n",
       "| 3              | 0.8212         |  0.8006        |  251.6452      |   2.7568       | X1 X2 X3       | \n",
       "| 3              | 0.8204         |  0.7997        |  252.7657      |   2.8670       | X1 X3 X5       | \n",
       "| 3              | 0.7915         |  0.7674        |  293.4697      |   6.8715       | X1 X2 X4       | \n",
       "| 3              | 0.7908         |  0.7666        |  294.4675      |   6.9696       | X1 X4 X5       | \n",
       "| 3              | 0.7800         |  0.7546        |  309.6272      |   8.4610       | X1 X2 X5       | \n",
       "| 3              | 0.5750         |  0.5260        |  598.1425      |  36.8451       | X2 X3 X4       | \n",
       "| 3              | 0.5381         |  0.4848        |  650.1096      |  41.9576       | X2 X4 X5       | \n",
       "| 3              | 0.5064         |  0.4495        |  694.7266      |  46.3470       | X3 X4 X5       | \n",
       "| 3              | 0.4863         |  0.4270        |  723.0407      |  49.1325       | X2 X3 X5       | \n",
       "| 4              | 0.8267         |  0.7989        |  243.9789      |   4.0026       | X1 X2 X3 X4    | \n",
       "| 4              | 0.8262         |  0.7983        |  244.6961      |   4.0731       | X1 X3 X4 X5    | \n",
       "| 4              | 0.8216         |  0.7930        |  251.1374      |   4.7068       | X1 X2 X3 X5    | \n",
       "| 4              | 0.7938         |  0.7608        |  290.2765      |   8.5573       | X1 X2 X4 X5    | \n",
       "| 4              | 0.5851         |  0.5187        |  583.9692      |  37.4507       | X2 X3 X4 X5    | \n",
       "| 5              | 0.8267         |  0.7906        |  243.9527      |   6.0000       | X1 X2 X3 X4 X5 | \n",
       "\n",
       "\n"
      ],
      "text/plain": [
       "   NoOfVars R2     adjR2   SSE       Cp       Variables.in.model\n",
       "1  1        0.7678  0.7595  326.7691   6.1475 X1                \n",
       "2  1        0.3718  0.3494  884.1864  60.9860 X3                \n",
       "3  1        0.3695  0.3470  887.4472  61.3068 X2                \n",
       "4  1        0.3031  0.2782  980.9188  70.5025 X4                \n",
       "5  1        0.0011 -0.0346 1405.9970 112.3216 X5                \n",
       "6  2        0.8197  0.8063  253.8342   0.9721 X1 X3             \n",
       "7  2        0.7888  0.7732  297.2065   5.2391 X1 X4             \n",
       "8  2        0.7778  0.7613  312.7945   6.7726 X1 X5             \n",
       "9  2        0.7692  0.7521  324.8155   7.9553 X1 X2             \n",
       "10 2        0.5362  0.5018  652.8124  40.2235 X2 X4             \n",
       "11 2        0.4859  0.4478  723.5645  47.1841 X2 X3             \n",
       "12 2        0.4653  0.4257  752.5976  50.0403 X3 X4             \n",
       "13 2        0.3870  0.3416  862.7693  60.8790 X3 X5             \n",
       "14 2        0.3815  0.3357  870.5442  61.6439 X2 X5             \n",
       "15 2        0.3262  0.2763  948.4134  69.3046 X4 X5             \n",
       "16 3        0.8262  0.8061  244.6963   2.0732 X1 X3 X4          \n",
       "17 3        0.8212  0.8006  251.6452   2.7568 X1 X2 X3          \n",
       "18 3        0.8204  0.7997  252.7657   2.8670 X1 X3 X5          \n",
       "19 3        0.7915  0.7674  293.4697   6.8715 X1 X2 X4          \n",
       "20 3        0.7908  0.7666  294.4675   6.9696 X1 X4 X5          \n",
       "21 3        0.7800  0.7546  309.6272   8.4610 X1 X2 X5          \n",
       "22 3        0.5750  0.5260  598.1425  36.8451 X2 X3 X4          \n",
       "23 3        0.5381  0.4848  650.1096  41.9576 X2 X4 X5          \n",
       "24 3        0.5064  0.4495  694.7266  46.3470 X3 X4 X5          \n",
       "25 3        0.4863  0.4270  723.0407  49.1325 X2 X3 X5          \n",
       "26 4        0.8267  0.7989  243.9789   4.0026 X1 X2 X3 X4       \n",
       "27 4        0.8262  0.7983  244.6961   4.0731 X1 X3 X4 X5       \n",
       "28 4        0.8216  0.7930  251.1374   4.7068 X1 X2 X3 X5       \n",
       "29 4        0.7938  0.7608  290.2765   8.5573 X1 X2 X4 X5       \n",
       "30 4        0.5851  0.5187  583.9692  37.4507 X2 X3 X4 X5       \n",
       "31 5        0.8267  0.7906  243.9527   6.0000 X1 X2 X3 X4 X5    "
      ]
     },
     "metadata": {},
     "output_type": "display_data"
    }
   ],
   "source": [
    "#TABLA DE TODAS LAS REGRESIONES POSIBLES\n",
    "allregtable<-function(modeloreg,respuesta){\n",
    "  t1<-summary(regsubsets(model.matrix(modeloreg)[,-1],respuesta,nbest=20),all.best=TRUE)\n",
    "  t2<-as.vector(apply(t1$which[,-1],1,sum))\n",
    "  t3<-apply(t1$which[,-1],1,function(x) as.character(paste(colnames(\n",
    "    model.matrix(modeloreg)[,-1])[x],collapse=\" \")))\n",
    "  results<-data.frame(NoOfVars=t2,R2=round(t1$rsq,4),adjR2=round(t1$adjr2,4),\n",
    "                      SSE=round(t1$rss,5),Cp=round(t1$cp,4),\n",
    "                      #MSE=round(t1$rss/(nrow(model.matrix(modeloreg)[,-1])-(t2+1)),5),\n",
    "                      Variables.in.model=t3)\n",
    "  results\n",
    "}\n",
    "allregtable(modelo,Y)"
   ]
  },
  {
   "cell_type": "markdown",
   "metadata": {},
   "source": [
    "para este punto se toma la siguiente prueba de hipotesis: \n",
    "$$H_0: \\beta_2 = \\beta_4= \\beta5 =0$$\n",
    "$$H_1: \\beta_2 \\neq 0 \\vee \\beta_4 \\neq 0 \\vee \\beta_5 \\neq 0 $$\n",
    "De las tablas anteriores se obtiene que el valor de $F_*$ se define como sigue:\n",
    "$$F_* = \\frac{ \\frac{253.8342 - 243.9527}{2}}{\\frac{243.9527}{24}} = 0.48607$$\n",
    "\n",
    "de la tabla de fisher se obtiene el valor de $F_{0.05,3,24}= 3.009$ y se concluye $$F_* < F_{0.05,3,24}$$\n",
    "No se tienen argumentos para rechazar la hipotesis nula, por lo tanto se concluye que ninguno de los parametros enunciados es significtivo."
   ]
  },
  {
   "cell_type": "markdown",
   "metadata": {},
   "source": [
    "### 3. Use la información pertinente para determinar si la multicolinealidad es un problema potencial."
   ]
  },
  {
   "cell_type": "code",
   "execution_count": 13,
   "metadata": {
    "scrolled": false
   },
   "outputs": [],
   "source": [
    "##################################\n",
    "##PARA EVALUAR MULTICOLINEALIDAD##\n",
    "##################################\n",
    "\n",
    "\n",
    "#CREANDO FUNCIÓN PARA EXTRAER COEFICIENTES ESTIMADOS, SUS IC DEL 95%, VIF'S Y COEFICIENTES ESTANDARIZADOS\n",
    "miscoeficientes=function(modeloreg,datosreg){\n",
    "  coefi=coef(modeloreg)\n",
    "  datos2=as.data.frame(scale(datosreg))\n",
    "  coef.std=c(0,coef(lm(update(formula(modeloreg),~.+0),datos2)))\n",
    "  limites=confint(modeloreg,level=0.95)\n",
    "  vifs=c(0,vif(modeloreg))\n",
    "  resul=data.frame(Estimacion=coefi,Limites=limites,Vif=vifs,Coef.Std=coef.std)\n",
    "  cat(\"Coeficientes estimados, sus I.C, Vifs y Coeficientes estimados estandarizados\",\"\\n\")\n",
    "  resul\n",
    "}\n",
    "#CREANDO FUNCION PARA EXTRAER RESULTADOS PARA DIAGN?STICOS DE MULTICOLINEALIDAD\n",
    "misDiagnostcolin=function(modeloreg,centrar=F){\n",
    "  if(centrar==F){\n",
    "    X=model.matrix(modeloreg)\n",
    "    val.prop=prcomp(X,center=FALSE,scale=TRUE)$sdev^2\n",
    "    Ind=colldiag(modeloreg)\n",
    "    resul=data.frame(Val.propio=val.prop,Ind.Cond=Ind$condindx,Pi=Ind$pi)\n",
    "    cat(\"Diagnósticos Multicolinealidad - Intercepto incluido\",\"\\n\",\n",
    "        \"Indices de Condición y Proporciones de Varianza\",\"\\n\")\n",
    "  }\n",
    "  else{\n",
    "    X=model.matrix(modeloreg)[,-1]\n",
    "    val.prop=prcomp(X,center=TRUE,scale=TRUE)$sdev^2\n",
    "    Ind=colldiag(modeloreg,center=TRUE,scale=TRUE)\n",
    "    resul=data.frame(Val.propio=val.prop,Ind.Cond=Ind$condindx,Pi=Ind$pi)\n",
    "    cat(\"DiagnÓsticos Multicolinealidad - Intercepto ajustado\",\"\\n\",\n",
    "        \"Índices de Condición y Proporciones de Varianza\",\"\\n\")\n",
    "  }\n",
    "  resul\n",
    "}\n",
    "\n",
    "\n",
    "#misDiagnostcolin(modelo)\n",
    "#misDiagnostcolin(modelo,centrar=T)\n",
    "\n",
    "#MATRIZ DE CORRELACIÓN\n",
    "#plot(datos)\n"
   ]
  },
  {
   "cell_type": "markdown",
   "metadata": {},
   "source": [
    "Para estudiar la multicolinealidad del modelo, primero se utiliza el metodo de factor de inflación de varianza, para el cual se obtiene la siguiente tabla:"
   ]
  },
  {
   "cell_type": "code",
   "execution_count": 14,
   "metadata": {},
   "outputs": [
    {
     "name": "stdout",
     "output_type": "stream",
     "text": [
      "Coeficientes estimados, sus I.C, Vifs y Coeficientes estimados estandarizados \n"
     ]
    },
    {
     "data": {
      "text/html": [
       "<table>\n",
       "<thead><tr><th></th><th scope=col>Estimacion</th><th scope=col>Limites.2.5..</th><th scope=col>Limites.97.5..</th><th scope=col>Vif</th><th scope=col>Coef.Std</th></tr></thead>\n",
       "<tbody>\n",
       "\t<tr><th scope=row>(Intercept)</th><td> 8.963411230</td><td> 0.99054583 </td><td>16.9362766  </td><td>0.000000    </td><td> 0.000000000</td></tr>\n",
       "\t<tr><th scope=row>X1</th><td> 3.107643417</td><td> 1.99868108 </td><td> 4.2166058  </td><td>2.274322    </td><td> 0.741224000</td></tr>\n",
       "\t<tr><th scope=row>X2</th><td>-0.112221005</td><td>-0.96870994 </td><td> 0.7442679  </td><td>2.152043    </td><td>-0.033712193</td></tr>\n",
       "\t<tr><th scope=row>X3</th><td> 1.879014357</td><td> 0.06239572 </td><td> 3.6956330  </td><td>1.767142    </td><td> 0.241163276</td></tr>\n",
       "\t<tr><th scope=row>X4</th><td> 0.598984615</td><td>-0.87145558 </td><td> 2.0694248  </td><td>1.666236    </td><td> 0.092224352</td></tr>\n",
       "\t<tr><th scope=row>X5</th><td>-0.002084124</td><td>-0.08684715 </td><td> 0.0826789  </td><td>1.314460    </td><td>-0.004944245</td></tr>\n",
       "</tbody>\n",
       "</table>\n"
      ],
      "text/latex": [
       "\\begin{tabular}{r|lllll}\n",
       "  & Estimacion & Limites.2.5.. & Limites.97.5.. & Vif & Coef.Std\\\\\n",
       "\\hline\n",
       "\t(Intercept) &  8.963411230 &  0.99054583  & 16.9362766   & 0.000000     &  0.000000000\\\\\n",
       "\tX1 &  3.107643417 &  1.99868108  &  4.2166058   & 2.274322     &  0.741224000\\\\\n",
       "\tX2 & -0.112221005 & -0.96870994  &  0.7442679   & 2.152043     & -0.033712193\\\\\n",
       "\tX3 &  1.879014357 &  0.06239572  &  3.6956330   & 1.767142     &  0.241163276\\\\\n",
       "\tX4 &  0.598984615 & -0.87145558  &  2.0694248   & 1.666236     &  0.092224352\\\\\n",
       "\tX5 & -0.002084124 & -0.08684715  &  0.0826789   & 1.314460     & -0.004944245\\\\\n",
       "\\end{tabular}\n"
      ],
      "text/markdown": [
       "\n",
       "| <!--/--> | Estimacion | Limites.2.5.. | Limites.97.5.. | Vif | Coef.Std | \n",
       "|---|---|---|---|---|---|\n",
       "| (Intercept) |  8.963411230 |  0.99054583  | 16.9362766   | 0.000000     |  0.000000000 | \n",
       "| X1 |  3.107643417 |  1.99868108  |  4.2166058   | 2.274322     |  0.741224000 | \n",
       "| X2 | -0.112221005 | -0.96870994  |  0.7442679   | 2.152043     | -0.033712193 | \n",
       "| X3 |  1.879014357 |  0.06239572  |  3.6956330   | 1.767142     |  0.241163276 | \n",
       "| X4 |  0.598984615 | -0.87145558  |  2.0694248   | 1.666236     |  0.092224352 | \n",
       "| X5 | -0.002084124 | -0.08684715  |  0.0826789   | 1.314460     | -0.004944245 | \n",
       "\n",
       "\n"
      ],
      "text/plain": [
       "            Estimacion   Limites.2.5.. Limites.97.5.. Vif      Coef.Std    \n",
       "(Intercept)  8.963411230  0.99054583   16.9362766     0.000000  0.000000000\n",
       "X1           3.107643417  1.99868108    4.2166058     2.274322  0.741224000\n",
       "X2          -0.112221005 -0.96870994    0.7442679     2.152043 -0.033712193\n",
       "X3           1.879014357  0.06239572    3.6956330     1.767142  0.241163276\n",
       "X4           0.598984615 -0.87145558    2.0694248     1.666236  0.092224352\n",
       "X5          -0.002084124 -0.08684715    0.0826789     1.314460 -0.004944245"
      ]
     },
     "metadata": {},
     "output_type": "display_data"
    }
   ],
   "source": [
    "miscoeficientes(modelo,datos)"
   ]
  },
  {
   "cell_type": "markdown",
   "metadata": {},
   "source": [
    "para analizarla se tiene en cuenta la definición del factor de inflación de varianza $VIF_j$ \n",
    "$$VIF_j =\\frac{1}{1 − R^2_j}$$\n",
    "\n",
    "y se tienen en cuenta las siguientes consideraciones: \n",
    "* Si $VIF_j ≤ 5$, no hay multicolinealidad en el modelo j.\n",
    "* Si $5 < VIF_j ≤ 10 $, hay multicolinealidad moderada en el modelo j. \n",
    "* Si $VIF_j > 10$, hay multicolinealidad grave en el modelo j.\n",
    "\n",
    "ahora bien, del modelo se obtiene que el valor de este factor para todas las variables se halla entre $1.2 < VIF_j < 2.3$ por lo tanto, a partir de este criterio, se concluye que no hay multicolinealidad entre las variables\n"
   ]
  },
  {
   "cell_type": "code",
   "execution_count": 25,
   "metadata": {},
   "outputs": [
    {
     "data": {
      "text/html": [
       "<table>\n",
       "<thead><tr><th></th><th scope=col>Y</th><th scope=col>X1</th><th scope=col>X2</th><th scope=col>X3</th><th scope=col>X4</th><th scope=col>X5</th></tr></thead>\n",
       "<tbody>\n",
       "\t<tr><th scope=row>Y</th><td>1.0000000  </td><td> 0.87626460</td><td> 0.6078597 </td><td>0.6097624  </td><td>0.5505311  </td><td> 0.03283720</td></tr>\n",
       "\t<tr><th scope=row>X1</th><td>0.8762646  </td><td> 1.00000000</td><td> 0.6618219 </td><td>0.4660187  </td><td>0.4834967  </td><td>-0.07591009</td></tr>\n",
       "\t<tr><th scope=row>X2</th><td>0.6078597  </td><td> 0.66182194</td><td> 1.0000000 </td><td>0.5255517  </td><td>0.2564675  </td><td>-0.12485037</td></tr>\n",
       "\t<tr><th scope=row>X3</th><td>0.6097624  </td><td> 0.46601867</td><td> 0.5255517 </td><td>1.0000000  </td><td>0.4567898  </td><td> 0.24974096</td></tr>\n",
       "\t<tr><th scope=row>X4</th><td>0.5505311  </td><td> 0.48349665</td><td> 0.2564675 </td><td>0.4567898  </td><td>1.0000000  </td><td> 0.32107033</td></tr>\n",
       "\t<tr><th scope=row>X5</th><td>0.0328372  </td><td>-0.07591009</td><td>-0.1248504 </td><td>0.2497410  </td><td>0.3210703  </td><td> 1.00000000</td></tr>\n",
       "</tbody>\n",
       "</table>\n"
      ],
      "text/latex": [
       "\\begin{tabular}{r|llllll}\n",
       "  & Y & X1 & X2 & X3 & X4 & X5\\\\\n",
       "\\hline\n",
       "\tY & 1.0000000   &  0.87626460 &  0.6078597  & 0.6097624   & 0.5505311   &  0.03283720\\\\\n",
       "\tX1 & 0.8762646   &  1.00000000 &  0.6618219  & 0.4660187   & 0.4834967   & -0.07591009\\\\\n",
       "\tX2 & 0.6078597   &  0.66182194 &  1.0000000  & 0.5255517   & 0.2564675   & -0.12485037\\\\\n",
       "\tX3 & 0.6097624   &  0.46601867 &  0.5255517  & 1.0000000   & 0.4567898   &  0.24974096\\\\\n",
       "\tX4 & 0.5505311   &  0.48349665 &  0.2564675  & 0.4567898   & 1.0000000   &  0.32107033\\\\\n",
       "\tX5 & 0.0328372   & -0.07591009 & -0.1248504  & 0.2497410   & 0.3210703   &  1.00000000\\\\\n",
       "\\end{tabular}\n"
      ],
      "text/markdown": [
       "\n",
       "| <!--/--> | Y | X1 | X2 | X3 | X4 | X5 | \n",
       "|---|---|---|---|---|---|\n",
       "| Y | 1.0000000   |  0.87626460 |  0.6078597  | 0.6097624   | 0.5505311   |  0.03283720 | \n",
       "| X1 | 0.8762646   |  1.00000000 |  0.6618219  | 0.4660187   | 0.4834967   | -0.07591009 | \n",
       "| X2 | 0.6078597   |  0.66182194 |  1.0000000  | 0.5255517   | 0.2564675   | -0.12485037 | \n",
       "| X3 | 0.6097624   |  0.46601867 |  0.5255517  | 1.0000000   | 0.4567898   |  0.24974096 | \n",
       "| X4 | 0.5505311   |  0.48349665 |  0.2564675  | 0.4567898   | 1.0000000   |  0.32107033 | \n",
       "| X5 | 0.0328372   | -0.07591009 | -0.1248504  | 0.2497410   | 0.3210703   |  1.00000000 | \n",
       "\n",
       "\n"
      ],
      "text/plain": [
       "   Y         X1          X2         X3        X4        X5         \n",
       "Y  1.0000000  0.87626460  0.6078597 0.6097624 0.5505311  0.03283720\n",
       "X1 0.8762646  1.00000000  0.6618219 0.4660187 0.4834967 -0.07591009\n",
       "X2 0.6078597  0.66182194  1.0000000 0.5255517 0.2564675 -0.12485037\n",
       "X3 0.6097624  0.46601867  0.5255517 1.0000000 0.4567898  0.24974096\n",
       "X4 0.5505311  0.48349665  0.2564675 0.4567898 1.0000000  0.32107033\n",
       "X5 0.0328372 -0.07591009 -0.1248504 0.2497410 0.3210703  1.00000000"
      ]
     },
     "metadata": {},
     "output_type": "display_data"
    },
    {
     "data": {
      "image/png": "[encoded data removed]",
      "text/plain": [
       "plot without title"
      ]
     },
     "metadata": {},
     "output_type": "display_data"
    }
   ],
   "source": [
    "#MATRIZ DE CORRELACIÓN\n",
    "plot(datos)\n",
    "\n",
    "#MATRIZ DE CORRELACIONES PARA VARIABLES \n",
    "cor(datos)"
   ]
  },
  {
   "cell_type": "markdown",
   "metadata": {},
   "source": [
    "Usando el metodo de la matriz de correlaciones se tienen dos procesos: \n",
    "\n",
    "* Graficamente, Se obtiene la imagen anterior, en la cual se requiere que los datos graficados no sigan un patron Lineal.\n",
    "\n",
    "* Numericamente se espera que estos candidatos a tener multicolinealidad tengan un valor de $\\mid x \\mid > 0.5$ para confirmarlos.\n",
    "\n",
    "Para nuestro caso, se observa que la grafica de $X_2$ vs $X_1$ presenta un patron lineal claro y es la unica que lo presenta, además en la tabla numerica se encuentra que esta tiene un valor de $0.66182194$, por lo cual se conlcuye que a partir de este metodo, hay colinealidad entre $X_1$ y $X_2$.\n",
    "\n",
    "Además, de la tabla numérica se observa también que la relación entre $X_2$ y $X_3$ tiene un valor de $0.5255517$ sin embargo, esta relación no es tan clara en las graficas, no obstante es posible afirmar que tambien hay colinealidad entre $X_2$ y $X_3$\n",
    "\n"
   ]
  },
  {
   "cell_type": "code",
   "execution_count": 26,
   "metadata": {},
   "outputs": [
    {
     "name": "stdout",
     "output_type": "stream",
     "text": [
      "Diagnósticos Multicolinealidad - Intercepto incluido \n",
      " Indices de Condición y Proporciones de Varianza \n"
     ]
    },
    {
     "data": {
      "text/html": [
       "<table>\n",
       "<thead><tr><th scope=col>Val.propio</th><th scope=col>cond.index</th><th scope=col>Pi.intercept</th><th scope=col>Pi.X1</th><th scope=col>Pi.X2</th><th scope=col>Pi.X3</th><th scope=col>Pi.X4</th><th scope=col>Pi.X5</th></tr></thead>\n",
       "<tbody>\n",
       "\t<tr><td>5.59108571  </td><td> 1.000000   </td><td>0.0007004781</td><td>0.0008286118</td><td>0.001413757 </td><td>0.003779737 </td><td>0.0005226223</td><td>0.003700272 </td></tr>\n",
       "\t<tr><td>0.18820528  </td><td> 5.450448   </td><td>0.0015189560</td><td>0.0059312855</td><td>0.037962414 </td><td>0.107484437 </td><td>0.0007718134</td><td>0.452022687 </td></tr>\n",
       "\t<tr><td>0.14903428  </td><td> 6.124984   </td><td>0.0200980166</td><td>0.0136728103</td><td>0.011039768 </td><td>0.565296764 </td><td>0.0048897770</td><td>0.079607897 </td></tr>\n",
       "\t<tr><td>0.03923823  </td><td>11.936950   </td><td>0.0632778323</td><td>0.0012919286</td><td>0.638154966 </td><td>0.187669890 </td><td>0.0809228489</td><td>0.374710989 </td></tr>\n",
       "\t<tr><td>0.02177954  </td><td>16.022259   </td><td>0.2948674342</td><td>0.7681323223</td><td>0.162494514 </td><td>0.037329157 </td><td>0.0001440654</td><td>0.069723149 </td></tr>\n",
       "\t<tr><td>0.01065696  </td><td>22.905057   </td><td>0.6195372827</td><td>0.2101430415</td><td>0.148934581 </td><td>0.098440015 </td><td>0.9127488731</td><td>0.020235005 </td></tr>\n",
       "</tbody>\n",
       "</table>\n"
      ],
      "text/latex": [
       "\\begin{tabular}{r|llllllll}\n",
       " Val.propio & cond.index & Pi.intercept & Pi.X1 & Pi.X2 & Pi.X3 & Pi.X4 & Pi.X5\\\\\n",
       "\\hline\n",
       "\t 5.59108571   &  1.000000    & 0.0007004781 & 0.0008286118 & 0.001413757  & 0.003779737  & 0.0005226223 & 0.003700272 \\\\\n",
       "\t 0.18820528   &  5.450448    & 0.0015189560 & 0.0059312855 & 0.037962414  & 0.107484437  & 0.0007718134 & 0.452022687 \\\\\n",
       "\t 0.14903428   &  6.124984    & 0.0200980166 & 0.0136728103 & 0.011039768  & 0.565296764  & 0.0048897770 & 0.079607897 \\\\\n",
       "\t 0.03923823   & 11.936950    & 0.0632778323 & 0.0012919286 & 0.638154966  & 0.187669890  & 0.0809228489 & 0.374710989 \\\\\n",
       "\t 0.02177954   & 16.022259    & 0.2948674342 & 0.7681323223 & 0.162494514  & 0.037329157  & 0.0001440654 & 0.069723149 \\\\\n",
       "\t 0.01065696   & 22.905057    & 0.6195372827 & 0.2101430415 & 0.148934581  & 0.098440015  & 0.9127488731 & 0.020235005 \\\\\n",
       "\\end{tabular}\n"
      ],
      "text/markdown": [
       "\n",
       "Val.propio | cond.index | Pi.intercept | Pi.X1 | Pi.X2 | Pi.X3 | Pi.X4 | Pi.X5 | \n",
       "|---|---|---|---|---|---|\n",
       "| 5.59108571   |  1.000000    | 0.0007004781 | 0.0008286118 | 0.001413757  | 0.003779737  | 0.0005226223 | 0.003700272  | \n",
       "| 0.18820528   |  5.450448    | 0.0015189560 | 0.0059312855 | 0.037962414  | 0.107484437  | 0.0007718134 | 0.452022687  | \n",
       "| 0.14903428   |  6.124984    | 0.0200980166 | 0.0136728103 | 0.011039768  | 0.565296764  | 0.0048897770 | 0.079607897  | \n",
       "| 0.03923823   | 11.936950    | 0.0632778323 | 0.0012919286 | 0.638154966  | 0.187669890  | 0.0809228489 | 0.374710989  | \n",
       "| 0.02177954   | 16.022259    | 0.2948674342 | 0.7681323223 | 0.162494514  | 0.037329157  | 0.0001440654 | 0.069723149  | \n",
       "| 0.01065696   | 22.905057    | 0.6195372827 | 0.2101430415 | 0.148934581  | 0.098440015  | 0.9127488731 | 0.020235005  | \n",
       "\n",
       "\n"
      ],
      "text/plain": [
       "  Val.propio cond.index Pi.intercept Pi.X1        Pi.X2       Pi.X3      \n",
       "1 5.59108571  1.000000  0.0007004781 0.0008286118 0.001413757 0.003779737\n",
       "2 0.18820528  5.450448  0.0015189560 0.0059312855 0.037962414 0.107484437\n",
       "3 0.14903428  6.124984  0.0200980166 0.0136728103 0.011039768 0.565296764\n",
       "4 0.03923823 11.936950  0.0632778323 0.0012919286 0.638154966 0.187669890\n",
       "5 0.02177954 16.022259  0.2948674342 0.7681323223 0.162494514 0.037329157\n",
       "6 0.01065696 22.905057  0.6195372827 0.2101430415 0.148934581 0.098440015\n",
       "  Pi.X4        Pi.X5      \n",
       "1 0.0005226223 0.003700272\n",
       "2 0.0007718134 0.452022687\n",
       "3 0.0048897770 0.079607897\n",
       "4 0.0809228489 0.374710989\n",
       "5 0.0001440654 0.069723149\n",
       "6 0.9127488731 0.020235005"
      ]
     },
     "metadata": {},
     "output_type": "display_data"
    }
   ],
   "source": [
    "misDiagnostcolin(modelo)\n",
    "#misDiagnostcolin(modelo,centrar=T)"
   ]
  },
  {
   "cell_type": "markdown",
   "metadata": {},
   "source": [
    "Por ultimo se usará el criterio del ́ındice de condicion del sistema de valores propios, el cual  indica que:\n",
    "* $K_j <10$ no hay problemas de multicolinealidad\n",
    "* $10< K_j <31.6$ hay problemas de multicolinealidad moderada\n",
    "* $K_j > 31.6$ hay problemas de multicolinealidad graves\n",
    "\n",
    " * Ya que $\\beta_0$ tiene interpretación estadistica, se debe tomar la tabla sin centrar.\n",
    " * cuando se halla multicolinealidad, se buscan dos valores mayores a 0.5 entre las variables para encontrar la multicolinealidad entre las variables.\n",
    "\n",
    "\n",
    "\n",
    "Para este modelo se puede observar que el indice para $X_3$, $X_4$ y $X_5$ muestran problemas de multicolinealidad moderados, sin embargo no hay más de un valor mayor a 0.5 en ningúna de estas variables, por lo cual, no se puede concluir una relación de multicolinealidad entre las variables.\n"
   ]
  },
  {
   "cell_type": "markdown",
   "metadata": {},
   "source": [
    "## 4. Usando el método backward determine cuales son las predictoras que deben estar en el modelo. ¿ Concuerda este modelo con el determinado en primer inciso? Además use los otros criterios vistos en clase para mostrar 2 candidatos a mejor modelo. Argumente."
   ]
  },
  {
   "cell_type": "code",
   "execution_count": null,
   "metadata": {},
   "outputs": [],
   "source": []
  },
  {
   "cell_type": "code",
   "execution_count": 27,
   "metadata": {},
   "outputs": [
    {
     "data": {
      "text/html": [
       "<table>\n",
       "<thead><tr><th scope=col>NoOfVars</th><th scope=col>R2</th><th scope=col>adjR2</th><th scope=col>SSE</th><th scope=col>Cp</th><th scope=col>Variables.in.model</th></tr></thead>\n",
       "<tbody>\n",
       "\t<tr><td>1             </td><td>0.7678        </td><td> 0.7595       </td><td> 326.7691     </td><td>  6.1475      </td><td>X1            </td></tr>\n",
       "\t<tr><td>1             </td><td>0.3718        </td><td> 0.3494       </td><td> 884.1864     </td><td> 60.9860      </td><td>X3            </td></tr>\n",
       "\t<tr><td>1             </td><td>0.3695        </td><td> 0.3470       </td><td> 887.4472     </td><td> 61.3068      </td><td>X2            </td></tr>\n",
       "\t<tr><td>1             </td><td>0.3031        </td><td> 0.2782       </td><td> 980.9188     </td><td> 70.5025      </td><td>X4            </td></tr>\n",
       "\t<tr><td>1             </td><td>0.0011        </td><td>-0.0346       </td><td>1405.9970     </td><td>112.3216      </td><td>X5            </td></tr>\n",
       "\t<tr><td>2             </td><td>0.8197        </td><td> 0.8063       </td><td> 253.8342     </td><td>  0.9721      </td><td>X1 X3         </td></tr>\n",
       "\t<tr><td>2             </td><td>0.7888        </td><td> 0.7732       </td><td> 297.2065     </td><td>  5.2391      </td><td>X1 X4         </td></tr>\n",
       "\t<tr><td>2             </td><td>0.7778        </td><td> 0.7613       </td><td> 312.7945     </td><td>  6.7726      </td><td>X1 X5         </td></tr>\n",
       "\t<tr><td>2             </td><td>0.7692        </td><td> 0.7521       </td><td> 324.8155     </td><td>  7.9553      </td><td>X1 X2         </td></tr>\n",
       "\t<tr><td>2             </td><td>0.5362        </td><td> 0.5018       </td><td> 652.8124     </td><td> 40.2235      </td><td>X2 X4         </td></tr>\n",
       "\t<tr><td>2             </td><td>0.4859        </td><td> 0.4478       </td><td> 723.5645     </td><td> 47.1841      </td><td>X2 X3         </td></tr>\n",
       "\t<tr><td>2             </td><td>0.4653        </td><td> 0.4257       </td><td> 752.5976     </td><td> 50.0403      </td><td>X3 X4         </td></tr>\n",
       "\t<tr><td>2             </td><td>0.3870        </td><td> 0.3416       </td><td> 862.7693     </td><td> 60.8790      </td><td>X3 X5         </td></tr>\n",
       "\t<tr><td>2             </td><td>0.3815        </td><td> 0.3357       </td><td> 870.5442     </td><td> 61.6439      </td><td>X2 X5         </td></tr>\n",
       "\t<tr><td>2             </td><td>0.3262        </td><td> 0.2763       </td><td> 948.4134     </td><td> 69.3046      </td><td>X4 X5         </td></tr>\n",
       "\t<tr><td>3             </td><td>0.8262        </td><td> 0.8061       </td><td> 244.6963     </td><td>  2.0732      </td><td>X1 X3 X4      </td></tr>\n",
       "\t<tr><td>3             </td><td>0.8212        </td><td> 0.8006       </td><td> 251.6452     </td><td>  2.7568      </td><td>X1 X2 X3      </td></tr>\n",
       "\t<tr><td>3             </td><td>0.8204        </td><td> 0.7997       </td><td> 252.7657     </td><td>  2.8670      </td><td>X1 X3 X5      </td></tr>\n",
       "\t<tr><td>3             </td><td>0.7915        </td><td> 0.7674       </td><td> 293.4697     </td><td>  6.8715      </td><td>X1 X2 X4      </td></tr>\n",
       "\t<tr><td>3             </td><td>0.7908        </td><td> 0.7666       </td><td> 294.4675     </td><td>  6.9696      </td><td>X1 X4 X5      </td></tr>\n",
       "\t<tr><td>3             </td><td>0.7800        </td><td> 0.7546       </td><td> 309.6272     </td><td>  8.4610      </td><td>X1 X2 X5      </td></tr>\n",
       "\t<tr><td>3             </td><td>0.5750        </td><td> 0.5260       </td><td> 598.1425     </td><td> 36.8451      </td><td>X2 X3 X4      </td></tr>\n",
       "\t<tr><td>3             </td><td>0.5381        </td><td> 0.4848       </td><td> 650.1096     </td><td> 41.9576      </td><td>X2 X4 X5      </td></tr>\n",
       "\t<tr><td>3             </td><td>0.5064        </td><td> 0.4495       </td><td> 694.7266     </td><td> 46.3470      </td><td>X3 X4 X5      </td></tr>\n",
       "\t<tr><td>3             </td><td>0.4863        </td><td> 0.4270       </td><td> 723.0407     </td><td> 49.1325      </td><td>X2 X3 X5      </td></tr>\n",
       "\t<tr><td>4             </td><td>0.8267        </td><td> 0.7989       </td><td> 243.9789     </td><td>  4.0026      </td><td>X1 X2 X3 X4   </td></tr>\n",
       "\t<tr><td>4             </td><td>0.8262        </td><td> 0.7983       </td><td> 244.6961     </td><td>  4.0731      </td><td>X1 X3 X4 X5   </td></tr>\n",
       "\t<tr><td>4             </td><td>0.8216        </td><td> 0.7930       </td><td> 251.1374     </td><td>  4.7068      </td><td>X1 X2 X3 X5   </td></tr>\n",
       "\t<tr><td>4             </td><td>0.7938        </td><td> 0.7608       </td><td> 290.2765     </td><td>  8.5573      </td><td>X1 X2 X4 X5   </td></tr>\n",
       "\t<tr><td>4             </td><td>0.5851        </td><td> 0.5187       </td><td> 583.9692     </td><td> 37.4507      </td><td>X2 X3 X4 X5   </td></tr>\n",
       "\t<tr><td>5             </td><td>0.8267        </td><td> 0.7906       </td><td> 243.9527     </td><td>  6.0000      </td><td>X1 X2 X3 X4 X5</td></tr>\n",
       "</tbody>\n",
       "</table>\n"
      ],
      "text/latex": [
       "\\begin{tabular}{r|llllll}\n",
       " NoOfVars & R2 & adjR2 & SSE & Cp & Variables.in.model\\\\\n",
       "\\hline\n",
       "\t 1              & 0.7678         &  0.7595        &  326.7691      &   6.1475       & X1            \\\\\n",
       "\t 1              & 0.3718         &  0.3494        &  884.1864      &  60.9860       & X3            \\\\\n",
       "\t 1              & 0.3695         &  0.3470        &  887.4472      &  61.3068       & X2            \\\\\n",
       "\t 1              & 0.3031         &  0.2782        &  980.9188      &  70.5025       & X4            \\\\\n",
       "\t 1              & 0.0011         & -0.0346        & 1405.9970      & 112.3216       & X5            \\\\\n",
       "\t 2              & 0.8197         &  0.8063        &  253.8342      &   0.9721       & X1 X3         \\\\\n",
       "\t 2              & 0.7888         &  0.7732        &  297.2065      &   5.2391       & X1 X4         \\\\\n",
       "\t 2              & 0.7778         &  0.7613        &  312.7945      &   6.7726       & X1 X5         \\\\\n",
       "\t 2              & 0.7692         &  0.7521        &  324.8155      &   7.9553       & X1 X2         \\\\\n",
       "\t 2              & 0.5362         &  0.5018        &  652.8124      &  40.2235       & X2 X4         \\\\\n",
       "\t 2              & 0.4859         &  0.4478        &  723.5645      &  47.1841       & X2 X3         \\\\\n",
       "\t 2              & 0.4653         &  0.4257        &  752.5976      &  50.0403       & X3 X4         \\\\\n",
       "\t 2              & 0.3870         &  0.3416        &  862.7693      &  60.8790       & X3 X5         \\\\\n",
       "\t 2              & 0.3815         &  0.3357        &  870.5442      &  61.6439       & X2 X5         \\\\\n",
       "\t 2              & 0.3262         &  0.2763        &  948.4134      &  69.3046       & X4 X5         \\\\\n",
       "\t 3              & 0.8262         &  0.8061        &  244.6963      &   2.0732       & X1 X3 X4      \\\\\n",
       "\t 3              & 0.8212         &  0.8006        &  251.6452      &   2.7568       & X1 X2 X3      \\\\\n",
       "\t 3              & 0.8204         &  0.7997        &  252.7657      &   2.8670       & X1 X3 X5      \\\\\n",
       "\t 3              & 0.7915         &  0.7674        &  293.4697      &   6.8715       & X1 X2 X4      \\\\\n",
       "\t 3              & 0.7908         &  0.7666        &  294.4675      &   6.9696       & X1 X4 X5      \\\\\n",
       "\t 3              & 0.7800         &  0.7546        &  309.6272      &   8.4610       & X1 X2 X5      \\\\\n",
       "\t 3              & 0.5750         &  0.5260        &  598.1425      &  36.8451       & X2 X3 X4      \\\\\n",
       "\t 3              & 0.5381         &  0.4848        &  650.1096      &  41.9576       & X2 X4 X5      \\\\\n",
       "\t 3              & 0.5064         &  0.4495        &  694.7266      &  46.3470       & X3 X4 X5      \\\\\n",
       "\t 3              & 0.4863         &  0.4270        &  723.0407      &  49.1325       & X2 X3 X5      \\\\\n",
       "\t 4              & 0.8267         &  0.7989        &  243.9789      &   4.0026       & X1 X2 X3 X4   \\\\\n",
       "\t 4              & 0.8262         &  0.7983        &  244.6961      &   4.0731       & X1 X3 X4 X5   \\\\\n",
       "\t 4              & 0.8216         &  0.7930        &  251.1374      &   4.7068       & X1 X2 X3 X5   \\\\\n",
       "\t 4              & 0.7938         &  0.7608        &  290.2765      &   8.5573       & X1 X2 X4 X5   \\\\\n",
       "\t 4              & 0.5851         &  0.5187        &  583.9692      &  37.4507       & X2 X3 X4 X5   \\\\\n",
       "\t 5              & 0.8267         &  0.7906        &  243.9527      &   6.0000       & X1 X2 X3 X4 X5\\\\\n",
       "\\end{tabular}\n"
      ],
      "text/markdown": [
       "\n",
       "NoOfVars | R2 | adjR2 | SSE | Cp | Variables.in.model | \n",
       "|---|---|---|---|---|---|---|---|---|---|---|---|---|---|---|---|---|---|---|---|---|---|---|---|---|---|---|---|---|---|---|\n",
       "| 1              | 0.7678         |  0.7595        |  326.7691      |   6.1475       | X1             | \n",
       "| 1              | 0.3718         |  0.3494        |  884.1864      |  60.9860       | X3             | \n",
       "| 1              | 0.3695         |  0.3470        |  887.4472      |  61.3068       | X2             | \n",
       "| 1              | 0.3031         |  0.2782        |  980.9188      |  70.5025       | X4             | \n",
       "| 1              | 0.0011         | -0.0346        | 1405.9970      | 112.3216       | X5             | \n",
       "| 2              | 0.8197         |  0.8063        |  253.8342      |   0.9721       | X1 X3          | \n",
       "| 2              | 0.7888         |  0.7732        |  297.2065      |   5.2391       | X1 X4          | \n",
       "| 2              | 0.7778         |  0.7613        |  312.7945      |   6.7726       | X1 X5          | \n",
       "| 2              | 0.7692         |  0.7521        |  324.8155      |   7.9553       | X1 X2          | \n",
       "| 2              | 0.5362         |  0.5018        |  652.8124      |  40.2235       | X2 X4          | \n",
       "| 2              | 0.4859         |  0.4478        |  723.5645      |  47.1841       | X2 X3          | \n",
       "| 2              | 0.4653         |  0.4257        |  752.5976      |  50.0403       | X3 X4          | \n",
       "| 2              | 0.3870         |  0.3416        |  862.7693      |  60.8790       | X3 X5          | \n",
       "| 2              | 0.3815         |  0.3357        |  870.5442      |  61.6439       | X2 X5          | \n",
       "| 2              | 0.3262         |  0.2763        |  948.4134      |  69.3046       | X4 X5          | \n",
       "| 3              | 0.8262         |  0.8061        |  244.6963      |   2.0732       | X1 X3 X4       | \n",
       "| 3              | 0.8212         |  0.8006        |  251.6452      |   2.7568       | X1 X2 X3       | \n",
       "| 3              | 0.8204         |  0.7997        |  252.7657      |   2.8670       | X1 X3 X5       | \n",
       "| 3              | 0.7915         |  0.7674        |  293.4697      |   6.8715       | X1 X2 X4       | \n",
       "| 3              | 0.7908         |  0.7666        |  294.4675      |   6.9696       | X1 X4 X5       | \n",
       "| 3              | 0.7800         |  0.7546        |  309.6272      |   8.4610       | X1 X2 X5       | \n",
       "| 3              | 0.5750         |  0.5260        |  598.1425      |  36.8451       | X2 X3 X4       | \n",
       "| 3              | 0.5381         |  0.4848        |  650.1096      |  41.9576       | X2 X4 X5       | \n",
       "| 3              | 0.5064         |  0.4495        |  694.7266      |  46.3470       | X3 X4 X5       | \n",
       "| 3              | 0.4863         |  0.4270        |  723.0407      |  49.1325       | X2 X3 X5       | \n",
       "| 4              | 0.8267         |  0.7989        |  243.9789      |   4.0026       | X1 X2 X3 X4    | \n",
       "| 4              | 0.8262         |  0.7983        |  244.6961      |   4.0731       | X1 X3 X4 X5    | \n",
       "| 4              | 0.8216         |  0.7930        |  251.1374      |   4.7068       | X1 X2 X3 X5    | \n",
       "| 4              | 0.7938         |  0.7608        |  290.2765      |   8.5573       | X1 X2 X4 X5    | \n",
       "| 4              | 0.5851         |  0.5187        |  583.9692      |  37.4507       | X2 X3 X4 X5    | \n",
       "| 5              | 0.8267         |  0.7906        |  243.9527      |   6.0000       | X1 X2 X3 X4 X5 | \n",
       "\n",
       "\n"
      ],
      "text/plain": [
       "   NoOfVars R2     adjR2   SSE       Cp       Variables.in.model\n",
       "1  1        0.7678  0.7595  326.7691   6.1475 X1                \n",
       "2  1        0.3718  0.3494  884.1864  60.9860 X3                \n",
       "3  1        0.3695  0.3470  887.4472  61.3068 X2                \n",
       "4  1        0.3031  0.2782  980.9188  70.5025 X4                \n",
       "5  1        0.0011 -0.0346 1405.9970 112.3216 X5                \n",
       "6  2        0.8197  0.8063  253.8342   0.9721 X1 X3             \n",
       "7  2        0.7888  0.7732  297.2065   5.2391 X1 X4             \n",
       "8  2        0.7778  0.7613  312.7945   6.7726 X1 X5             \n",
       "9  2        0.7692  0.7521  324.8155   7.9553 X1 X2             \n",
       "10 2        0.5362  0.5018  652.8124  40.2235 X2 X4             \n",
       "11 2        0.4859  0.4478  723.5645  47.1841 X2 X3             \n",
       "12 2        0.4653  0.4257  752.5976  50.0403 X3 X4             \n",
       "13 2        0.3870  0.3416  862.7693  60.8790 X3 X5             \n",
       "14 2        0.3815  0.3357  870.5442  61.6439 X2 X5             \n",
       "15 2        0.3262  0.2763  948.4134  69.3046 X4 X5             \n",
       "16 3        0.8262  0.8061  244.6963   2.0732 X1 X3 X4          \n",
       "17 3        0.8212  0.8006  251.6452   2.7568 X1 X2 X3          \n",
       "18 3        0.8204  0.7997  252.7657   2.8670 X1 X3 X5          \n",
       "19 3        0.7915  0.7674  293.4697   6.8715 X1 X2 X4          \n",
       "20 3        0.7908  0.7666  294.4675   6.9696 X1 X4 X5          \n",
       "21 3        0.7800  0.7546  309.6272   8.4610 X1 X2 X5          \n",
       "22 3        0.5750  0.5260  598.1425  36.8451 X2 X3 X4          \n",
       "23 3        0.5381  0.4848  650.1096  41.9576 X2 X4 X5          \n",
       "24 3        0.5064  0.4495  694.7266  46.3470 X3 X4 X5          \n",
       "25 3        0.4863  0.4270  723.0407  49.1325 X2 X3 X5          \n",
       "26 4        0.8267  0.7989  243.9789   4.0026 X1 X2 X3 X4       \n",
       "27 4        0.8262  0.7983  244.6961   4.0731 X1 X3 X4 X5       \n",
       "28 4        0.8216  0.7930  251.1374   4.7068 X1 X2 X3 X5       \n",
       "29 4        0.7938  0.7608  290.2765   8.5573 X1 X2 X4 X5       \n",
       "30 4        0.5851  0.5187  583.9692  37.4507 X2 X3 X4 X5       \n",
       "31 5        0.8267  0.7906  243.9527   6.0000 X1 X2 X3 X4 X5    "
      ]
     },
     "metadata": {},
     "output_type": "display_data"
    }
   ],
   "source": [
    "allregtable(modelo,Y)"
   ]
  }
 ],
 "metadata": {
  "kernelspec": {
   "display_name": "R",
   "language": "R",
   "name": "ir"
  },
  "language_info": {
   "codemirror_mode": "r",
   "file_extension": ".r",
   "mimetype": "text/x-r-source",
   "name": "R",
   "pygments_lexer": "r",
   "version": "3.4.3"
  }
 },
 "nbformat": 4,
 "nbformat_minor": 2
}
